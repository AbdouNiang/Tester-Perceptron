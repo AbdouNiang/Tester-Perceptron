{
 "cells": [
  {
   "cell_type": "code",
   "execution_count": 1,
   "id": "21800aea",
   "metadata": {},
   "outputs": [],
   "source": [
    "import numpy as np\n",
    "import matplotlib.pyplot as plt "
   ]
  },
  {
   "cell_type": "code",
   "execution_count": 2,
   "id": "1638b3bb",
   "metadata": {},
   "outputs": [
    {
     "name": "stdout",
     "output_type": "stream",
     "text": [
      "nombre données d apprentissage :  104\n",
      "nombre données test :  104\n",
      "nombre de données total :  208\n"
     ]
    }
   ],
   "source": [
    "train = []\n",
    "test = []\n",
    "all_data = []\n",
    "\n",
    "labels = {'R':-1,'M':1}\n",
    "y_train = []\n",
    "y_test = []\n",
    "y_all_data = []\n",
    "file_name = [['M',\"sonar.mines\"],['R',\"sonar.rocks\"]]\n",
    "for file in file_name:\n",
    "    f = open(file[1], \"r\")\n",
    "    Lines = f.readlines()\n",
    "    count = 0\n",
    "    action = False\n",
    "    data_type = ''\n",
    "    # Strips the newline character\n",
    "    data = []\n",
    "    for line in Lines:\n",
    "        # recuperation seulement des ligne commencant par * et C, puis de les classer en train et test\n",
    "        # en train notre ligne commence par *\n",
    "        if line[0] == '*':\n",
    "            action = True\n",
    "            data_type = 'Train'\n",
    "        #en test si notre ligne commence par C\n",
    "        elif line[0] == 'C':\n",
    "            action = True\n",
    "            data_type = 'Test'\n",
    "            \n",
    "        else:\n",
    "            if action == True :\n",
    "                l = line.split() # si la ligne commence par * ou C on met la ligne sous forme de liste\n",
    "                #print(l)\n",
    "                if len(l) == 6: #si le lenght de notre liste est = à 6 c'est à contenant les chiffre on le met sur \n",
    "                    data.extend(l)\n",
    "                if len(l) == 0: \n",
    "                    data[0] = data[0][1:] # suppression de l'accolate { se trouvant au debut\n",
    "                    data[len(data) - 1] = data[len(data) - 1][:-1] #suppression de l'accolate } se trouvant a la fin\n",
    "                    data = np.array(data)\n",
    "                    #print(data)\n",
    "                   # data = data.astype(np.float)\n",
    "                    if data_type == 'Train':\n",
    "                        train.append(list(data))\n",
    "                        y_train.append(labels[file[0]])\n",
    "                        all_data.append(list(data))\n",
    "                        y_all_data.append(labels[file[0]])\n",
    "                    else:\n",
    "                        test.append(list(data))\n",
    "                        y_test.append(labels[file[0]])\n",
    "                        all_data.append(list(data))\n",
    "                        y_all_data.append(labels[file[0]])\n",
    "                    data = []\n",
    "                    action = False\n",
    "\n",
    "\n",
    "print('nombre données d apprentissage : ',len(train))\n",
    "print('nombre données test : ',len(test))\n",
    "print('nombre de données total : ',len(all_data))"
   ]
  },
  {
   "cell_type": "code",
   "execution_count": 3,
   "id": "1473c034",
   "metadata": {},
   "outputs": [],
   "source": [
    "np.savetxt(\"train.txt\", np.array(train), fmt=\"%s\")\n",
    "np.savetxt(\"train_labels.txt\", np.array(y_train), fmt=\"%s\")\n",
    "np.savetxt(\"test.txt\", np.array(test), fmt=\"%s\")\n",
    "np.savetxt(\"test_labels.txt\", np.array(y_test), fmt=\"%s\")\n",
    "np.savetxt(\"all_data.txt\", np.array(all_data), fmt=\"%s\")\n",
    "np.savetxt(\"all_data_labels.txt\", np.array(y_all_data), fmt=\"%s\")"
   ]
  },
  {
   "cell_type": "code",
   "execution_count": 4,
   "id": "dd9d9857",
   "metadata": {},
   "outputs": [],
   "source": [
    "train = np.loadtxt(\"train.txt\")\n",
    "test = np.loadtxt(\"test.txt\")\n",
    "data = np.loadtxt(\"all_data.txt\")\n",
    "\n",
    "train_label = np.loadtxt(\"train_labels.txt\")\n",
    "test_label = np.loadtxt(\"test_labels.txt\")\n",
    "data_label = np.loadtxt(\"all_data_labels.txt\")"
   ]
  },
  {
   "cell_type": "code",
   "execution_count": 5,
   "id": "38370da5",
   "metadata": {},
   "outputs": [
    {
     "data": {
      "text/plain": [
       "(104, 60)"
      ]
     },
     "execution_count": 5,
     "metadata": {},
     "output_type": "execute_result"
    }
   ],
   "source": [
    "train.shape"
   ]
  },
  {
   "cell_type": "markdown",
   "id": "3f10dd8b",
   "metadata": {},
   "source": [
    "# Parti I"
   ]
  },
  {
   "cell_type": "markdown",
   "id": "1a119048",
   "metadata": {},
   "source": [
    "# J'ai choisi d'utiliser l'algorithm de perceptron version batch car il contient moins d'itération et le temps de convergence sur mon TP1 etait plus rapide"
   ]
  },
  {
   "cell_type": "code",
   "execution_count": 6,
   "id": "b5a5f540",
   "metadata": {},
   "outputs": [],
   "source": [
    "def perceptron_version_batch(P, N, X, TAU, alpha):\n",
    "    #initialisation des Poids\n",
    "    Weight = np.random.uniform(-1,1,(N+1,1))\n",
    "    DeltaWeight = np.zeros((N+1,1))\n",
    "    X = np.append(np.ones((P,1)),X,axis=1)  \n",
    "    #IT=0\n",
    "    k=0\n",
    "    while True :\n",
    "        #IT+=1\n",
    "        Y = np.sign(np.dot(X,Weight))\n",
    "        if np.array_equal(Y,TAU) is True:\n",
    "            break\n",
    "            #ajustements des poids\n",
    "        else:\n",
    "            DeltaWeight = alpha*(np.dot(X.T,(TAU - Y)))\n",
    "            Weight = Weight + DeltaWeight\n",
    "    #print('Le  poid w est :','\\n', Weight)\n",
    "        #k+=1\n",
    "        \n",
    "    return Weight"
   ]
  },
  {
   "cell_type": "markdown",
   "id": "927b055a",
   "metadata": {},
   "source": [
    "# fonction erreur  pour calculer l'Ea et Eg"
   ]
  },
  {
   "cell_type": "code",
   "execution_count": 7,
   "id": "bfb34a51",
   "metadata": {},
   "outputs": [],
   "source": [
    "def erreur(X, W, tau):\n",
    "    ones = np.ones((len(X),1))\n",
    "    X_new = np.append(ones,X,axis=1)\n",
    "    y = np.sign(X_new@W)\n",
    "    return np.sum(y != tau)"
   ]
  },
  {
   "cell_type": "markdown",
   "id": "373c18fb",
   "metadata": {},
   "source": [
    "# la stabilité gamma"
   ]
  },
  {
   "cell_type": "code",
   "execution_count": 8,
   "id": "98a29166",
   "metadata": {},
   "outputs": [],
   "source": [
    "def gamma(X, W, tau):\n",
    "    ones = np.ones((len(X),1))\n",
    "    X_new = np.append(ones,X,axis=1)\n",
    "    return tau*(X_new@W)/np.linalg.norm(W)"
   ]
  },
  {
   "cell_type": "code",
   "execution_count": 9,
   "id": "4975ed41",
   "metadata": {},
   "outputs": [],
   "source": [
    "def plot_stabilite(gamma) :\n",
    "    plt.hist(gamma,bins=60)\n",
    "    plt.xlabel('gamma')\n",
    "    plt.ylabel('Nbre exemples')\n",
    "    plt.show()\n"
   ]
  },
  {
   "cell_type": "code",
   "execution_count": 10,
   "id": "866c03f6",
   "metadata": {
    "scrolled": true
   },
   "outputs": [
    {
     "name": "stdout",
     "output_type": "stream",
     "text": [
      "===== Affichage N+1 Poids W ==============\n",
      "le N+1 poid est :  \n",
      " [ -97.59370889   83.30464029  210.82783467   38.33899339  110.29577166\n",
      "   72.7514072   143.85641112  -64.67613896 -158.14848582    8.56377583\n",
      "  107.44613065   39.40800534   13.52500482    2.50607866    4.19112908\n",
      "   58.80201602 -194.93536667  -55.61782494  202.58424617  -37.96450241\n",
      "  -10.16647537  -39.16076343   59.9656041   -44.44622684  107.910952\n",
      "  -11.86599739  -13.00557167   11.1672445   -20.50451042  -19.22759559\n",
      "  204.11702886 -305.38951699  232.01181951 -159.90950211   73.85068469\n",
      "  -40.24848693  -21.08138266  -38.52775193  -20.81968008  170.183523\n",
      " -152.3339456    63.10641422  -13.86356271  -11.56570923  -65.76728597\n",
      "  119.45601557  104.03837512 -106.05093168  209.89522295  289.03608273\n",
      " -128.81707905   52.98836151   51.56759829   29.77964848   82.43212574\n",
      "  -12.21430306  -23.21586375  -54.39944421   33.71965812  -14.12824508\n",
      "  -16.5430189 ]\n"
     ]
    }
   ],
   "source": [
    "P = 104\n",
    "N = 60\n",
    "tau = train_label.reshape((P,1))\n",
    "alpha = 0.1\n",
    "\n",
    "print(\"===== Affichage N+1 Poids W ==============\")\n",
    "W = perceptron_version_batch(P, N, train, tau, alpha) \n",
    "print('le N+1 poid est : ','\\n', W.squeeze())"
   ]
  },
  {
   "cell_type": "code",
   "execution_count": 11,
   "id": "f9c2557f",
   "metadata": {},
   "outputs": [
    {
     "name": "stdout",
     "output_type": "stream",
     "text": [
      "===== Calcul de l EA et l EG ==============\n",
      "l erreur d apprentissage =  0\n",
      "l erreur de generalisation =  21\n"
     ]
    }
   ],
   "source": [
    "print(\"===== Calcul de l EA et l EG ==============\")\n",
    "print('l erreur d apprentissage = ',erreur(train, W, train_label.reshape((P,1)))) #l'erreur d'apprentissage\n",
    "print('l erreur de generalisation = ',erreur(test, W, test_label.reshape((P,1)))) #L'erreur de généralisation\n"
   ]
  },
  {
   "cell_type": "code",
   "execution_count": 12,
   "id": "43def5a3",
   "metadata": {},
   "outputs": [
    {
     "name": "stdout",
     "output_type": "stream",
     "text": [
      "===== Calcul des stabilites ==============\n",
      "les valeurs des stabiltés sont : \n",
      " [-6.21353647e-02 -4.92966037e-02 -2.30270025e-02  3.14309132e-02\n",
      " -3.19755832e-02  5.62555025e-02 -4.86023185e-03  1.26925245e-01\n",
      "  4.45395576e-02 -5.97232762e-03  8.42783574e-02  7.97783454e-03\n",
      "  5.10329373e-02  2.95948065e-02  1.20192652e-01 -1.57389186e-02\n",
      "  4.09750941e-02  4.08783739e-02  1.46077748e-01  1.19935441e-01\n",
      " -1.03636861e-01  6.78805279e-02  6.50503639e-02  4.63041025e-02\n",
      "  1.67234964e-01  6.33628871e-02  9.61051298e-02  1.18828995e-01\n",
      " -1.22682485e-02  3.71999831e-02  7.06213265e-03 -8.10850686e-03\n",
      "  5.41145164e-02  4.93263226e-02  2.18186170e-02  1.02723003e-01\n",
      " -1.42250746e-02 -2.47051105e-03  4.78446252e-02  7.30053185e-02\n",
      "  7.92521359e-02  1.29746675e-01  3.77542438e-02  2.01961821e-01\n",
      "  1.23880986e-01  1.63501778e-01  1.27997115e-01  9.78092417e-02\n",
      "  3.04321254e-02  4.00104654e-02  4.63163476e-02  8.03160730e-03\n",
      " -2.89009856e-02  5.92644884e-02  6.10070572e-02  8.19711507e-02\n",
      "  1.31994333e-01  5.85436912e-02  6.02041888e-02  5.75927269e-02\n",
      "  5.95990558e-02  7.89290958e-03  5.79093257e-02  7.11173726e-02\n",
      "  1.09751992e-01 -7.47470157e-02 -9.10942193e-02 -1.08799663e-01\n",
      "  3.26849322e-03 -5.17431339e-05  5.68900183e-02  6.76740777e-02\n",
      "  4.51877403e-02  1.40277523e-02  3.92941569e-02  3.06648161e-02\n",
      "  5.21905180e-02  8.98627063e-02  2.81914015e-02  2.47280814e-02\n",
      "  3.39278387e-05 -9.18494334e-03  2.51981333e-02  3.64980023e-02\n",
      "  2.15586346e-02  7.54218931e-03  9.45551331e-02  1.74259519e-01\n",
      "  1.47378521e-01  5.38024241e-02  5.05044836e-02  4.68000283e-02\n",
      " -4.29066009e-02  1.35895146e-02  1.07681982e-01  8.57065389e-02\n",
      " -5.80053116e-02 -9.73083727e-03  6.55667850e-03  6.53287793e-02\n",
      "  3.27571739e-02  1.10573683e-01  2.81647661e-02  5.18223001e-02]\n"
     ]
    }
   ],
   "source": [
    "print(\"===== Calcul des stabilites ==============\")\n",
    "d = gamma(test, W, test_label.reshape((P,1))) # calcul des stabilité des P Exemples du tests\n",
    "print('les valeurs des stabiltés sont :','\\n', d.squeeze() )      \n"
   ]
  },
  {
   "cell_type": "code",
   "execution_count": 13,
   "id": "c5cac548",
   "metadata": {},
   "outputs": [
    {
     "name": "stdout",
     "output_type": "stream",
     "text": [
      "===== Affichage stabilite ==============\n"
     ]
    },
    {
     "data": {
      "image/png": "[encoded data removed]",
      "text/plain": [
       "<Figure size 432x288 with 1 Axes>"
      ]
     },
     "metadata": {
      "needs_background": "light"
     },
     "output_type": "display_data"
    }
   ],
   "source": [
    "print(\"===== Affichage stabilite ==============\")\n",
    "plot_stabilite(d)"
   ]
  },
  {
   "cell_type": "markdown",
   "id": "f29c5434",
   "metadata": {},
   "source": [
    "# 3) Apprendre du test puis évaluer sur train"
   ]
  },
  {
   "cell_type": "code",
   "execution_count": 14,
   "id": "0308cdc8",
   "metadata": {},
   "outputs": [
    {
     "name": "stdout",
     "output_type": "stream",
     "text": [
      "===== Affichage N+1 Poids W ==============\n",
      "le N+1 poid est :  \n",
      " [-33.65112672   7.19725893 -11.74397874  -8.3035814   11.78705969\n",
      "   6.01989328 -32.93488584 -60.70618729  -3.05916717  44.35681454\n",
      "  17.49730736  71.49114453  50.10710941   3.96544384 -12.19231866\n",
      " -35.44336526  19.82225472   2.12148628 -19.31942211  -5.93216991\n",
      "  10.99157877  17.16659572   6.07018521  17.82353756  19.06983772\n",
      " -26.74867365 -27.70352363   3.41511336  22.7109556    1.06339953\n",
      "   1.8664158  -21.91364095   9.61357557  -7.49326281 -27.48332131\n",
      "  14.82642768 -17.30023808 -62.64277029  -5.95571954  35.88156807\n",
      " -25.95409777  12.19657435  15.86401694  48.62400464  63.41334212\n",
      "  34.84509099   4.43575139   9.1024473   24.72505213   0.22881202\n",
      "  -5.27736675   9.6045295    7.15220938   1.92156251   2.48839652\n",
      "  -0.46399257   0.82518071   3.22636088   1.8421621    6.86427327\n",
      "   0.5105958 ]\n"
     ]
    }
   ],
   "source": [
    "P = 104\n",
    "N = 60\n",
    "tau = test_label.reshape((P,1))\n",
    "alpha = 0.1\n",
    "print(\"===== Affichage N+1 Poids W ==============\")\n",
    "W = perceptron_version_batch(P, N, test, tau, alpha) \n",
    "print('le N+1 poid est : ','\\n', W.squeeze())"
   ]
  },
  {
   "cell_type": "code",
   "execution_count": 15,
   "id": "7adaacbc",
   "metadata": {},
   "outputs": [
    {
     "name": "stdout",
     "output_type": "stream",
     "text": [
      "===== Calcul de l EA et l EG ==============\n",
      "l erreur d apprentissage =  0\n",
      "l erreur de generalisation =  25\n"
     ]
    }
   ],
   "source": [
    "print(\"===== Calcul de l EA et l EG ==============\")\n",
    "print('l erreur d apprentissage = ',erreur(test, W, test_label.reshape((P,1)))) #l'erreur d'apprentissage\n",
    "print('l erreur de generalisation = ',erreur(train, W, train_label.reshape((P,1)))) #L'erreur de généralisation\n"
   ]
  },
  {
   "cell_type": "code",
   "execution_count": 16,
   "id": "42016984",
   "metadata": {},
   "outputs": [
    {
     "name": "stdout",
     "output_type": "stream",
     "text": [
      "===== Calcul des stabilites ==============\n",
      "les valeur de la stabilité sont : \n",
      " [-0.14128419  0.0578742   0.20087521  0.04358099  0.01936641 -0.07740469\n",
      "  0.01098802 -0.00192776 -0.00604403  0.04268051  0.06043549  0.14384973\n",
      "  0.13702551  0.15424662  0.21995571  0.09073517  0.12647446 -0.12481542\n",
      "  0.07509058  0.42422134  0.43117858  0.27173263  0.35490334  0.1594452\n",
      "  0.14977166 -0.04739078  0.03516267  0.07253381  0.03860439  0.17177444\n",
      "  0.21195931  0.16604681  0.03498308  0.02969741  0.10978808  0.03475159\n",
      "  0.32286294  0.02784832 -0.06070109  0.07846289  0.56711351  0.47339317\n",
      "  0.20385718  0.02698075  0.02115268  0.2514257   0.26936162  0.10152144\n",
      "  0.09674821 -0.02972553 -0.03104042 -0.30718827 -0.05162925 -0.19529549\n",
      "  0.08495525 -0.16204934 -0.04540812 -0.01027952  0.25348779  0.11286712\n",
      "  0.02574703  0.06980861  0.29034375  0.10312939  0.20293849 -0.32037597\n",
      " -0.00599421  0.15566989  0.33632686  0.08774782 -0.00733532  0.00379961\n",
      " -0.14277887  0.05571046  0.22737295 -0.13302262 -0.06112117  0.12595708\n",
      "  0.09160163  0.26509763  0.35527997 -0.22168176  0.03119935 -0.1789188\n",
      "  0.02778611  0.02917777  0.24644162  0.22823312  0.26662519  0.19795418\n",
      "  0.18666548  0.06052042  0.14928749  0.13122288  0.10585331 -0.06628169\n",
      "  0.03229103 -0.02505704  0.15688459  0.15646718  0.0946558   0.03467463\n",
      "  0.01766968  0.30106275]\n"
     ]
    }
   ],
   "source": [
    "print(\"===== Calcul des stabilites ==============\")\n",
    "d = gamma(train, W, train_label.reshape((P,1))) # calcul des stabilité des P Exemples du tests\n",
    "print('les valeur de la stabilité sont :','\\n', d.squeeze())"
   ]
  },
  {
   "cell_type": "code",
   "execution_count": 17,
   "id": "4dfbf01e",
   "metadata": {},
   "outputs": [
    {
     "name": "stdout",
     "output_type": "stream",
     "text": [
      "===== Affichage stabilite ==============\n"
     ]
    },
    {
     "data": {
      "image/png": "[encoded data removed]",
      "text/plain": [
       "<Figure size 432x288 with 1 Axes>"
      ]
     },
     "metadata": {
      "needs_background": "light"
     },
     "output_type": "display_data"
    }
   ],
   "source": [
    "print(\"===== Affichage stabilite ==============\")\n",
    "plot_stabilite(d)"
   ]
  },
  {
   "cell_type": "markdown",
   "id": "3113e9ac",
   "metadata": {},
   "source": [
    "# PARTIE II"
   ]
  },
  {
   "cell_type": "code",
   "execution_count": 18,
   "id": "b3429966",
   "metadata": {},
   "outputs": [],
   "source": [
    "def apprentissage_pocket(P,N,X,tau,alpha,nb_epochs,Ea_limit,W_init):\n",
    "    W = W_init   #initialisation de poids\n",
    "    W_pocket= W.copy()   # initialisation du vecteur de poids de poche\n",
    "    error_min = len(tau)  #initialisation error à sa plus grande valeur\n",
    "    for k in range(nb_epochs) :\n",
    "        dW = np.zeros((N+1,1))\n",
    "        ones = np.ones((P,1))\n",
    "        X_new = np.append(ones,X,axis=1)\n",
    "        y= np.sign(X_new@W)\n",
    "        if not np.array_equal(y,tau):   #  si la valeur predicte est different du tau(valeur relle)\n",
    "            dW = X_new.T@(tau - y)      #alors on met a jour le poids\n",
    "            W = W + dW\n",
    "            error = erreur(X,W,tau)   # et on calcule l'erreur\n",
    "        if error < error_min :    #on campare si l'erreur est plus petit que l'erreur min\n",
    "            error_min = error    # on met a jour l'erreur min à l'erreur trouver\n",
    "            W_pocket = W.copy()           # et on copie aussi le poids sur W_pocket\n",
    "        \n",
    "        if error_min <= Ea_limit :    #critere d'arret à un Ea fixé\n",
    "            break\n",
    "    return W_pocket\n",
    "            "
   ]
  },
  {
   "cell_type": "code",
   "execution_count": 19,
   "id": "eea469a6",
   "metadata": {
    "scrolled": true
   },
   "outputs": [
    {
     "name": "stdout",
     "output_type": "stream",
     "text": [
      "====================== Ea_limit =  10 ================================\n",
      "-------------------Affichage N+1 poids W --------------------\n",
      "le N+1 poid W est : [ -733.81096493   381.01725734   657.98791828   342.53750134\n",
      "   654.32486529   707.86741304   486.10858873  -140.019058\n",
      "  -846.26583275    26.95229368   289.61203644   679.97772729\n",
      "   185.50699004    24.45338731   131.1235897    306.52578029\n",
      "  -865.62199753  -258.89628588   523.9185195     37.07413394\n",
      "   -62.3209023     40.40943636   137.99382585   -73.49539105\n",
      "   428.32793484   -74.991913     -10.44889127     4.59341921\n",
      "  -182.95397019   191.98438443   619.9732599  -1089.07535348\n",
      "   520.39555545    27.03369958  -198.21836084     7.34144967\n",
      "  -245.13027661  -230.08402126   373.93710274   233.22772842\n",
      "  -617.71879557   203.94805622  -188.7677942    -34.5639863\n",
      "    82.35758367   566.49659656   419.73703614   317.38401443\n",
      "   827.45096227   883.09610674   -82.50651011   131.5232219\n",
      "   135.41587588    53.00786204   140.23198422   -57.54886453\n",
      "   -22.05032136   -78.48530859    76.98875976    35.29757788\n",
      "     9.87944551]\n",
      "\n",
      "\n",
      "-------------------Calcule erreur Ea et Eg --------------------\n",
      "l erreur d apprentissage =  10\n",
      "l erreur de generalisation =  24\n",
      "\n",
      "\n",
      "-------------------calcul les  stabilite --------------------\n",
      "les valeur de la stabilité sont : \n",
      " [-0.12081326 -0.03921456 -0.03394578  0.04796441 -0.05664587  0.01170616\n",
      " -0.02514894  0.1276892   0.01917995 -0.02443917  0.10197444 -0.01030078\n",
      "  0.0642463   0.02645591  0.09863608 -0.03391732  0.08821665  0.07201737\n",
      "  0.17677311  0.14679033 -0.04311332  0.0491343   0.08545322  0.08220547\n",
      "  0.21617523  0.11999505 -0.01494344  0.21570416 -0.04871661  0.02463121\n",
      " -0.00555649 -0.05004923  0.0665209   0.05776254 -0.02344301  0.13810917\n",
      " -0.06930269 -0.07842176  0.03769007  0.09763855  0.13661138  0.18900227\n",
      "  0.09208059  0.28743627  0.17289955  0.24617231  0.1953254   0.19382498\n",
      "  0.03565575  0.04087296  0.03680537 -0.00807088 -0.02084042  0.11346287\n",
      "  0.13024153  0.11498514  0.17804092  0.12210201  0.07340326  0.06296497\n",
      "  0.04919997 -0.03005962  0.14650552  0.11406318  0.19876106 -0.06360997\n",
      " -0.07087501 -0.03450361  0.0845552   0.03868425  0.12638245  0.14063594\n",
      "  0.09986115  0.09783411  0.09717015  0.01906983  0.0991814   0.2489938\n",
      "  0.05755052  0.08679751  0.02456502  0.02371139  0.07417294  0.09011349\n",
      "  0.09975473  0.09150305  0.24426868  0.32724009  0.25655693  0.04792987\n",
      "  0.13685508  0.12853992  0.01032101  0.08427435  0.15853138  0.13351919\n",
      " -0.06102299 -0.03921793  0.00375879  0.07342851  0.10525496  0.18138632\n",
      "  0.04375912  0.14186257]\n",
      "\n",
      "\n",
      "-------------------Affichage stabilite --------------------\n"
     ]
    },
    {
     "data": {
      "image/png": "[encoded data removed]",
      "text/plain": [
       "<Figure size 432x288 with 1 Axes>"
      ]
     },
     "metadata": {
      "needs_background": "light"
     },
     "output_type": "display_data"
    },
    {
     "name": "stdout",
     "output_type": "stream",
     "text": [
      "\n",
      "\n",
      "====================== Ea_limit =  8 ================================\n",
      "-------------------Affichage N+1 poids W --------------------\n",
      "le N+1 poid W est : [ -775.31603903   499.45214905   828.86199565   401.43226191\n",
      "   797.53657582   810.19728647   602.89886012  -202.9628736\n",
      " -1009.13461677     1.42941436   325.27634553   740.08592478\n",
      "   167.40214494   -35.29811876    98.43036989   430.04062281\n",
      " -1027.36283601  -282.26652336   692.95569543   -42.15790217\n",
      "   -38.87034863    36.98212494    97.77797665   -94.38158708\n",
      "   534.16635969  -112.14525287   -32.44928621    47.80462028\n",
      "  -225.18810049   182.00309751   803.48193733 -1301.02101885\n",
      "   692.85766734   -45.90112399  -206.25534012   -20.40079268\n",
      "  -225.80200735  -249.03749657   321.49652339   329.65942535\n",
      "  -697.14623806   245.78653207  -233.36017596    21.34888086\n",
      "     8.44117672   593.38464725   450.82403481   272.62063083\n",
      "   985.17367949  1106.76441529  -132.79346817   168.65591174\n",
      "   178.45258743    66.58568537   189.53810796   -73.83413711\n",
      "   -30.37145872  -108.22365535   105.65162116    38.68632092\n",
      "    10.5525258 ]\n",
      "\n",
      "\n",
      "-------------------Calcule erreur Ea et Eg --------------------\n",
      "l erreur d apprentissage =  8\n",
      "l erreur de generalisation =  25\n",
      "\n",
      "\n",
      "-------------------calcul les  stabilite --------------------\n",
      "les valeur de la stabilité sont : \n",
      " [-1.02185287e-01 -4.57657236e-02 -3.60615301e-02  5.07752428e-02\n",
      " -4.70373141e-02  1.61283741e-02 -2.18556798e-02  1.31075493e-01\n",
      "  2.37132606e-02 -2.67832301e-02  9.82962017e-02 -7.37002168e-03\n",
      "  6.71856319e-02  3.03708137e-02  9.28738212e-02 -3.44908183e-02\n",
      "  7.72305753e-02  6.25343222e-02  1.68864046e-01  1.36055225e-01\n",
      " -6.22106963e-02  4.45892716e-02  7.41227139e-02  6.86534049e-02\n",
      "  2.08101612e-01  9.66516965e-02 -9.89310480e-04  1.97634369e-01\n",
      " -3.83190803e-02  3.30877046e-02 -8.01569902e-03 -4.14062516e-02\n",
      "  6.39507823e-02  5.44586607e-02 -1.54640926e-02  1.30317780e-01\n",
      " -6.73693716e-02 -7.07516523e-02  3.23130827e-02  8.48422014e-02\n",
      "  1.09256814e-01  1.63571130e-01  6.68989189e-02  2.69490935e-01\n",
      "  1.54229094e-01  2.15472061e-01  1.66261170e-01  1.72259608e-01\n",
      "  3.94060880e-02  4.47032456e-02  4.23767833e-02 -2.89627222e-04\n",
      " -2.52554369e-02  1.01010931e-01  1.15133599e-01  1.06317255e-01\n",
      "  1.62566448e-01  1.07743895e-01  6.74993847e-02  6.39084262e-02\n",
      "  5.34536331e-02 -2.20249422e-02  1.33163923e-01  1.16175668e-01\n",
      "  1.79568447e-01 -6.15916348e-02 -6.91083112e-02 -4.38570027e-02\n",
      "  6.07575572e-02  1.55259973e-02  1.04335016e-01  1.20254803e-01\n",
      "  7.62786812e-02  8.60439293e-02  8.92645953e-02  1.71900774e-02\n",
      "  8.95762009e-02  2.19096653e-01  5.15390669e-02  7.26958909e-02\n",
      "  1.66438939e-02  1.88184977e-02  6.30559072e-02  7.97546494e-02\n",
      "  8.44622654e-02  7.18120855e-02  2.13262941e-01  2.92340801e-01\n",
      "  2.27994260e-01  4.30919303e-02  1.18004898e-01  1.11888360e-01\n",
      "  5.26929674e-03  6.72726124e-02  1.48220168e-01  1.25527014e-01\n",
      " -5.87074750e-02 -3.48505892e-02 -6.28673870e-03  6.62227050e-02\n",
      "  8.22463091e-02  1.65403010e-01  3.77613096e-02  1.21067938e-01]\n",
      "\n",
      "\n",
      "-------------------Affichage stabilite --------------------\n"
     ]
    },
    {
     "data": {
      "image/png": "[encoded data removed]",
      "text/plain": [
       "<Figure size 432x288 with 1 Axes>"
      ]
     },
     "metadata": {
      "needs_background": "light"
     },
     "output_type": "display_data"
    },
    {
     "name": "stdout",
     "output_type": "stream",
     "text": [
      "\n",
      "\n",
      "====================== Ea_limit =  6 ================================\n",
      "-------------------Affichage N+1 poids W --------------------\n",
      "le N+1 poid W est : [ -827.76875157   700.07025653  1150.56263603   440.34402164\n",
      "   970.73937447   816.13468101   808.7869533   -325.82780149\n",
      " -1194.81032188    -6.90455056   450.6671718    722.06326595\n",
      "   145.31709155  -135.28372236   -24.3306672    651.80303572\n",
      " -1310.63679549  -376.87625501  1117.59723699  -198.96220453\n",
      "   -51.73609821    21.21289966   115.83697092  -164.63894163\n",
      "   721.32459351  -126.94547417   -76.92439027    66.75259219\n",
      "  -235.56192883    94.30789486  1145.83076819 -1773.51048338\n",
      "  1123.98567468  -365.20932545   -38.79553534   -51.993552\n",
      "  -245.02709401  -256.00900399   233.46622959   588.25547223\n",
      "  -824.58357506   286.81649413  -255.53014269   133.16617508\n",
      "  -212.68154653   661.26738704   539.90511156   -12.11026714\n",
      "  1265.26083901  1588.98140897  -312.79326744   252.86051459\n",
      "   266.27002352    88.94779683   335.49886493   -98.92391398\n",
      "   -57.0636974   -196.10740681   175.8145921     13.68560443\n",
      "    -7.82885589]\n",
      "\n",
      "\n",
      "-------------------Calcule erreur Ea et Eg --------------------\n",
      "l erreur d apprentissage =  6\n",
      "l erreur de generalisation =  24\n",
      "\n",
      "\n",
      "-------------------calcul les  stabilite --------------------\n",
      "les valeur de la stabilité sont : \n",
      " [-7.81817476e-02 -5.12628215e-02 -2.96836401e-02  5.58603765e-02\n",
      " -2.84126908e-02  3.98752339e-02 -1.36991439e-02  1.40418306e-01\n",
      "  3.24915860e-02 -1.85361255e-02  9.59145394e-02  6.81133151e-05\n",
      "  6.74216304e-02  3.54963738e-02  9.50268970e-02 -2.59705914e-02\n",
      "  6.43174114e-02  4.90873960e-02  1.72353963e-01  1.38624367e-01\n",
      " -6.93993859e-02  5.89034167e-02  7.72205506e-02  6.56265094e-02\n",
      "  1.90742672e-01  6.32718668e-02  3.92622813e-02  1.62534112e-01\n",
      " -1.81060842e-02  4.79626283e-02 -7.11826254e-03 -2.46841571e-02\n",
      "  5.97009504e-02  4.73199482e-02 -7.85266901e-04  1.15407452e-01\n",
      " -4.35430564e-02 -4.00189672e-02  3.76735611e-02  8.02547389e-02\n",
      "  9.17809155e-02  1.39002718e-01  4.03299335e-02  2.36430007e-01\n",
      "  1.28680570e-01  1.78648125e-01  1.30875485e-01  1.27490450e-01\n",
      "  3.92324452e-02  4.38167455e-02  4.21652768e-02  6.80235654e-03\n",
      " -3.27912386e-02  8.20992593e-02  8.97976648e-02  9.38034927e-02\n",
      "  1.43358154e-01  8.43066422e-02  5.94736878e-02  6.38216842e-02\n",
      "  5.29211948e-02 -7.54538818e-03  1.12005170e-01  1.08187489e-01\n",
      "  1.43745565e-01 -7.40092346e-02 -8.26051608e-02 -6.98269193e-02\n",
      "  2.83788697e-02 -9.10916397e-03  7.19315633e-02  8.21787173e-02\n",
      "  5.10828324e-02  5.11747188e-02  6.08831787e-02  1.15478878e-02\n",
      "  7.25480302e-02  1.58532079e-01  4.52075765e-02  5.04517425e-02\n",
      "  8.38687562e-03  1.05156343e-02  3.94361602e-02  5.63769336e-02\n",
      "  5.16251550e-02  3.77247621e-02  1.49177380e-01  2.32827972e-01\n",
      "  1.81745163e-01  4.51467683e-02  8.92321505e-02  8.64123669e-02\n",
      " -1.56469472e-02  3.81088571e-02  1.24081289e-01  1.06234755e-01\n",
      " -6.06276280e-02 -2.33282912e-02 -9.49626992e-03  5.07050498e-02\n",
      "  5.24588114e-02  1.46367962e-01  3.06401499e-02  8.77949274e-02]\n",
      "\n",
      "\n",
      "-------------------Affichage stabilite --------------------\n"
     ]
    },
    {
     "data": {
      "image/png": "[encoded data removed]",
      "text/plain": [
       "<Figure size 432x288 with 1 Axes>"
      ]
     },
     "metadata": {
      "needs_background": "light"
     },
     "output_type": "display_data"
    },
    {
     "name": "stdout",
     "output_type": "stream",
     "text": [
      "\n",
      "\n"
     ]
    }
   ],
   "source": [
    "P = 104\n",
    "N = 60\n",
    "tau = train_label.reshape((P,1))\n",
    "alpha = 0.1\n",
    "nb_epochs = 10000\n",
    "Ealim=[10,8,6]\n",
    "for i in Ealim :\n",
    "    \n",
    "    print(\"====================== Ea_limit = \", i, \"================================\")\n",
    "\n",
    "    W_init = np.random.rand(N+1,1)\n",
    "    W = apprentissage_pocket(P, N, train, tau, alpha, nb_epochs, i, W_init)\n",
    "    print(\"-------------------Affichage N+1 poids W --------------------\")\n",
    "    print('le N+1 poid W est :', W.squeeze())\n",
    "    print('\\n')\n",
    "    print(\"-------------------Calcule erreur Ea et Eg --------------------\")\n",
    "    print('l erreur d apprentissage = ',erreur(train, W, train_label.reshape((P,1)))) #l'erreur d'apprentissage\n",
    "    print('l erreur de generalisation = ',erreur(test, W, test_label.reshape((P,1)))) #L'erreur de généralisation\n",
    "    print('\\n')\n",
    "    print(\"-------------------calcul les  stabilite --------------------\")\n",
    "    d = gamma(test, W, test_label.reshape((P,1)))\n",
    "    print('les valeur de la stabilité sont :','\\n', d.squeeze())\n",
    "    print('\\n')\n",
    "    print(\"-------------------Affichage stabilite --------------------\")\n",
    "    plot_stabilite(d)\n",
    "    print('\\n')\n",
    "    \n",
    "\n",
    "\n",
    "\n"
   ]
  },
  {
   "cell_type": "markdown",
   "id": "0b28b9ca",
   "metadata": {},
   "source": [
    "# Test sur initialisation aleatoir et initialisation hebb"
   ]
  },
  {
   "cell_type": "code",
   "execution_count": 20,
   "id": "e44a2187",
   "metadata": {},
   "outputs": [],
   "source": [
    "# Fonction qui retourne le W Hebb\n",
    "def hebb (P, N, X, tau) :\n",
    "    W = np.zeros((N+1,1))\n",
    "    ones = np.ones((P,1))\n",
    "    X_new = np.append(ones,X,axis=1)\n",
    "    product = (X_new.T@tau).reshape((N+1,1))\n",
    "    W = W + product\n",
    "    return W\n",
    "    "
   ]
  },
  {
   "cell_type": "markdown",
   "id": "365f498b",
   "metadata": {},
   "source": [
    "# Apprentissage sur le train et tester sur les données tests avec alpha = 0.1, 0.7,1"
   ]
  },
  {
   "cell_type": "markdown",
   "id": "c3b2c818",
   "metadata": {},
   "source": [
    "# Alpha = 0.1"
   ]
  },
  {
   "cell_type": "code",
   "execution_count": 21,
   "id": "80bf462e",
   "metadata": {},
   "outputs": [
    {
     "name": "stdout",
     "output_type": "stream",
     "text": [
      "======= Initialisation Aleatoire avec Ea_limit =  10 =========\n",
      "-------------------Affichage N+1 poids W --------------------\n",
      "le N+1 poid W est : [ -723.8764286    375.72378488   650.48325457   345.12112527\n",
      "   652.95885835   711.8361647    483.90178342  -140.99724902\n",
      "  -835.24237969    30.78754082   291.1427102    679.67493268\n",
      "   195.25173431    39.33061533   147.84239973   297.42031524\n",
      "  -867.70661402  -256.95334275   506.7234709     34.95012844\n",
      "   -70.01377339    38.40349111   144.48866932   -70.27592342\n",
      "   417.37652423   -70.75678774    -9.99025664     2.00278647\n",
      "  -178.04499499   201.77969549   608.85232869 -1079.27401097\n",
      "   509.77497003    31.61170732  -194.55857091     2.20438185\n",
      "  -259.98754869  -236.10505842   375.46503145   227.91532793\n",
      "  -613.12265655   213.29286312  -174.51534199   -27.63549855\n",
      "    80.59196919   568.51723729   426.12601397   329.79553433\n",
      "   824.10215937   873.5842599    -80.61769575   129.43591886\n",
      "   133.58546533    53.38290182   137.62194482   -56.17929818\n",
      "   -21.61883568   -75.24213266    76.27489325    35.45119274\n",
      "    10.53371556]\n",
      "\n",
      "\n",
      "-------------------Calcule erreur Ea et Eg --------------------\n",
      "l erreur d apprentissage =  10\n",
      "l erreur de generalisation =  23\n",
      "\n",
      "\n",
      "-------------------calcul les  stabilite --------------------\n",
      "les valeur de la stabilité sont : \n",
      " [-1.15849937e-01 -3.47125129e-02 -3.15796219e-02  4.86732228e-02\n",
      " -5.62963696e-02  1.09305860e-02 -2.18254542e-02  1.30182397e-01\n",
      "  2.10222929e-02 -2.21986753e-02  1.07395168e-01 -5.86859042e-03\n",
      "  6.83936826e-02  3.03012167e-02  1.02518127e-01 -3.10000047e-02\n",
      "  9.49722894e-02  7.79115984e-02  1.75271148e-01  1.51658447e-01\n",
      " -4.26460822e-02  5.17845699e-02  8.88569995e-02  8.94596986e-02\n",
      "  2.25954698e-01  1.35696469e-01 -7.98926344e-03  2.30012356e-01\n",
      " -4.98375750e-02  2.56007908e-02 -1.58871434e-03 -5.09248675e-02\n",
      "  7.39972996e-02  6.61415077e-02 -2.00023042e-02  1.47172099e-01\n",
      " -6.81138339e-02 -7.54922656e-02  3.99387454e-02  9.96313466e-02\n",
      "  1.42563141e-01  1.98171867e-01  9.98708374e-02  3.01034847e-01\n",
      "  1.84121690e-01  2.56891910e-01  2.07267249e-01  2.09299460e-01\n",
      "  4.59452795e-02  4.95596647e-02  4.54592798e-02  4.96632717e-07\n",
      " -1.21878821e-02  1.20142858e-01  1.37887469e-01  1.20215693e-01\n",
      "  1.84558848e-01  1.29282332e-01  8.15968741e-02  7.03562148e-02\n",
      "  5.51139638e-02 -2.61457601e-02  1.43218840e-01  1.10551606e-01\n",
      "  1.99059640e-01 -6.42713818e-02 -8.11117200e-02 -3.56642715e-02\n",
      "  8.60393303e-02  4.10644534e-02  1.22595081e-01  1.37621390e-01\n",
      "  9.62621095e-02  9.97894026e-02  9.57910870e-02  1.37441242e-02\n",
      "  9.79552798e-02  2.48667294e-01  5.31029402e-02  8.30822755e-02\n",
      "  1.96883281e-02  1.84639719e-02  7.35762591e-02  8.97961781e-02\n",
      "  9.99804163e-02  9.10290474e-02  2.43981430e-01  3.24376064e-01\n",
      "  2.54035193e-01  4.45825867e-02  1.31725053e-01  1.22568322e-01\n",
      "  6.23680968e-03  8.62984351e-02  1.60976693e-01  1.33642803e-01\n",
      " -6.52063239e-02 -4.19940146e-02  1.97751149e-03  7.10523516e-02\n",
      "  1.03477072e-01  1.75418775e-01  3.61517811e-02  1.38794861e-01]\n",
      "\n",
      "\n",
      "-------------------Affichage stabilite --------------------\n"
     ]
    },
    {
     "data": {
      "image/png": "[encoded data removed]",
      "text/plain": [
       "<Figure size 432x288 with 1 Axes>"
      ]
     },
     "metadata": {
      "needs_background": "light"
     },
     "output_type": "display_data"
    },
    {
     "name": "stdout",
     "output_type": "stream",
     "text": [
      "\n",
      "\n",
      "======= Initialisation Hebb avec Ea_limit =  10 =========\n",
      "-------------------Affichage N+1 poids W --------------------\n",
      "le N+1 poid W est : [ -734.       391.6159   674.9786   354.2572   673.4715   724.4155\n",
      "   497.9937  -150.2095  -859.8834    24.7278   291.7037   692.123\n",
      "   195.7732    29.3711   139.3244   316.9467  -893.2634  -257.6396\n",
      "   531.0591    24.2703   -57.1057    46.4084   142.7204   -77.9014\n",
      "   434.7998   -74.0315    -8.8522    13.3018  -185.2704   192.7968\n",
      "   636.0981 -1117.3358   532.3697    21.907   -198.2134     3.1643\n",
      "  -249.0229  -239.2317   368.5848   242.3422  -623.7815   218.4842\n",
      "  -187.0743   -28.9129    69.4774   572.3656   422.326    315.5643\n",
      "   847.2367   909.9114   -86.1138   134.3113   139.5452    55.1048\n",
      "   145.448    -59.958    -23.3178   -80.5664    79.5172    35.8751\n",
      "     9.7795]\n",
      "\n",
      "\n",
      "-------------------Calcule erreur Ea et Eg --------------------\n",
      "l erreur d apprentissage =  10\n",
      "l erreur de generalisation =  25\n",
      "\n",
      "\n",
      "-------------------calcul les  stabilite --------------------\n",
      "les valeur de la stabilité sont : \n",
      " [-1.14529846e-01 -3.35010534e-02 -2.87129186e-02  5.31804582e-02\n",
      " -5.16418577e-02  1.60360239e-02 -1.74981393e-02  1.35752336e-01\n",
      "  2.56878399e-02 -1.83063325e-02  1.09834636e-01 -3.90888978e-03\n",
      "  7.16114576e-02  3.32912674e-02  1.05175380e-01 -2.81649780e-02\n",
      "  9.50204876e-02  7.79626270e-02  1.77868316e-01  1.50711622e-01\n",
      " -4.33262941e-02  5.43703143e-02  8.82722194e-02  8.81976562e-02\n",
      "  2.21352220e-01  1.25504484e-01 -5.87503998e-03  2.19578249e-01\n",
      " -4.32079533e-02  2.69419015e-02 -2.57003373e-04 -4.71045750e-02\n",
      "  6.99712255e-02  6.07591234e-02 -2.11504943e-02  1.40482711e-01\n",
      " -6.41174883e-02 -7.13835331e-02  4.27308086e-02  1.01454170e-01\n",
      "  1.42098915e-01  1.95649101e-01  9.84693017e-02  2.95074903e-01\n",
      "  1.81042624e-01  2.53308289e-01  2.03373089e-01  1.99567898e-01\n",
      "  4.38140785e-02  4.83825520e-02  4.45150881e-02 -9.26817349e-04\n",
      " -1.37651668e-02  1.19791748e-01  1.36635081e-01  1.21550973e-01\n",
      "  1.84079476e-01  1.28248974e-01  7.89746198e-02  6.92706108e-02\n",
      "  5.45706209e-02 -2.43816687e-02  1.41744043e-01  1.07093128e-01\n",
      "  1.94923416e-01 -6.56300501e-02 -7.44802582e-02 -4.02336119e-02\n",
      "  8.00433087e-02  3.46369036e-02  1.19831415e-01  1.34549400e-01\n",
      "  9.50539202e-02  9.50311928e-02  8.94054219e-02  1.12210128e-02\n",
      "  9.65745926e-02  2.41670443e-01  5.00998104e-02  7.99090436e-02\n",
      "  1.81436318e-02  1.69106788e-02  6.83144602e-02  8.49845129e-02\n",
      "  9.46163635e-02  8.71336431e-02  2.39539616e-01  3.21084244e-01\n",
      "  2.51470851e-01  4.69850563e-02  1.28592632e-01  1.19824536e-01\n",
      "  4.84403558e-03  7.84226530e-02  1.54082870e-01  1.26800080e-01\n",
      " -6.57001953e-02 -4.42476921e-02 -1.42706585e-03  6.94503662e-02\n",
      "  9.89650549e-02  1.72990195e-01  3.73031190e-02  1.37789468e-01]\n",
      "\n",
      "\n",
      "-------------------Affichage stabilite --------------------\n"
     ]
    },
    {
     "data": {
      "image/png": "[encoded data removed]",
      "text/plain": [
       "<Figure size 432x288 with 1 Axes>"
      ]
     },
     "metadata": {
      "needs_background": "light"
     },
     "output_type": "display_data"
    },
    {
     "name": "stdout",
     "output_type": "stream",
     "text": [
      "\n",
      "\n",
      "======= Initialisation Aleatoire avec Ea_limit =  8 =========\n",
      "-------------------Affichage N+1 poids W --------------------\n",
      "le N+1 poid W est : [ -771.88526535   487.48515686   808.72486335   398.11482334\n",
      "   780.61998783   798.09000342   589.66738158  -197.63191226\n",
      "  -993.14734864    -5.72117737   314.71594679   723.13401328\n",
      "   163.48494337   -26.03758716   100.65664108   413.61333755\n",
      " -1012.10848514  -275.37402055   670.964231     -36.60611467\n",
      "   -45.85261381    32.27831775   106.75838227   -78.96397382\n",
      "   532.92388448  -101.40060663   -35.58131263    28.55645788\n",
      "  -234.1662809    178.63584982   779.74361525 -1280.77876266\n",
      "   676.82245062   -29.89735045  -190.63257373    -4.94081524\n",
      "  -217.60883081  -236.95679819   325.13320153   309.89007872\n",
      "  -684.53814785   241.70433147  -229.0106315     13.23831805\n",
      "    13.85519785   588.87512384   440.84595126   276.15299956\n",
      "   970.56691966  1082.44441176  -128.45002465   163.69561835\n",
      "   173.02576205    65.15240616   184.56400093   -71.4001466\n",
      "   -29.37558039  -104.01155101   102.8595993     38.76971872\n",
      "    10.64945344]\n",
      "\n",
      "\n",
      "-------------------Calcule erreur Ea et Eg --------------------\n",
      "l erreur d apprentissage =  8\n",
      "l erreur de generalisation =  25\n",
      "\n",
      "\n",
      "-------------------calcul les  stabilite --------------------\n",
      "les valeur de la stabilité sont : \n",
      " [-0.10698674 -0.05344414 -0.03416848  0.04961838 -0.0457002   0.01830069\n",
      " -0.02290495  0.13242591  0.01948158 -0.02533308  0.09344567 -0.0124302\n",
      "  0.06091581  0.02547632  0.08999846 -0.03807147  0.07470792  0.05935798\n",
      "  0.16932029  0.13282481 -0.0612138   0.04464131  0.07037223  0.07283529\n",
      "  0.20459211  0.09920103 -0.00252989  0.19639167 -0.03963814  0.02765364\n",
      " -0.0130708  -0.04214038  0.06322831  0.05431576 -0.01910279  0.12983469\n",
      " -0.06259898 -0.06502796  0.03205604  0.08948688  0.11074094  0.16357984\n",
      "  0.06534433  0.26309365  0.14778885  0.20916612  0.15989691  0.16655807\n",
      "  0.03274155  0.03879957  0.03522831 -0.00712595 -0.03114717  0.09657747\n",
      "  0.11019717  0.10143153  0.15828321  0.10185446  0.06311181  0.05841822\n",
      "  0.04878739 -0.02720257  0.13925128  0.12155947  0.18149702 -0.06610168\n",
      " -0.07156372 -0.04229383  0.06642215  0.02182732  0.10263794  0.1177769\n",
      "  0.07829934  0.08399843  0.08439847  0.01365745  0.08672743  0.2219924\n",
      "  0.05698609  0.07832282  0.02278803  0.02555542  0.06265058  0.07925058\n",
      "  0.08274617  0.07349009  0.21054811  0.29271991  0.22660156  0.04178084\n",
      "  0.12330307  0.11694613  0.00572797  0.0723031   0.15147154  0.13005985\n",
      " -0.05515685 -0.03224777 -0.0064848   0.06447006  0.08377795  0.17386732\n",
      "  0.04221967  0.12605497]\n",
      "\n",
      "\n",
      "-------------------Affichage stabilite --------------------\n"
     ]
    },
    {
     "data": {
      "image/png": "[encoded data removed]",
      "text/plain": [
       "<Figure size 432x288 with 1 Axes>"
      ]
     },
     "metadata": {
      "needs_background": "light"
     },
     "output_type": "display_data"
    },
    {
     "name": "stdout",
     "output_type": "stream",
     "text": [
      "\n",
      "\n",
      "======= Initialisation Hebb avec Ea_limit =  8 =========\n",
      "-------------------Affichage N+1 poids W --------------------\n",
      "le N+1 poid W est : [-7.8800000e+02  5.3589890e+02  8.8023520e+02  4.2011140e+02\n",
      "  8.3447130e+02  8.2566650e+02  6.3619350e+02 -2.2318730e+02\n",
      " -1.0452738e+03  1.0354000e+00  3.3672190e+02  7.4862720e+02\n",
      "  1.6775540e+02 -5.2153100e+01  8.3266400e+01  4.7735390e+02\n",
      " -1.0728476e+03 -2.9264140e+02  7.4666870e+02 -7.6110500e+01\n",
      " -2.1235300e+01  3.9489600e+01  8.9047600e+01 -1.0172820e+02\n",
      "  5.6682820e+02 -1.1498850e+02 -5.5632400e+01  5.5479400e+01\n",
      " -2.3687480e+02  1.7001980e+02  8.6547650e+02 -1.3743538e+03\n",
      "  7.5391350e+02 -8.2928600e+01 -1.9307040e+02 -2.3875500e+01\n",
      " -2.2209750e+02 -2.5150170e+02  3.0698340e+02  3.5485820e+02\n",
      " -7.1923250e+02  2.5617940e+02 -2.4742390e+02  4.0812900e+01\n",
      " -2.1671200e+01  5.9982040e+02  4.5362180e+02  2.4660630e+02\n",
      "  1.0334193e+03  1.1783934e+03 -1.5238980e+02  1.8126290e+02\n",
      "  1.9037980e+02  7.0490200e+01  2.0909840e+02 -7.8813600e+01\n",
      " -3.3858600e+01 -1.1866780e+02  1.1509820e+02  3.8128500e+01\n",
      "  1.0284500e+01]\n",
      "\n",
      "\n",
      "-------------------Calcule erreur Ea et Eg --------------------\n",
      "l erreur d apprentissage =  8\n",
      "l erreur de generalisation =  24\n",
      "\n",
      "\n",
      "-------------------calcul les  stabilite --------------------\n",
      "les valeur de la stabilité sont : \n",
      " [-0.09876389 -0.0471046  -0.03331002  0.05201747 -0.04440473  0.01791007\n",
      " -0.02237913  0.13179967  0.0243698  -0.02673537  0.0951679  -0.00953053\n",
      "  0.06551614  0.02943719  0.09091513 -0.03338679  0.07428045  0.06106229\n",
      "  0.16948204  0.13549288 -0.06252176  0.04856609  0.07393553  0.06682464\n",
      "  0.20295702  0.0877286   0.0030432   0.18922169 -0.03459893  0.03377833\n",
      " -0.00926951 -0.03828339  0.05897213  0.04863324 -0.0173383   0.12309439\n",
      " -0.06651495 -0.06848708  0.02860767  0.07933552  0.10271592  0.15475912\n",
      "  0.05947845  0.26009774  0.14634991  0.20504701  0.1558029   0.1617673\n",
      "  0.03661696  0.04206466  0.03953834 -0.00224977 -0.02972172  0.09475994\n",
      "  0.10779305  0.10144569  0.15609825  0.10133546  0.0621808   0.06003257\n",
      "  0.04912589 -0.02270922  0.13068878  0.11862407  0.17751871 -0.06264025\n",
      " -0.06593016 -0.04568349  0.05876361  0.01054643  0.10098913  0.1160258\n",
      "  0.07211916  0.08493964  0.08701795  0.01781803  0.09032574  0.21290463\n",
      "  0.05329348  0.07165047  0.01855286  0.02145256  0.06170917  0.07822172\n",
      "  0.08200717  0.06822138  0.20440699  0.28379277  0.22171974  0.04471328\n",
      "  0.11665172  0.11144323  0.00574602  0.06418396  0.14610157  0.12411111\n",
      " -0.05760848 -0.03233618 -0.00727602  0.06429889  0.07800628  0.16118192\n",
      "  0.03845332  0.11802951]\n",
      "\n",
      "\n",
      "-------------------Affichage stabilite --------------------\n"
     ]
    },
    {
     "data": {
      "image/png": "[encoded data removed]",
      "text/plain": [
       "<Figure size 432x288 with 1 Axes>"
      ]
     },
     "metadata": {
      "needs_background": "light"
     },
     "output_type": "display_data"
    },
    {
     "name": "stdout",
     "output_type": "stream",
     "text": [
      "\n",
      "\n",
      "======= Initialisation Aleatoire avec Ea_limit =  6 =========\n",
      "-------------------Affichage N+1 poids W --------------------\n",
      "le N+1 poid W est : [ -825.44131368   698.64663222  1141.29029366   434.01929927\n",
      "   966.91960878   812.76974926   798.36109727  -317.16623798\n",
      " -1197.1309321    -11.32569581   449.75673064   719.75147657\n",
      "   140.97651993  -131.98314694   -20.08114068   650.64196987\n",
      " -1307.76046757  -364.05546052  1112.93097806  -198.30888642\n",
      "   -48.48253571    26.48392677   103.33954808  -156.68816957\n",
      "   713.39184809  -129.30732297   -77.67098474    67.30603551\n",
      "  -236.58415335   103.10896242  1130.47515139 -1761.41156781\n",
      "  1117.49312505  -363.06467955   -43.02570268   -48.81612682\n",
      "  -244.84447198  -251.94576541   239.10335761   582.42011599\n",
      "  -820.31571515   279.91550402  -261.2710726    126.42538113\n",
      "  -205.99261013   655.28080288   534.73636598    -2.88878818\n",
      "  1264.31650063  1580.64962909  -307.7534522    249.65230283\n",
      "   263.27693951    86.71433978   330.36600136   -97.28961342\n",
      "   -57.52564037  -193.92959824   174.4832097     14.57316489\n",
      "    -7.05021102]\n",
      "\n",
      "\n",
      "-------------------Calcule erreur Ea et Eg --------------------\n",
      "l erreur d apprentissage =  6\n",
      "l erreur de generalisation =  25\n",
      "\n",
      "\n",
      "-------------------calcul les  stabilite --------------------\n",
      "les valeur de la stabilité sont : \n",
      " [-7.90736770e-02 -4.90700928e-02 -2.90208234e-02  5.69215725e-02\n",
      " -2.83419628e-02  4.00956125e-02 -1.40638913e-02  1.39231528e-01\n",
      "  3.28956828e-02 -1.86698142e-02  9.51648336e-02 -1.68316721e-04\n",
      "  6.76795596e-02  3.55784200e-02  9.50856877e-02 -2.56116347e-02\n",
      "  6.53542637e-02  5.05460106e-02  1.72991561e-01  1.38287672e-01\n",
      " -6.94387153e-02  5.83893697e-02  7.54048888e-02  6.37072333e-02\n",
      "  1.89255639e-01  6.05323884e-02  3.65154206e-02  1.61789307e-01\n",
      " -1.79600341e-02  4.91567034e-02 -6.78297318e-03 -2.42009671e-02\n",
      "  5.80671649e-02  4.61014713e-02 -1.27676957e-03  1.14353451e-01\n",
      " -4.53427387e-02 -4.22944460e-02  3.71725185e-02  7.96444520e-02\n",
      "  9.06950534e-02  1.38010619e-01  3.93000948e-02  2.34937283e-01\n",
      "  1.27420291e-01  1.77913314e-01  1.29861504e-01  1.26005440e-01\n",
      "  3.79345959e-02  4.33476570e-02  4.15096987e-02  5.77586916e-03\n",
      " -3.40704746e-02  8.15336935e-02  8.89307219e-02  9.31877752e-02\n",
      "  1.42617622e-01  8.39685853e-02  5.84266449e-02  6.27050258e-02\n",
      "  5.18394918e-02 -9.33376367e-03  1.10544242e-01  1.08631536e-01\n",
      "  1.43897973e-01 -7.36780575e-02 -8.16988960e-02 -6.98193082e-02\n",
      "  2.80107979e-02 -1.07257458e-02  7.36286628e-02  8.39876188e-02\n",
      "  5.24786102e-02  5.03244437e-02  6.22318732e-02  1.36010619e-02\n",
      "  7.29293929e-02  1.59610582e-01  4.57968023e-02  5.12370152e-02\n",
      "  9.10630717e-03  1.11134257e-02  4.02149636e-02  5.69150069e-02\n",
      "  5.23078097e-02  3.84944800e-02  1.50011311e-01  2.33761796e-01\n",
      "  1.82536839e-01  4.59257122e-02  9.08058264e-02  8.81876365e-02\n",
      " -1.42285606e-02  3.72225529e-02  1.23373521e-01  1.05676637e-01\n",
      " -6.13800804e-02 -2.41814021e-02 -9.65124925e-03  5.10999849e-02\n",
      "  5.31357611e-02  1.47504118e-01  3.17557872e-02  8.80984675e-02]\n",
      "\n",
      "\n",
      "-------------------Affichage stabilite --------------------\n"
     ]
    },
    {
     "data": {
      "image/png": "[encoded data removed]",
      "text/plain": [
       "<Figure size 432x288 with 1 Axes>"
      ]
     },
     "metadata": {
      "needs_background": "light"
     },
     "output_type": "display_data"
    },
    {
     "name": "stdout",
     "output_type": "stream",
     "text": [
      "\n",
      "\n",
      "======= Initialisation Hebb avec Ea_limit =  6 =========\n",
      "-------------------Affichage N+1 poids W --------------------\n",
      "le N+1 poid W est : [-8.3000000e+02  7.0416670e+02  1.1583172e+03  4.4050600e+02\n",
      "  9.7469050e+02  8.1879650e+02  8.1642950e+02 -3.2062670e+02\n",
      " -1.1933142e+03  4.1920000e-01  4.6325790e+02  7.3201700e+02\n",
      "  1.5277540e+02 -1.2992090e+02 -1.8121600e+01  6.7181490e+02\n",
      " -1.3089808e+03 -3.7017160e+02  1.1218049e+03 -2.0574030e+02\n",
      " -4.8708500e+01  2.3125600e+01  1.1028380e+02 -1.7860600e+02\n",
      "  7.1485700e+02 -1.3046670e+02 -7.1739400e+01  7.3584600e+01\n",
      " -2.3209720e+02  8.9913200e+01  1.1527869e+03 -1.7897382e+03\n",
      "  1.1240789e+03 -3.8596700e+02 -2.9654800e+01 -4.4709500e+01\n",
      " -2.4500570e+02 -2.6111910e+02  2.3500620e+02  5.9595960e+02\n",
      " -8.3629530e+02  2.8529800e+02 -2.5805750e+02  1.3247910e+02\n",
      " -2.1260220e+02  6.7042820e+02  5.4616520e+02 -2.0544700e+01\n",
      "  1.2789347e+03  1.6076270e+03 -3.1720700e+02  2.5441730e+02\n",
      "  2.6629280e+02  8.9005000e+01  3.3953580e+02 -9.9075200e+01\n",
      " -5.8896400e+01 -1.9787220e+02  1.7777840e+02  1.1845300e+01\n",
      " -8.6443000e+00]\n",
      "\n",
      "\n",
      "-------------------Calcule erreur Ea et Eg --------------------\n",
      "l erreur d apprentissage =  6\n",
      "l erreur de generalisation =  24\n",
      "\n",
      "\n",
      "-------------------calcul les  stabilite --------------------\n",
      "les valeur de la stabilité sont : \n",
      " [-7.49984241e-02 -4.13663762e-02 -2.65501084e-02  5.71848325e-02\n",
      " -2.90157727e-02  3.91524675e-02 -1.35106209e-02  1.41160361e-01\n",
      "  3.51965677e-02 -1.55313252e-02  9.61719529e-02 -2.23279312e-04\n",
      "  6.89320580e-02  3.67018001e-02  9.88797648e-02 -2.12907848e-02\n",
      "  6.94456059e-02  5.63602002e-02  1.78179497e-01  1.45762217e-01\n",
      " -6.13770160e-02  6.61194185e-02  8.44934227e-02  6.72521620e-02\n",
      "  1.92016009e-01  6.26429616e-02  4.15842618e-02  1.65549485e-01\n",
      " -1.70059085e-02  4.77951990e-02 -5.32501507e-03 -2.43665472e-02\n",
      "  6.03803947e-02  4.66527092e-02  1.47735671e-03  1.15036290e-01\n",
      " -4.49659725e-02 -4.40035882e-02  3.85136713e-02  8.02372185e-02\n",
      "  9.28703327e-02  1.39502562e-01  4.29178845e-02  2.37214822e-01\n",
      "  1.30532419e-01  1.82749774e-01  1.33261126e-01  1.29214199e-01\n",
      "  3.97632881e-02  4.46940600e-02  4.23855042e-02  6.64844469e-03\n",
      " -3.26594476e-02  8.16872376e-02  8.92760361e-02  9.37579737e-02\n",
      "  1.43779802e-01  8.49184316e-02  5.87573996e-02  6.30395588e-02\n",
      "  5.04999938e-02 -8.79154037e-03  1.04683210e-01  1.07408690e-01\n",
      "  1.42809828e-01 -7.22705666e-02 -8.27926139e-02 -7.13334731e-02\n",
      "  2.70727631e-02 -9.39939399e-03  7.44887296e-02  8.16681289e-02\n",
      "  5.22990692e-02  4.95199194e-02  6.09568847e-02  1.34516998e-02\n",
      "  7.18147417e-02  1.57472712e-01  4.49705924e-02  5.07710601e-02\n",
      "  9.01340267e-03  1.06470532e-02  4.15706595e-02  5.80194691e-02\n",
      "  5.45549025e-02  4.01862501e-02  1.48387044e-01  2.31756226e-01\n",
      "  1.81128271e-01  4.80076530e-02  8.72421904e-02  8.52464641e-02\n",
      " -1.38743781e-02  3.62056104e-02  1.22625617e-01  1.03941951e-01\n",
      " -6.44495156e-02 -2.67491641e-02 -1.28457423e-02  4.81331292e-02\n",
      "  4.98333422e-02  1.38208729e-01  3.01996910e-02  8.85185753e-02]\n",
      "\n",
      "\n",
      "-------------------Affichage stabilite --------------------\n"
     ]
    },
    {
     "data": {
      "image/png": "[encoded data removed]",
      "text/plain": [
       "<Figure size 432x288 with 1 Axes>"
      ]
     },
     "metadata": {
      "needs_background": "light"
     },
     "output_type": "display_data"
    },
    {
     "name": "stdout",
     "output_type": "stream",
     "text": [
      "\n",
      "\n"
     ]
    }
   ],
   "source": [
    "P = 104\n",
    "N = 60\n",
    "tau = train_label.reshape((P,1))\n",
    "alpha = 0.1\n",
    "nb_epochs = 10000\n",
    "Ealim=[10,8,6]\n",
    "for i in Ealim :\n",
    "    \n",
    "    print(\"======= Initialisation Aleatoire avec Ea_limit = \", i, \"=========\")\n",
    "\n",
    "    W_init_aleatoire = np.random.rand(N+1,1)\n",
    "    print(\"-------------------Affichage N+1 poids W --------------------\")\n",
    "    W = apprentissage_pocket(P, N, train, tau, alpha, nb_epochs, i, W_init_aleatoire)\n",
    "    print('le N+1 poid W est :', W.squeeze())\n",
    "    print('\\n')\n",
    "    print(\"-------------------Calcule erreur Ea et Eg --------------------\")\n",
    "    print('l erreur d apprentissage = ',erreur(train, W, train_label.reshape((P,1)))) \n",
    "    print('l erreur de generalisation = ',erreur(test, W, test_label.reshape((P,1))))\n",
    "    print('\\n')\n",
    "    print(\"-------------------calcul les  stabilite --------------------\")\n",
    "    d = gamma(test, W, test_label.reshape((P,1)))\n",
    "    print('les valeur de la stabilité sont :','\\n', d.squeeze())\n",
    "    print('\\n')\n",
    "    print(\"-------------------Affichage stabilite --------------------\")\n",
    "    plot_stabilite(d)\n",
    "    print('\\n')\n",
    "    \n",
    "    print(\"======= Initialisation Hebb avec Ea_limit = \", i, \"=========\")\n",
    "    \n",
    "    W_init_hebb = hebb(P,N,train,tau)\n",
    "    print(\"-------------------Affichage N+1 poids W --------------------\")\n",
    "    W = apprentissage_pocket(P, N, train, tau, alpha, nb_epochs, i, W_init_hebb)\n",
    "    print('le N+1 poid W est :', W.squeeze())\n",
    "    print('\\n')\n",
    "    print(\"-------------------Calcule erreur Ea et Eg --------------------\")\n",
    "    print('l erreur d apprentissage = ',erreur(train, W, train_label.reshape((P,1)))) \n",
    "    print('l erreur de generalisation = ',erreur(test, W, test_label.reshape((P,1)))) \n",
    "    print('\\n')\n",
    "    print(\"-------------------calcul les  stabilite --------------------\")\n",
    "    d = gamma(test, W, test_label.reshape((P,1)))\n",
    "    print('les valeur de la stabilité sont :','\\n', d.squeeze())\n",
    "    print('\\n')\n",
    "    print(\"-------------------Affichage stabilite --------------------\")\n",
    "    plot_stabilite(d)\n",
    "    print('\\n')\n",
    "    \n",
    "    "
   ]
  },
  {
   "cell_type": "markdown",
   "id": "0100a0aa",
   "metadata": {},
   "source": [
    "# Alpha = 0.7"
   ]
  },
  {
   "cell_type": "code",
   "execution_count": 22,
   "id": "7f048643",
   "metadata": {},
   "outputs": [
    {
     "name": "stdout",
     "output_type": "stream",
     "text": [
      "======= Initialisation Aleatoire avec Ea_limit =  10 =========\n",
      "-------------------Affichage N+1 poids W --------------------\n",
      "le N+1 poid W est : [ -731.73654932   381.99825941   659.07889234   347.23260412\n",
      "   657.26896738   709.8406385    483.45623323  -148.09517245\n",
      "  -846.01840827    33.69889577   287.67035091   685.79348608\n",
      "   194.11793793    33.05956234   136.5560223    297.23628109\n",
      "  -872.192888    -256.86699902   514.48103786    26.87481441\n",
      "   -64.81914686    47.78723243   138.1198694    -71.92500388\n",
      "   429.07735975   -69.42015748    -9.09708674     2.11547921\n",
      "  -181.87600028   195.94251915   624.28566929 -1090.14620281\n",
      "   525.80709512    30.22153773  -196.01290346     8.98026949\n",
      "  -247.87039155  -234.24812936   372.73546473   231.65640644\n",
      "  -622.05461752   209.27182163  -185.71290379   -34.51718466\n",
      "    76.18474433   566.90339467   420.74267626   318.97883179\n",
      "   828.3527685    887.26673981   -83.08093237   130.54174983\n",
      "   136.02425775    54.31644866   140.19993203   -57.18381459\n",
      "   -21.23354057   -77.22121529    78.37371014    35.98935172\n",
      "     9.56581103]\n",
      "\n",
      "\n",
      "-------------------Calcule erreur Ea et Eg --------------------\n",
      "l erreur d apprentissage =  10\n",
      "l erreur de generalisation =  24\n",
      "\n",
      "\n",
      "-------------------calcul les  stabilite --------------------\n",
      "les valeur de la stabilité sont : \n",
      " [-0.11857705 -0.03901696 -0.03387437  0.04753739 -0.05643187  0.01146541\n",
      " -0.02371588  0.12830163  0.01943877 -0.02446842  0.10469393 -0.00706364\n",
      "  0.06660884  0.02881912  0.10099662 -0.03452153  0.08964404  0.0709028\n",
      "  0.17745249  0.15000886 -0.04147238  0.05343616  0.08902181  0.08821234\n",
      "  0.22195049  0.12924055 -0.00946768  0.22117863 -0.04808325  0.0244765\n",
      " -0.00463971 -0.05057559  0.07283477  0.06356117 -0.01959583  0.14356406\n",
      " -0.06569385 -0.07204705  0.04085144  0.10103607  0.14238934  0.19437778\n",
      "  0.09718861  0.29383032  0.17896243  0.25129916  0.20158417  0.20052203\n",
      "  0.04199763  0.04696213  0.04291694 -0.00209123 -0.01384529  0.1186127\n",
      "  0.13574333  0.11991902  0.18307519  0.12690155  0.08004136  0.06906541\n",
      "  0.05601333 -0.02473026  0.14797149  0.1113244   0.1949513  -0.06623182\n",
      " -0.07378884 -0.0339471   0.08376004  0.03797348  0.11928     0.13611835\n",
      "  0.09384381  0.0949537   0.093992    0.01268186  0.09529437  0.24668614\n",
      "  0.05355058  0.08288218  0.02004501  0.01898412  0.06866927  0.08522378\n",
      "  0.09407082  0.08743045  0.24123824  0.32236545  0.25299915  0.04250341\n",
      "  0.13242781  0.12402631  0.00683017  0.08406721  0.15911848  0.13341552\n",
      " -0.06252004 -0.03997822  0.00327581  0.07202116  0.10427355  0.17696093\n",
      "  0.03833399  0.14017411]\n",
      "\n",
      "\n",
      "-------------------Affichage stabilite --------------------\n"
     ]
    },
    {
     "data": {
      "image/png": "[encoded data removed]",
      "text/plain": [
       "<Figure size 432x288 with 1 Axes>"
      ]
     },
     "metadata": {
      "needs_background": "light"
     },
     "output_type": "display_data"
    },
    {
     "name": "stdout",
     "output_type": "stream",
     "text": [
      "\n",
      "\n",
      "======= Initialisation Hebb avec Ea_limit =  10 =========\n",
      "-------------------Affichage N+1 poids W --------------------\n",
      "le N+1 poid W est : [ -734.       391.6159   674.9786   354.2572   673.4715   724.4155\n",
      "   497.9937  -150.2095  -859.8834    24.7278   291.7037   692.123\n",
      "   195.7732    29.3711   139.3244   316.9467  -893.2634  -257.6396\n",
      "   531.0591    24.2703   -57.1057    46.4084   142.7204   -77.9014\n",
      "   434.7998   -74.0315    -8.8522    13.3018  -185.2704   192.7968\n",
      "   636.0981 -1117.3358   532.3697    21.907   -198.2134     3.1643\n",
      "  -249.0229  -239.2317   368.5848   242.3422  -623.7815   218.4842\n",
      "  -187.0743   -28.9129    69.4774   572.3656   422.326    315.5643\n",
      "   847.2367   909.9114   -86.1138   134.3113   139.5452    55.1048\n",
      "   145.448    -59.958    -23.3178   -80.5664    79.5172    35.8751\n",
      "     9.7795]\n",
      "\n",
      "\n",
      "-------------------Calcule erreur Ea et Eg --------------------\n",
      "l erreur d apprentissage =  10\n",
      "l erreur de generalisation =  25\n",
      "\n",
      "\n",
      "-------------------calcul les  stabilite --------------------\n",
      "les valeur de la stabilité sont : \n",
      " [-1.14529846e-01 -3.35010534e-02 -2.87129186e-02  5.31804582e-02\n",
      " -5.16418577e-02  1.60360239e-02 -1.74981393e-02  1.35752336e-01\n",
      "  2.56878399e-02 -1.83063325e-02  1.09834636e-01 -3.90888978e-03\n",
      "  7.16114576e-02  3.32912674e-02  1.05175380e-01 -2.81649780e-02\n",
      "  9.50204876e-02  7.79626270e-02  1.77868316e-01  1.50711622e-01\n",
      " -4.33262941e-02  5.43703143e-02  8.82722194e-02  8.81976562e-02\n",
      "  2.21352220e-01  1.25504484e-01 -5.87503998e-03  2.19578249e-01\n",
      " -4.32079533e-02  2.69419015e-02 -2.57003373e-04 -4.71045750e-02\n",
      "  6.99712255e-02  6.07591234e-02 -2.11504943e-02  1.40482711e-01\n",
      " -6.41174883e-02 -7.13835331e-02  4.27308086e-02  1.01454170e-01\n",
      "  1.42098915e-01  1.95649101e-01  9.84693017e-02  2.95074903e-01\n",
      "  1.81042624e-01  2.53308289e-01  2.03373089e-01  1.99567898e-01\n",
      "  4.38140785e-02  4.83825520e-02  4.45150881e-02 -9.26817349e-04\n",
      " -1.37651668e-02  1.19791748e-01  1.36635081e-01  1.21550973e-01\n",
      "  1.84079476e-01  1.28248974e-01  7.89746198e-02  6.92706108e-02\n",
      "  5.45706209e-02 -2.43816687e-02  1.41744043e-01  1.07093128e-01\n",
      "  1.94923416e-01 -6.56300501e-02 -7.44802582e-02 -4.02336119e-02\n",
      "  8.00433087e-02  3.46369036e-02  1.19831415e-01  1.34549400e-01\n",
      "  9.50539202e-02  9.50311928e-02  8.94054219e-02  1.12210128e-02\n",
      "  9.65745926e-02  2.41670443e-01  5.00998104e-02  7.99090436e-02\n",
      "  1.81436318e-02  1.69106788e-02  6.83144602e-02  8.49845129e-02\n",
      "  9.46163635e-02  8.71336431e-02  2.39539616e-01  3.21084244e-01\n",
      "  2.51470851e-01  4.69850563e-02  1.28592632e-01  1.19824536e-01\n",
      "  4.84403558e-03  7.84226530e-02  1.54082870e-01  1.26800080e-01\n",
      " -6.57001953e-02 -4.42476921e-02 -1.42706585e-03  6.94503662e-02\n",
      "  9.89650549e-02  1.72990195e-01  3.73031190e-02  1.37789468e-01]\n",
      "\n",
      "\n",
      "-------------------Affichage stabilite --------------------\n"
     ]
    },
    {
     "data": {
      "image/png": "[encoded data removed]",
      "text/plain": [
       "<Figure size 432x288 with 1 Axes>"
      ]
     },
     "metadata": {
      "needs_background": "light"
     },
     "output_type": "display_data"
    },
    {
     "name": "stdout",
     "output_type": "stream",
     "text": [
      "\n",
      "\n",
      "======= Initialisation Aleatoire avec Ea_limit =  8 =========\n",
      "-------------------Affichage N+1 poids W --------------------\n",
      "le N+1 poid W est : [ -767.43444021   493.45657425   818.99037238   401.86961047\n",
      "   785.61821202   798.37494502   593.78067949  -203.52216307\n",
      " -1000.23325414    -6.71037013   315.82428269   731.93075881\n",
      "   165.54449781   -26.25178733    93.51707406   419.97546552\n",
      " -1014.11242621  -277.90872937   677.49690026   -40.94384816\n",
      "   -43.48945952    33.83409365   102.129819     -87.94525019\n",
      "   538.09932185  -100.65527957   -37.677413      32.60602697\n",
      "  -234.96553616   172.45208624   793.00338296 -1295.00132227\n",
      "   692.72982028   -36.70497956  -192.51000104    -2.54693663\n",
      "  -216.15314439  -238.30570188   322.64287588   314.87126775\n",
      "  -690.78124901   239.4387034   -228.62255751    21.04930953\n",
      "     6.99771726   587.27167633   436.04964559   269.62799813\n",
      "   977.71437362  1095.18286756  -131.73299091   166.52997992\n",
      "   174.88675776    65.92975996   187.93472564   -71.95575465\n",
      "   -28.70971256  -105.80708524   105.16865478    38.76073326\n",
      "    10.94027156]\n",
      "\n",
      "\n",
      "-------------------Calcule erreur Ea et Eg --------------------\n",
      "l erreur d apprentissage =  8\n",
      "l erreur de generalisation =  25\n",
      "\n",
      "\n",
      "-------------------calcul les  stabilite --------------------\n",
      "les valeur de la stabilité sont : \n",
      " [-0.10457075 -0.05053497 -0.03278252  0.05042111 -0.04489284  0.01844922\n",
      " -0.02313893  0.13270661  0.02026696 -0.02502421  0.09359434 -0.01191118\n",
      "  0.06163437  0.02601574  0.09001893 -0.03767158  0.07536823  0.05995581\n",
      "  0.17034254  0.13423336 -0.05945661  0.04650193  0.07255514  0.0736382\n",
      "  0.20498042  0.09781174 -0.00057814  0.19613193 -0.03791733  0.02842657\n",
      " -0.01370495 -0.041978    0.06410336  0.0546856  -0.01708582  0.12973608\n",
      " -0.06145368 -0.064014    0.03238233  0.08948046  0.11039523  0.16232052\n",
      "  0.06579223  0.26309394  0.14805545  0.20935147  0.15980032  0.16557633\n",
      "  0.0344603   0.03980191  0.03640433 -0.00559404 -0.03029852  0.09657208\n",
      "  0.11003791  0.10181615  0.1580588   0.1017985   0.06365564  0.05932294\n",
      "  0.04981612 -0.0255094   0.13754797  0.12095893  0.17898375 -0.06569908\n",
      " -0.07134063 -0.04242648  0.06352908  0.01880846  0.10134988  0.11589525\n",
      "  0.07589619  0.08208043  0.08262598  0.01262278  0.08451657  0.21902911\n",
      "  0.05562875  0.07674057  0.02153992  0.02421742  0.06172811  0.07835271\n",
      "  0.08165701  0.07211356  0.20749676  0.28940305  0.22405041  0.0407863\n",
      "  0.12096935  0.11510149  0.00541431  0.07079609  0.15052901  0.12917997\n",
      " -0.05517687 -0.03283645 -0.00680674  0.06423053  0.08274541  0.17063565\n",
      "  0.04102301  0.12474146]\n",
      "\n",
      "\n",
      "-------------------Affichage stabilite --------------------\n"
     ]
    },
    {
     "data": {
      "image/png": "[encoded data removed]",
      "text/plain": [
       "<Figure size 432x288 with 1 Axes>"
      ]
     },
     "metadata": {
      "needs_background": "light"
     },
     "output_type": "display_data"
    },
    {
     "name": "stdout",
     "output_type": "stream",
     "text": [
      "\n",
      "\n",
      "======= Initialisation Hebb avec Ea_limit =  8 =========\n",
      "-------------------Affichage N+1 poids W --------------------\n",
      "le N+1 poid W est : [-7.8800000e+02  5.3589890e+02  8.8023520e+02  4.2011140e+02\n",
      "  8.3447130e+02  8.2566650e+02  6.3619350e+02 -2.2318730e+02\n",
      " -1.0452738e+03  1.0354000e+00  3.3672190e+02  7.4862720e+02\n",
      "  1.6775540e+02 -5.2153100e+01  8.3266400e+01  4.7735390e+02\n",
      " -1.0728476e+03 -2.9264140e+02  7.4666870e+02 -7.6110500e+01\n",
      " -2.1235300e+01  3.9489600e+01  8.9047600e+01 -1.0172820e+02\n",
      "  5.6682820e+02 -1.1498850e+02 -5.5632400e+01  5.5479400e+01\n",
      " -2.3687480e+02  1.7001980e+02  8.6547650e+02 -1.3743538e+03\n",
      "  7.5391350e+02 -8.2928600e+01 -1.9307040e+02 -2.3875500e+01\n",
      " -2.2209750e+02 -2.5150170e+02  3.0698340e+02  3.5485820e+02\n",
      " -7.1923250e+02  2.5617940e+02 -2.4742390e+02  4.0812900e+01\n",
      " -2.1671200e+01  5.9982040e+02  4.5362180e+02  2.4660630e+02\n",
      "  1.0334193e+03  1.1783934e+03 -1.5238980e+02  1.8126290e+02\n",
      "  1.9037980e+02  7.0490200e+01  2.0909840e+02 -7.8813600e+01\n",
      " -3.3858600e+01 -1.1866780e+02  1.1509820e+02  3.8128500e+01\n",
      "  1.0284500e+01]\n",
      "\n",
      "\n",
      "-------------------Calcule erreur Ea et Eg --------------------\n",
      "l erreur d apprentissage =  8\n",
      "l erreur de generalisation =  24\n",
      "\n",
      "\n",
      "-------------------calcul les  stabilite --------------------\n",
      "les valeur de la stabilité sont : \n",
      " [-0.09876389 -0.0471046  -0.03331002  0.05201747 -0.04440473  0.01791007\n",
      " -0.02237913  0.13179967  0.0243698  -0.02673537  0.0951679  -0.00953053\n",
      "  0.06551614  0.02943719  0.09091513 -0.03338679  0.07428045  0.06106229\n",
      "  0.16948204  0.13549288 -0.06252176  0.04856609  0.07393553  0.06682464\n",
      "  0.20295702  0.0877286   0.0030432   0.18922169 -0.03459893  0.03377833\n",
      " -0.00926951 -0.03828339  0.05897213  0.04863324 -0.0173383   0.12309439\n",
      " -0.06651495 -0.06848708  0.02860767  0.07933552  0.10271592  0.15475912\n",
      "  0.05947845  0.26009774  0.14634991  0.20504701  0.1558029   0.1617673\n",
      "  0.03661696  0.04206466  0.03953834 -0.00224977 -0.02972172  0.09475994\n",
      "  0.10779305  0.10144569  0.15609825  0.10133546  0.0621808   0.06003257\n",
      "  0.04912589 -0.02270922  0.13068878  0.11862407  0.17751871 -0.06264025\n",
      " -0.06593016 -0.04568349  0.05876361  0.01054643  0.10098913  0.1160258\n",
      "  0.07211916  0.08493964  0.08701795  0.01781803  0.09032574  0.21290463\n",
      "  0.05329348  0.07165047  0.01855286  0.02145256  0.06170917  0.07822172\n",
      "  0.08200717  0.06822138  0.20440699  0.28379277  0.22171974  0.04471328\n",
      "  0.11665172  0.11144323  0.00574602  0.06418396  0.14610157  0.12411111\n",
      " -0.05760848 -0.03233618 -0.00727602  0.06429889  0.07800628  0.16118192\n",
      "  0.03845332  0.11802951]\n",
      "\n",
      "\n",
      "-------------------Affichage stabilite --------------------\n"
     ]
    },
    {
     "data": {
      "image/png": "[encoded data removed]",
      "text/plain": [
       "<Figure size 432x288 with 1 Axes>"
      ]
     },
     "metadata": {
      "needs_background": "light"
     },
     "output_type": "display_data"
    },
    {
     "name": "stdout",
     "output_type": "stream",
     "text": [
      "\n",
      "\n",
      "======= Initialisation Aleatoire avec Ea_limit =  6 =========\n",
      "-------------------Affichage N+1 poids W --------------------\n",
      "le N+1 poid W est : [-8.23526324e+02  6.87405175e+02  1.12103241e+03  4.43153944e+02\n",
      "  9.61689195e+02  8.27312255e+02  7.85329668e+02 -3.15452145e+02\n",
      " -1.18264966e+03  2.57607870e+00  4.39472616e+02  7.37438198e+02\n",
      "  1.45276605e+02 -1.27533722e+02 -1.72381066e+00  6.41846444e+02\n",
      " -1.27886810e+03 -3.61348712e+02  1.07186562e+03 -1.95668237e+02\n",
      " -4.02404621e+01  2.56571085e+01  9.43487400e+01 -1.51478576e+02\n",
      "  7.01557788e+02 -1.23841100e+02 -7.03847389e+01  6.98846022e+01\n",
      " -2.38946571e+02  1.03838311e+02  1.11170541e+03 -1.73189245e+03\n",
      "  1.07543814e+03 -3.37110941e+02 -6.36415281e+01 -4.38360522e+01\n",
      " -2.49736537e+02 -2.49344430e+02  2.44648869e+02  5.58990338e+02\n",
      " -8.17678278e+02  2.92190140e+02 -2.58124250e+02  1.25813014e+02\n",
      " -1.80095490e+02  6.58055774e+02  5.26526150e+02  2.84207161e+01\n",
      "  1.24669550e+03  1.54225811e+03 -2.91821237e+02  2.44138958e+02\n",
      "  2.58082150e+02  8.76907819e+01  3.18167173e+02 -9.49165929e+01\n",
      " -5.11924307e+01 -1.83348337e+02  1.69854835e+02  1.78912209e+01\n",
      " -4.86132798e+00]\n",
      "\n",
      "\n",
      "-------------------Calcule erreur Ea et Eg --------------------\n",
      "l erreur d apprentissage =  6\n",
      "l erreur de generalisation =  24\n",
      "\n",
      "\n",
      "-------------------calcul les  stabilite --------------------\n",
      "les valeur de la stabilité sont : \n",
      " [-0.07784509 -0.04658462 -0.02724733  0.05706133 -0.02887268  0.0382481\n",
      " -0.01264904  0.14157175  0.03351569 -0.01683362  0.09745893  0.00064474\n",
      "  0.06975782  0.03750301  0.09776082 -0.02362821  0.06840577  0.05411412\n",
      "  0.17469783  0.14254475 -0.06514963  0.06193796  0.0811335   0.06807302\n",
      "  0.19456044  0.06602991  0.03742313  0.16845251 -0.01869465  0.04625589\n",
      " -0.00633732 -0.02640761  0.06138733  0.04890067 -0.00052389  0.11831893\n",
      " -0.04610457 -0.045437    0.03781523  0.08090204  0.09348384  0.14274553\n",
      "  0.04517611  0.24189543  0.13231823  0.1836319   0.13474119  0.1341203\n",
      "  0.03996792  0.04497185  0.04309394  0.00680723 -0.03165375  0.08420841\n",
      "  0.09205924  0.0948951   0.14540913  0.08743252  0.06041679  0.06379742\n",
      "  0.05203458 -0.00887208  0.10960198  0.10941983  0.14676326 -0.07170149\n",
      " -0.08175823 -0.06859982  0.03036454 -0.00777094  0.07542469  0.08474549\n",
      "  0.05321372  0.05482206  0.0631493   0.01213945  0.07413405  0.16311603\n",
      "  0.0449286   0.05180647  0.00892508  0.01121237  0.04241828  0.05920808\n",
      "  0.05662763  0.04290229  0.15567039  0.23826566  0.18594781  0.04618801\n",
      "  0.09003629  0.08690034 -0.01406988  0.03911205  0.12456086  0.10599071\n",
      " -0.06229219 -0.02646773 -0.01456569  0.04793134  0.05082832  0.14437382\n",
      "  0.03058431  0.09169555]\n",
      "\n",
      "\n",
      "-------------------Affichage stabilite --------------------\n"
     ]
    },
    {
     "data": {
      "image/png": "[encoded data removed]",
      "text/plain": [
       "<Figure size 432x288 with 1 Axes>"
      ]
     },
     "metadata": {
      "needs_background": "light"
     },
     "output_type": "display_data"
    },
    {
     "name": "stdout",
     "output_type": "stream",
     "text": [
      "\n",
      "\n",
      "======= Initialisation Hebb avec Ea_limit =  6 =========\n",
      "-------------------Affichage N+1 poids W --------------------\n",
      "le N+1 poid W est : [-8.3000000e+02  7.0416670e+02  1.1583172e+03  4.4050600e+02\n",
      "  9.7469050e+02  8.1879650e+02  8.1642950e+02 -3.2062670e+02\n",
      " -1.1933142e+03  4.1920000e-01  4.6325790e+02  7.3201700e+02\n",
      "  1.5277540e+02 -1.2992090e+02 -1.8121600e+01  6.7181490e+02\n",
      " -1.3089808e+03 -3.7017160e+02  1.1218049e+03 -2.0574030e+02\n",
      " -4.8708500e+01  2.3125600e+01  1.1028380e+02 -1.7860600e+02\n",
      "  7.1485700e+02 -1.3046670e+02 -7.1739400e+01  7.3584600e+01\n",
      " -2.3209720e+02  8.9913200e+01  1.1527869e+03 -1.7897382e+03\n",
      "  1.1240789e+03 -3.8596700e+02 -2.9654800e+01 -4.4709500e+01\n",
      " -2.4500570e+02 -2.6111910e+02  2.3500620e+02  5.9595960e+02\n",
      " -8.3629530e+02  2.8529800e+02 -2.5805750e+02  1.3247910e+02\n",
      " -2.1260220e+02  6.7042820e+02  5.4616520e+02 -2.0544700e+01\n",
      "  1.2789347e+03  1.6076270e+03 -3.1720700e+02  2.5441730e+02\n",
      "  2.6629280e+02  8.9005000e+01  3.3953580e+02 -9.9075200e+01\n",
      " -5.8896400e+01 -1.9787220e+02  1.7777840e+02  1.1845300e+01\n",
      " -8.6443000e+00]\n",
      "\n",
      "\n",
      "-------------------Calcule erreur Ea et Eg --------------------\n",
      "l erreur d apprentissage =  6\n",
      "l erreur de generalisation =  24\n",
      "\n",
      "\n",
      "-------------------calcul les  stabilite --------------------\n",
      "les valeur de la stabilité sont : \n",
      " [-7.49984241e-02 -4.13663762e-02 -2.65501084e-02  5.71848325e-02\n",
      " -2.90157727e-02  3.91524675e-02 -1.35106209e-02  1.41160361e-01\n",
      "  3.51965677e-02 -1.55313252e-02  9.61719529e-02 -2.23279312e-04\n",
      "  6.89320580e-02  3.67018001e-02  9.88797648e-02 -2.12907848e-02\n",
      "  6.94456059e-02  5.63602002e-02  1.78179497e-01  1.45762217e-01\n",
      " -6.13770160e-02  6.61194185e-02  8.44934227e-02  6.72521620e-02\n",
      "  1.92016009e-01  6.26429616e-02  4.15842618e-02  1.65549485e-01\n",
      " -1.70059085e-02  4.77951990e-02 -5.32501507e-03 -2.43665472e-02\n",
      "  6.03803947e-02  4.66527092e-02  1.47735671e-03  1.15036290e-01\n",
      " -4.49659725e-02 -4.40035882e-02  3.85136713e-02  8.02372185e-02\n",
      "  9.28703327e-02  1.39502562e-01  4.29178845e-02  2.37214822e-01\n",
      "  1.30532419e-01  1.82749774e-01  1.33261126e-01  1.29214199e-01\n",
      "  3.97632881e-02  4.46940600e-02  4.23855042e-02  6.64844469e-03\n",
      " -3.26594476e-02  8.16872376e-02  8.92760361e-02  9.37579737e-02\n",
      "  1.43779802e-01  8.49184316e-02  5.87573996e-02  6.30395588e-02\n",
      "  5.04999938e-02 -8.79154037e-03  1.04683210e-01  1.07408690e-01\n",
      "  1.42809828e-01 -7.22705666e-02 -8.27926139e-02 -7.13334731e-02\n",
      "  2.70727631e-02 -9.39939399e-03  7.44887296e-02  8.16681289e-02\n",
      "  5.22990692e-02  4.95199194e-02  6.09568847e-02  1.34516998e-02\n",
      "  7.18147417e-02  1.57472712e-01  4.49705924e-02  5.07710601e-02\n",
      "  9.01340267e-03  1.06470532e-02  4.15706595e-02  5.80194691e-02\n",
      "  5.45549025e-02  4.01862501e-02  1.48387044e-01  2.31756226e-01\n",
      "  1.81128271e-01  4.80076530e-02  8.72421904e-02  8.52464641e-02\n",
      " -1.38743781e-02  3.62056104e-02  1.22625617e-01  1.03941951e-01\n",
      " -6.44495156e-02 -2.67491641e-02 -1.28457423e-02  4.81331292e-02\n",
      "  4.98333422e-02  1.38208729e-01  3.01996910e-02  8.85185753e-02]\n",
      "\n",
      "\n",
      "-------------------Affichage stabilite --------------------\n"
     ]
    },
    {
     "data": {
      "image/png": "[encoded data removed]",
      "text/plain": [
       "<Figure size 432x288 with 1 Axes>"
      ]
     },
     "metadata": {
      "needs_background": "light"
     },
     "output_type": "display_data"
    },
    {
     "name": "stdout",
     "output_type": "stream",
     "text": [
      "\n",
      "\n"
     ]
    }
   ],
   "source": [
    "P = 104\n",
    "N = 60\n",
    "tau = train_label.reshape((P,1))\n",
    "alpha = 0.7\n",
    "nb_epochs = 10000\n",
    "Ealim=[10,8,6]\n",
    "for i in Ealim :\n",
    "    \n",
    "    print(\"======= Initialisation Aleatoire avec Ea_limit = \", i, \"=========\")\n",
    "\n",
    "    W_init_aleatoire = np.random.rand(N+1,1)\n",
    "    print(\"-------------------Affichage N+1 poids W --------------------\")\n",
    "    W = apprentissage_pocket(P, N, train, tau, alpha, nb_epochs, i, W_init_aleatoire)\n",
    "    print('le N+1 poid W est :', W.squeeze())\n",
    "    print('\\n')\n",
    "    print(\"-------------------Calcule erreur Ea et Eg --------------------\")\n",
    "    print('l erreur d apprentissage = ',erreur(train, W, train_label.reshape((P,1)))) \n",
    "    print('l erreur de generalisation = ',erreur(test, W, test_label.reshape((P,1))))\n",
    "    print('\\n')\n",
    "    print(\"-------------------calcul les  stabilite --------------------\")\n",
    "    d = gamma(test, W, test_label.reshape((P,1)))\n",
    "    print('les valeur de la stabilité sont :','\\n', d.squeeze())\n",
    "    print('\\n')\n",
    "    print(\"-------------------Affichage stabilite --------------------\")\n",
    "    plot_stabilite(d)\n",
    "    print('\\n')\n",
    "    \n",
    "    print(\"======= Initialisation Hebb avec Ea_limit = \", i, \"=========\")\n",
    "    \n",
    "    W_init_hebb = hebb(P,N,train,tau)\n",
    "    print(\"-------------------Affichage N+1 poids W --------------------\")\n",
    "    W = apprentissage_pocket(P, N, train, tau, alpha, nb_epochs, i, W_init_hebb)\n",
    "    print('le N+1 poid W est :', W.squeeze())\n",
    "    print('\\n')\n",
    "    print(\"-------------------Calcule erreur Ea et Eg --------------------\")\n",
    "    print('l erreur d apprentissage = ',erreur(train, W, train_label.reshape((P,1)))) \n",
    "    print('l erreur de generalisation = ',erreur(test, W, test_label.reshape((P,1)))) \n",
    "    print('\\n')\n",
    "    print(\"-------------------calcul les  stabilite --------------------\")\n",
    "    d = gamma(test, W, test_label.reshape((P,1)))\n",
    "    print('les valeur de la stabilité sont :','\\n', d.squeeze())\n",
    "    print('\\n')\n",
    "    print(\"-------------------Affichage stabilite --------------------\")\n",
    "    plot_stabilite(d)\n",
    "    print('\\n')\n",
    "    \n",
    "    "
   ]
  },
  {
   "cell_type": "markdown",
   "id": "fbd30248",
   "metadata": {},
   "source": [
    "# Alpha = 1"
   ]
  },
  {
   "cell_type": "code",
   "execution_count": 23,
   "id": "5b9d40bf",
   "metadata": {},
   "outputs": [
    {
     "name": "stdout",
     "output_type": "stream",
     "text": [
      "======= Initialisation Aleatoire avec Ea_limit =  10 =========\n",
      "-------------------Affichage N+1 poids W --------------------\n",
      "le N+1 poid W est : [ -715.38551903   366.25510695   635.98762971   336.86338247\n",
      "   636.90616665   697.20878324   469.5812081   -139.85996716\n",
      "  -820.65641481    24.39181634   283.21732859   670.01363409\n",
      "   194.06237527    40.24683215   141.2849609    285.31852484\n",
      "  -852.42080389  -251.12718213   498.61932608    39.06429438\n",
      "   -74.87184208    35.52464023   156.06739196   -67.28656791\n",
      "   411.76776066   -63.16372788   -11.80993813   -17.43524327\n",
      "  -178.66885868   201.99146297   594.74528066 -1068.43777338\n",
      "   499.26382846    42.47744972  -185.43804538     5.25115874\n",
      "  -257.62622495  -236.23899857   383.02585589   223.20710585\n",
      "  -606.09333534   208.04203212  -168.30614485   -31.68817758\n",
      "    87.90348914   570.42953144   425.12223231   328.03031292\n",
      "   813.7235684    858.66381382   -76.51963853   127.42615324\n",
      "   130.8552338     53.1113435    135.75888892   -55.01028944\n",
      "   -21.3644565    -73.49256005    74.11361502    35.23331114\n",
      "    10.21259493]\n",
      "\n",
      "\n",
      "-------------------Calcule erreur Ea et Eg --------------------\n",
      "l erreur d apprentissage =  10\n",
      "l erreur de generalisation =  24\n",
      "\n",
      "\n",
      "-------------------calcul les  stabilite --------------------\n",
      "les valeur de la stabilité sont : \n",
      " [-0.11760208 -0.0387677  -0.02909488  0.04951059 -0.05399469  0.01433377\n",
      " -0.02185562  0.13056221  0.019007   -0.02027257  0.10561749 -0.00797725\n",
      "  0.06442219  0.02740653  0.10047694 -0.03217026  0.09478394  0.07736226\n",
      "  0.17879232  0.15319438 -0.03987573  0.05206582  0.08899553  0.09226487\n",
      "  0.22602512  0.13868906 -0.00977661  0.23284201 -0.04945977  0.02584202\n",
      " -0.00258625 -0.04853227  0.07350425  0.06645123 -0.02150782  0.14761998\n",
      " -0.06515097 -0.07176484  0.04028363  0.10287168  0.14299049  0.20034632\n",
      "  0.09905708  0.30026685  0.18287787  0.25534329  0.20646498  0.20822513\n",
      "  0.04219202  0.0456569   0.04046321 -0.00420844 -0.01562327  0.11821633\n",
      "  0.13569774  0.11750905  0.18247817  0.12645744  0.0785367   0.06708598\n",
      "  0.05203754 -0.02953549  0.14675574  0.11326419  0.20007257 -0.0676269\n",
      " -0.087097   -0.03589636  0.08866809  0.04536856  0.12369294  0.13748382\n",
      "  0.09966658  0.09891455  0.09415598  0.01299056  0.09684307  0.25175126\n",
      "  0.05679516  0.08673319  0.02324709  0.02192752  0.07528875  0.09121691\n",
      "  0.10060806  0.09165193  0.24260472  0.32570284  0.25429793  0.04342288\n",
      "  0.13624933  0.12629483  0.00560031  0.08982657  0.16277723  0.13586722\n",
      " -0.06520228 -0.04237239  0.0042213   0.07052769  0.10675981  0.18336446\n",
      "  0.03863654  0.13965962]\n",
      "\n",
      "\n",
      "-------------------Affichage stabilite --------------------\n"
     ]
    },
    {
     "data": {
      "image/png": "[encoded data removed]",
      "text/plain": [
       "<Figure size 432x288 with 1 Axes>"
      ]
     },
     "metadata": {
      "needs_background": "light"
     },
     "output_type": "display_data"
    },
    {
     "name": "stdout",
     "output_type": "stream",
     "text": [
      "\n",
      "\n",
      "======= Initialisation Hebb avec Ea_limit =  10 =========\n",
      "-------------------Affichage N+1 poids W --------------------\n",
      "le N+1 poid W est : [ -734.       391.6159   674.9786   354.2572   673.4715   724.4155\n",
      "   497.9937  -150.2095  -859.8834    24.7278   291.7037   692.123\n",
      "   195.7732    29.3711   139.3244   316.9467  -893.2634  -257.6396\n",
      "   531.0591    24.2703   -57.1057    46.4084   142.7204   -77.9014\n",
      "   434.7998   -74.0315    -8.8522    13.3018  -185.2704   192.7968\n",
      "   636.0981 -1117.3358   532.3697    21.907   -198.2134     3.1643\n",
      "  -249.0229  -239.2317   368.5848   242.3422  -623.7815   218.4842\n",
      "  -187.0743   -28.9129    69.4774   572.3656   422.326    315.5643\n",
      "   847.2367   909.9114   -86.1138   134.3113   139.5452    55.1048\n",
      "   145.448    -59.958    -23.3178   -80.5664    79.5172    35.8751\n",
      "     9.7795]\n",
      "\n",
      "\n",
      "-------------------Calcule erreur Ea et Eg --------------------\n",
      "l erreur d apprentissage =  10\n",
      "l erreur de generalisation =  25\n",
      "\n",
      "\n",
      "-------------------calcul les  stabilite --------------------\n",
      "les valeur de la stabilité sont : \n",
      " [-1.14529846e-01 -3.35010534e-02 -2.87129186e-02  5.31804582e-02\n",
      " -5.16418577e-02  1.60360239e-02 -1.74981393e-02  1.35752336e-01\n",
      "  2.56878399e-02 -1.83063325e-02  1.09834636e-01 -3.90888978e-03\n",
      "  7.16114576e-02  3.32912674e-02  1.05175380e-01 -2.81649780e-02\n",
      "  9.50204876e-02  7.79626270e-02  1.77868316e-01  1.50711622e-01\n",
      " -4.33262941e-02  5.43703143e-02  8.82722194e-02  8.81976562e-02\n",
      "  2.21352220e-01  1.25504484e-01 -5.87503998e-03  2.19578249e-01\n",
      " -4.32079533e-02  2.69419015e-02 -2.57003373e-04 -4.71045750e-02\n",
      "  6.99712255e-02  6.07591234e-02 -2.11504943e-02  1.40482711e-01\n",
      " -6.41174883e-02 -7.13835331e-02  4.27308086e-02  1.01454170e-01\n",
      "  1.42098915e-01  1.95649101e-01  9.84693017e-02  2.95074903e-01\n",
      "  1.81042624e-01  2.53308289e-01  2.03373089e-01  1.99567898e-01\n",
      "  4.38140785e-02  4.83825520e-02  4.45150881e-02 -9.26817349e-04\n",
      " -1.37651668e-02  1.19791748e-01  1.36635081e-01  1.21550973e-01\n",
      "  1.84079476e-01  1.28248974e-01  7.89746198e-02  6.92706108e-02\n",
      "  5.45706209e-02 -2.43816687e-02  1.41744043e-01  1.07093128e-01\n",
      "  1.94923416e-01 -6.56300501e-02 -7.44802582e-02 -4.02336119e-02\n",
      "  8.00433087e-02  3.46369036e-02  1.19831415e-01  1.34549400e-01\n",
      "  9.50539202e-02  9.50311928e-02  8.94054219e-02  1.12210128e-02\n",
      "  9.65745926e-02  2.41670443e-01  5.00998104e-02  7.99090436e-02\n",
      "  1.81436318e-02  1.69106788e-02  6.83144602e-02  8.49845129e-02\n",
      "  9.46163635e-02  8.71336431e-02  2.39539616e-01  3.21084244e-01\n",
      "  2.51470851e-01  4.69850563e-02  1.28592632e-01  1.19824536e-01\n",
      "  4.84403558e-03  7.84226530e-02  1.54082870e-01  1.26800080e-01\n",
      " -6.57001953e-02 -4.42476921e-02 -1.42706585e-03  6.94503662e-02\n",
      "  9.89650549e-02  1.72990195e-01  3.73031190e-02  1.37789468e-01]\n",
      "\n",
      "\n",
      "-------------------Affichage stabilite --------------------\n"
     ]
    },
    {
     "data": {
      "image/png": "[encoded data removed]",
      "text/plain": [
       "<Figure size 432x288 with 1 Axes>"
      ]
     },
     "metadata": {
      "needs_background": "light"
     },
     "output_type": "display_data"
    },
    {
     "name": "stdout",
     "output_type": "stream",
     "text": [
      "\n",
      "\n",
      "======= Initialisation Aleatoire avec Ea_limit =  8 =========\n",
      "-------------------Affichage N+1 poids W --------------------\n",
      "le N+1 poid W est : [ -783.96323166   525.09573954   861.46392236   415.45781074\n",
      "   821.24679548   820.20030918   626.33906424  -217.48451019\n",
      " -1033.3359078      6.38369137   336.52703384   743.87062112\n",
      "   163.26904961   -42.87665048    92.35399583   462.88166037\n",
      " -1051.9162591   -288.1538403    725.63942659   -59.14098973\n",
      "   -24.27577238    39.8000586     89.42096425   -92.48327107\n",
      "   557.66505535  -111.35332527   -46.03469664    53.33294335\n",
      "  -238.08075502   164.28326087   838.21185796 -1348.03913189\n",
      "   734.39470871   -63.07033608  -191.06375317   -12.72582394\n",
      "  -218.02281262  -249.36654349   306.63510407   335.59284862\n",
      "  -715.67495531   250.51138983  -247.96077437    29.27472492\n",
      "   -14.34986138   592.94765264   444.59884778   251.13449548\n",
      "  1010.27276567  1147.72157004  -144.96008706   177.07004463\n",
      "   186.27250426    69.37336593   201.75547604   -75.65767135\n",
      "   -31.32778367  -112.86633786   112.42832592    38.88475825\n",
      "    10.82649024]\n",
      "\n",
      "\n",
      "-------------------Calcule erreur Ea et Eg --------------------\n",
      "l erreur d apprentissage =  8\n",
      "l erreur de generalisation =  24\n",
      "\n",
      "\n",
      "-------------------calcul les  stabilite --------------------\n",
      "les valeur de la stabilité sont : \n",
      " [-1.00669098e-01 -4.31093306e-02 -3.01628849e-02  5.42430147e-02\n",
      " -4.38536264e-02  1.98284694e-02 -2.12769958e-02  1.34413027e-01\n",
      "  2.58715400e-02 -2.37152872e-02  9.57338377e-02 -9.23357208e-03\n",
      "  6.71668786e-02  3.05605165e-02  9.47598552e-02 -3.09701119e-02\n",
      "  7.77799044e-02  6.46745117e-02  1.69199923e-01  1.34884162e-01\n",
      " -6.04530010e-02  4.87777160e-02  7.31950595e-02  6.99757356e-02\n",
      "  2.02675367e-01  8.94270995e-02  2.28350103e-04  1.88274753e-01\n",
      " -3.26000644e-02  3.19773183e-02 -7.85146490e-03 -3.65938533e-02\n",
      "  5.88213724e-02  4.74621530e-02 -1.95346295e-02  1.21660109e-01\n",
      " -6.19069274e-02 -6.41752730e-02  2.90370027e-02  8.20294236e-02\n",
      "  1.08651724e-01  1.57570590e-01  6.40259801e-02  2.58425214e-01\n",
      "  1.45473874e-01  2.06535990e-01  1.56438162e-01  1.60617364e-01\n",
      "  3.51496549e-02  4.09899681e-02  3.82922455e-02 -4.13389010e-03\n",
      " -2.95279296e-02  9.64131894e-02  1.09541524e-01  1.03550288e-01\n",
      "  1.58606123e-01  1.02751347e-01  6.40573928e-02  6.02792025e-02\n",
      "  5.00512924e-02 -2.30371923e-02  1.29577189e-01  1.18306531e-01\n",
      "  1.77060791e-01 -6.51834879e-02 -6.03417039e-02 -4.71932762e-02\n",
      "  5.81306854e-02  1.11116705e-02  1.00831872e-01  1.15796819e-01\n",
      "  7.19726888e-02  8.36380332e-02  8.23027697e-02  1.52852048e-02\n",
      "  8.98344061e-02  2.14357613e-01  5.33402937e-02  7.31726399e-02\n",
      "  1.94379777e-02  2.26210907e-02  5.95959199e-02  7.62167276e-02\n",
      "  8.06937534e-02  6.99327629e-02  2.08163421e-01  2.88587625e-01\n",
      "  2.25425524e-01  4.40011273e-02  1.17419063e-01  1.12455441e-01\n",
      "  6.25020777e-03  6.18972231e-02  1.42413320e-01  1.21491999e-01\n",
      " -5.96625278e-02 -3.57608497e-02 -9.55381293e-03  6.37226348e-02\n",
      "  7.77903340e-02  1.62180229e-01  3.93444145e-02  1.23145514e-01]\n",
      "\n",
      "\n",
      "-------------------Affichage stabilite --------------------\n"
     ]
    },
    {
     "data": {
      "image/png": "[encoded data removed]",
      "text/plain": [
       "<Figure size 432x288 with 1 Axes>"
      ]
     },
     "metadata": {
      "needs_background": "light"
     },
     "output_type": "display_data"
    },
    {
     "name": "stdout",
     "output_type": "stream",
     "text": [
      "\n",
      "\n",
      "======= Initialisation Hebb avec Ea_limit =  8 =========\n",
      "-------------------Affichage N+1 poids W --------------------\n",
      "le N+1 poid W est : [-7.8800000e+02  5.3589890e+02  8.8023520e+02  4.2011140e+02\n",
      "  8.3447130e+02  8.2566650e+02  6.3619350e+02 -2.2318730e+02\n",
      " -1.0452738e+03  1.0354000e+00  3.3672190e+02  7.4862720e+02\n",
      "  1.6775540e+02 -5.2153100e+01  8.3266400e+01  4.7735390e+02\n",
      " -1.0728476e+03 -2.9264140e+02  7.4666870e+02 -7.6110500e+01\n",
      " -2.1235300e+01  3.9489600e+01  8.9047600e+01 -1.0172820e+02\n",
      "  5.6682820e+02 -1.1498850e+02 -5.5632400e+01  5.5479400e+01\n",
      " -2.3687480e+02  1.7001980e+02  8.6547650e+02 -1.3743538e+03\n",
      "  7.5391350e+02 -8.2928600e+01 -1.9307040e+02 -2.3875500e+01\n",
      " -2.2209750e+02 -2.5150170e+02  3.0698340e+02  3.5485820e+02\n",
      " -7.1923250e+02  2.5617940e+02 -2.4742390e+02  4.0812900e+01\n",
      " -2.1671200e+01  5.9982040e+02  4.5362180e+02  2.4660630e+02\n",
      "  1.0334193e+03  1.1783934e+03 -1.5238980e+02  1.8126290e+02\n",
      "  1.9037980e+02  7.0490200e+01  2.0909840e+02 -7.8813600e+01\n",
      " -3.3858600e+01 -1.1866780e+02  1.1509820e+02  3.8128500e+01\n",
      "  1.0284500e+01]\n",
      "\n",
      "\n",
      "-------------------Calcule erreur Ea et Eg --------------------\n",
      "l erreur d apprentissage =  8\n",
      "l erreur de generalisation =  24\n",
      "\n",
      "\n",
      "-------------------calcul les  stabilite --------------------\n",
      "les valeur de la stabilité sont : \n",
      " [-0.09876389 -0.0471046  -0.03331002  0.05201747 -0.04440473  0.01791007\n",
      " -0.02237913  0.13179967  0.0243698  -0.02673537  0.0951679  -0.00953053\n",
      "  0.06551614  0.02943719  0.09091513 -0.03338679  0.07428045  0.06106229\n",
      "  0.16948204  0.13549288 -0.06252176  0.04856609  0.07393553  0.06682464\n",
      "  0.20295702  0.0877286   0.0030432   0.18922169 -0.03459893  0.03377833\n",
      " -0.00926951 -0.03828339  0.05897213  0.04863324 -0.0173383   0.12309439\n",
      " -0.06651495 -0.06848708  0.02860767  0.07933552  0.10271592  0.15475912\n",
      "  0.05947845  0.26009774  0.14634991  0.20504701  0.1558029   0.1617673\n",
      "  0.03661696  0.04206466  0.03953834 -0.00224977 -0.02972172  0.09475994\n",
      "  0.10779305  0.10144569  0.15609825  0.10133546  0.0621808   0.06003257\n",
      "  0.04912589 -0.02270922  0.13068878  0.11862407  0.17751871 -0.06264025\n",
      " -0.06593016 -0.04568349  0.05876361  0.01054643  0.10098913  0.1160258\n",
      "  0.07211916  0.08493964  0.08701795  0.01781803  0.09032574  0.21290463\n",
      "  0.05329348  0.07165047  0.01855286  0.02145256  0.06170917  0.07822172\n",
      "  0.08200717  0.06822138  0.20440699  0.28379277  0.22171974  0.04471328\n",
      "  0.11665172  0.11144323  0.00574602  0.06418396  0.14610157  0.12411111\n",
      " -0.05760848 -0.03233618 -0.00727602  0.06429889  0.07800628  0.16118192\n",
      "  0.03845332  0.11802951]\n",
      "\n",
      "\n",
      "-------------------Affichage stabilite --------------------\n"
     ]
    },
    {
     "data": {
      "image/png": "[encoded data removed]",
      "text/plain": [
       "<Figure size 432x288 with 1 Axes>"
      ]
     },
     "metadata": {
      "needs_background": "light"
     },
     "output_type": "display_data"
    },
    {
     "name": "stdout",
     "output_type": "stream",
     "text": [
      "\n",
      "\n",
      "======= Initialisation Aleatoire avec Ea_limit =  6 =========\n",
      "-------------------Affichage N+1 poids W --------------------\n",
      "le N+1 poid W est : [ -837.17245756   715.22584486  1183.69850601   440.37838604\n",
      "   984.47403041   813.39113008   832.12561086  -328.12299181\n",
      " -1208.90401427    -7.50555899   465.90003174   715.80720565\n",
      "   141.73043716  -138.00177099   -34.87689793   678.34701794\n",
      " -1335.66859923  -376.39593214  1169.85948443  -203.44711657\n",
      "   -49.77903101    16.93974399   127.8033189   -179.69226514\n",
      "   727.43802283  -136.02796752   -81.92699202    65.11989696\n",
      "  -232.57970388    78.29123337  1173.72269671 -1824.6751356\n",
      "  1164.73368324  -402.70085127   -20.0870345    -64.04232725\n",
      "  -243.52540486  -253.67388386   225.44745558   613.43864012\n",
      "  -841.02416349   286.43670019  -255.28227481   134.84882946\n",
      "  -230.12276377   685.45045434   557.05176643   -49.07554771\n",
      "  1297.9414278   1646.81413562  -337.13536806   261.18334544\n",
      "   273.02684864    90.87977388   351.350359    -100.77698778\n",
      "   -61.49892051  -206.660351     183.21175738     8.33544136\n",
      "   -11.20295789]\n",
      "\n",
      "\n",
      "-------------------Calcule erreur Ea et Eg --------------------\n",
      "l erreur d apprentissage =  6\n",
      "l erreur de generalisation =  25\n",
      "\n",
      "\n",
      "-------------------calcul les  stabilite --------------------\n",
      "les valeur de la stabilité sont : \n",
      " [-0.07728484 -0.04597022 -0.02562247  0.05777762 -0.02718344  0.04238984\n",
      " -0.01384577  0.14113578  0.03505289 -0.01620528  0.09386962 -0.00167949\n",
      "  0.06645428  0.03451803  0.09558289 -0.02251492  0.0661074   0.05445915\n",
      "  0.17398808  0.13966988 -0.06869269  0.06008601  0.07756752  0.06084437\n",
      "  0.18770135  0.05754119  0.03946172  0.15846681 -0.01504607  0.04923357\n",
      " -0.004952   -0.02092088  0.05417961  0.04189502 -0.0024602   0.10959734\n",
      " -0.04428288 -0.04203214  0.03533681  0.07709729  0.08765901  0.13490039\n",
      "  0.03758031  0.23143878  0.12536197  0.17481543  0.12710354  0.12203007\n",
      "  0.03488091  0.03934871  0.03760445  0.00211503 -0.03841784  0.07703553\n",
      "  0.08411049  0.08931662  0.13878477  0.07967697  0.05401237  0.05889643\n",
      "  0.04682453 -0.01125223  0.10565583  0.10850465  0.1438508  -0.07354328\n",
      " -0.08239235 -0.07269975  0.02692982 -0.01157753  0.07767665  0.08557135\n",
      "  0.05595257  0.05097235  0.06020172  0.01570011  0.07417281  0.15701425\n",
      "  0.04788853  0.05228151  0.01172564  0.01358733  0.04327746  0.05971079\n",
      "  0.05517656  0.03930482  0.14733356  0.23273711  0.18219849  0.04985116\n",
      "  0.09117719  0.08895608 -0.01306214  0.03590563  0.12114436  0.1033732\n",
      " -0.06272423 -0.02526365 -0.01010008  0.05031571  0.0514516   0.14638172\n",
      "  0.03532023  0.08758393]\n",
      "\n",
      "\n",
      "-------------------Affichage stabilite --------------------\n"
     ]
    },
    {
     "data": {
      "image/png": "[encoded data removed]",
      "text/plain": [
       "<Figure size 432x288 with 1 Axes>"
      ]
     },
     "metadata": {
      "needs_background": "light"
     },
     "output_type": "display_data"
    },
    {
     "name": "stdout",
     "output_type": "stream",
     "text": [
      "\n",
      "\n",
      "======= Initialisation Hebb avec Ea_limit =  6 =========\n",
      "-------------------Affichage N+1 poids W --------------------\n",
      "le N+1 poid W est : [-8.3000000e+02  7.0416670e+02  1.1583172e+03  4.4050600e+02\n",
      "  9.7469050e+02  8.1879650e+02  8.1642950e+02 -3.2062670e+02\n",
      " -1.1933142e+03  4.1920000e-01  4.6325790e+02  7.3201700e+02\n",
      "  1.5277540e+02 -1.2992090e+02 -1.8121600e+01  6.7181490e+02\n",
      " -1.3089808e+03 -3.7017160e+02  1.1218049e+03 -2.0574030e+02\n",
      " -4.8708500e+01  2.3125600e+01  1.1028380e+02 -1.7860600e+02\n",
      "  7.1485700e+02 -1.3046670e+02 -7.1739400e+01  7.3584600e+01\n",
      " -2.3209720e+02  8.9913200e+01  1.1527869e+03 -1.7897382e+03\n",
      "  1.1240789e+03 -3.8596700e+02 -2.9654800e+01 -4.4709500e+01\n",
      " -2.4500570e+02 -2.6111910e+02  2.3500620e+02  5.9595960e+02\n",
      " -8.3629530e+02  2.8529800e+02 -2.5805750e+02  1.3247910e+02\n",
      " -2.1260220e+02  6.7042820e+02  5.4616520e+02 -2.0544700e+01\n",
      "  1.2789347e+03  1.6076270e+03 -3.1720700e+02  2.5441730e+02\n",
      "  2.6629280e+02  8.9005000e+01  3.3953580e+02 -9.9075200e+01\n",
      " -5.8896400e+01 -1.9787220e+02  1.7777840e+02  1.1845300e+01\n",
      " -8.6443000e+00]\n",
      "\n",
      "\n",
      "-------------------Calcule erreur Ea et Eg --------------------\n",
      "l erreur d apprentissage =  6\n",
      "l erreur de generalisation =  24\n",
      "\n",
      "\n",
      "-------------------calcul les  stabilite --------------------\n",
      "les valeur de la stabilité sont : \n",
      " [-7.49984241e-02 -4.13663762e-02 -2.65501084e-02  5.71848325e-02\n",
      " -2.90157727e-02  3.91524675e-02 -1.35106209e-02  1.41160361e-01\n",
      "  3.51965677e-02 -1.55313252e-02  9.61719529e-02 -2.23279312e-04\n",
      "  6.89320580e-02  3.67018001e-02  9.88797648e-02 -2.12907848e-02\n",
      "  6.94456059e-02  5.63602002e-02  1.78179497e-01  1.45762217e-01\n",
      " -6.13770160e-02  6.61194185e-02  8.44934227e-02  6.72521620e-02\n",
      "  1.92016009e-01  6.26429616e-02  4.15842618e-02  1.65549485e-01\n",
      " -1.70059085e-02  4.77951990e-02 -5.32501507e-03 -2.43665472e-02\n",
      "  6.03803947e-02  4.66527092e-02  1.47735671e-03  1.15036290e-01\n",
      " -4.49659725e-02 -4.40035882e-02  3.85136713e-02  8.02372185e-02\n",
      "  9.28703327e-02  1.39502562e-01  4.29178845e-02  2.37214822e-01\n",
      "  1.30532419e-01  1.82749774e-01  1.33261126e-01  1.29214199e-01\n",
      "  3.97632881e-02  4.46940600e-02  4.23855042e-02  6.64844469e-03\n",
      " -3.26594476e-02  8.16872376e-02  8.92760361e-02  9.37579737e-02\n",
      "  1.43779802e-01  8.49184316e-02  5.87573996e-02  6.30395588e-02\n",
      "  5.04999938e-02 -8.79154037e-03  1.04683210e-01  1.07408690e-01\n",
      "  1.42809828e-01 -7.22705666e-02 -8.27926139e-02 -7.13334731e-02\n",
      "  2.70727631e-02 -9.39939399e-03  7.44887296e-02  8.16681289e-02\n",
      "  5.22990692e-02  4.95199194e-02  6.09568847e-02  1.34516998e-02\n",
      "  7.18147417e-02  1.57472712e-01  4.49705924e-02  5.07710601e-02\n",
      "  9.01340267e-03  1.06470532e-02  4.15706595e-02  5.80194691e-02\n",
      "  5.45549025e-02  4.01862501e-02  1.48387044e-01  2.31756226e-01\n",
      "  1.81128271e-01  4.80076530e-02  8.72421904e-02  8.52464641e-02\n",
      " -1.38743781e-02  3.62056104e-02  1.22625617e-01  1.03941951e-01\n",
      " -6.44495156e-02 -2.67491641e-02 -1.28457423e-02  4.81331292e-02\n",
      "  4.98333422e-02  1.38208729e-01  3.01996910e-02  8.85185753e-02]\n",
      "\n",
      "\n",
      "-------------------Affichage stabilite --------------------\n"
     ]
    },
    {
     "data": {
      "image/png": "[encoded data removed]",
      "text/plain": [
       "<Figure size 432x288 with 1 Axes>"
      ]
     },
     "metadata": {
      "needs_background": "light"
     },
     "output_type": "display_data"
    },
    {
     "name": "stdout",
     "output_type": "stream",
     "text": [
      "\n",
      "\n"
     ]
    }
   ],
   "source": [
    "P = 104\n",
    "N = 60\n",
    "tau = train_label.reshape((P,1))\n",
    "alpha = 1\n",
    "nb_epochs = 10000\n",
    "Ealim=[10,8,6]\n",
    "for i in Ealim :\n",
    "    \n",
    "    print(\"======= Initialisation Aleatoire avec Ea_limit = \", i, \"=========\")\n",
    "\n",
    "    W_init_aleatoire = np.random.rand(N+1,1)\n",
    "    print(\"-------------------Affichage N+1 poids W --------------------\")\n",
    "    W = apprentissage_pocket(P, N, train, tau, alpha, nb_epochs, i, W_init_aleatoire)\n",
    "    print('le N+1 poid W est :', W.squeeze())\n",
    "    print('\\n')\n",
    "    print(\"-------------------Calcule erreur Ea et Eg --------------------\")\n",
    "    print('l erreur d apprentissage = ',erreur(train, W, train_label.reshape((P,1)))) \n",
    "    print('l erreur de generalisation = ',erreur(test, W, test_label.reshape((P,1))))\n",
    "    print('\\n')\n",
    "    print(\"-------------------calcul les  stabilite --------------------\")\n",
    "    d = gamma(test, W, test_label.reshape((P,1)))\n",
    "    print('les valeur de la stabilité sont :','\\n', d.squeeze())\n",
    "    print('\\n')\n",
    "    print(\"-------------------Affichage stabilite --------------------\")\n",
    "    plot_stabilite(d)\n",
    "    print('\\n')\n",
    "    \n",
    "    print(\"======= Initialisation Hebb avec Ea_limit = \", i, \"=========\")\n",
    "    \n",
    "    W_init_hebb = hebb(P,N,train,tau)\n",
    "    print(\"-------------------Affichage N+1 poids W --------------------\")\n",
    "    W = apprentissage_pocket(P, N, train, tau, alpha, nb_epochs, i, W_init_hebb)\n",
    "    print('le N+1 poid W est :', W.squeeze())\n",
    "    print('\\n')\n",
    "    print(\"-------------------Calcule erreur Ea et Eg --------------------\")\n",
    "    print('l erreur d apprentissage = ',erreur(train, W, train_label.reshape((P,1)))) \n",
    "    print('l erreur de generalisation = ',erreur(test, W, test_label.reshape((P,1)))) \n",
    "    print('\\n')\n",
    "    print(\"-------------------calcul les  stabilite --------------------\")\n",
    "    d = gamma(test, W, test_label.reshape((P,1)))\n",
    "    print('les valeur de la stabilité sont :','\\n', d.squeeze())\n",
    "    print('\\n')\n",
    "    print(\"-------------------Affichage stabilite --------------------\")\n",
    "    plot_stabilite(d)\n",
    "    print('\\n')\n",
    "    \n",
    "    "
   ]
  },
  {
   "cell_type": "markdown",
   "id": "6eb844c0",
   "metadata": {},
   "source": [
    "# Apprentissage sur les données tests et tester sur les données train avec alpha = 0.1, 0.7,1"
   ]
  },
  {
   "cell_type": "markdown",
   "id": "3f4ed515",
   "metadata": {},
   "source": [
    "# Alpha = 0.1"
   ]
  },
  {
   "cell_type": "code",
   "execution_count": 24,
   "id": "c75dac83",
   "metadata": {
    "scrolled": true
   },
   "outputs": [
    {
     "name": "stdout",
     "output_type": "stream",
     "text": [
      "======= Initialisation Aleatoire avec Ea_limit =  10 =========\n",
      "-------------------Affichage N+1 poids W --------------------\n",
      "le N+1 poid W est : [-271.31665891   31.78620123  -43.67624655  -26.3066206    68.39051348\n",
      "   50.67894276 -120.23463547 -242.79482815    8.52708415  301.46226686\n",
      "  273.32979843  533.85071     472.19501638  138.60169159 -108.83951732\n",
      " -252.57889753  -38.86144191  -63.52758959 -146.96683883   10.59689717\n",
      "  128.88603324  118.66396626  102.10309368  166.42265799   86.39232601\n",
      " -174.17629729 -192.11259581   -4.95521262  111.18699825   -2.54674167\n",
      "  -24.83581949 -255.90775702   29.06919043  -75.3236244  -149.87732031\n",
      "  -81.22541378 -229.33458046 -319.4492596    -7.69989741  219.23263436\n",
      "  -90.32425236   37.00212255  136.87577664  353.04892399  452.95481634\n",
      "  340.75154468  169.29171782  102.35907008  128.11089332   23.02256237\n",
      "  -13.14770559   35.88638094   28.28499451    9.28523483    8.51955014\n",
      "    4.33329788   10.90944858    8.35228878   10.00219029   28.96604228\n",
      "    6.15687511]\n",
      "\n",
      "\n",
      "-------------------Calcule erreur Ea et Eg --------------------\n",
      "l erreur d apprentissage =  10\n",
      "l erreur de generalisation =  28\n",
      "\n",
      "\n",
      "-------------------calcul les  stabilite --------------------\n",
      "les valeur de la stabilité sont : \n",
      " [-1.81856838e-01  5.34541286e-02  1.63675198e-01 -2.03095682e-02\n",
      " -2.81081598e-02 -1.05716538e-01 -3.54637963e-02 -3.88969372e-03\n",
      "  4.53737315e-02  9.56282721e-02  9.37871030e-03  1.24790432e-01\n",
      "  1.08570316e-01  1.69961115e-01  2.41057491e-01  1.12794386e-01\n",
      "  1.47628471e-01 -4.78377531e-02  1.05344828e-02  3.67949612e-01\n",
      "  3.15160615e-01  1.72274853e-01  3.93915601e-01  2.29484110e-01\n",
      "  1.69181206e-01 -3.78994066e-03 -1.90606345e-02 -3.03877163e-02\n",
      " -4.97948394e-02  1.25935489e-01  2.26266964e-01  1.62431761e-01\n",
      "  2.18634044e-02 -1.02585260e-02  6.65129946e-02  9.18979342e-02\n",
      "  4.52528556e-01  1.77078654e-02 -1.18893774e-01  2.09867928e-02\n",
      "  7.16414927e-01  5.43091734e-01  1.66939928e-01  2.28678345e-04\n",
      " -1.85920975e-02  2.71858974e-01  2.94328052e-01  2.73489909e-02\n",
      "  9.13077327e-02 -1.84926651e-02  3.53328405e-02  3.55506005e-01\n",
      "  8.81046836e-02  1.28649509e-01 -1.39298439e-01  2.17613466e-01\n",
      "  1.00371701e-01 -5.34187668e-02 -4.13348321e-01 -8.57550843e-02\n",
      " -1.58591204e-01 -4.40453288e-02  3.78318011e-01  1.45576409e-01\n",
      "  1.96324396e-01 -4.57337210e-01  8.68150813e-02  3.19891549e-01\n",
      "  5.14000010e-01  2.47213361e-01  1.27156755e-01 -7.28303650e-03\n",
      " -9.77276351e-02  1.58352398e-01  2.70333131e-01 -7.58413383e-02\n",
      " -4.22917970e-02  2.54361920e-01  3.04453384e-01  4.72413136e-01\n",
      "  5.61815922e-01 -1.90280368e-01  9.41222796e-02 -1.57407399e-01\n",
      "  3.62605687e-02  9.20640675e-02  3.58049355e-01  3.65908309e-01\n",
      "  3.75732054e-01  3.80546350e-01  3.04906933e-01  1.33995547e-01\n",
      "  2.62085036e-01  2.09817328e-01  1.61926692e-01 -9.95058998e-03\n",
      "  6.34998729e-02  7.61008188e-03  2.75641350e-01  2.63385469e-01\n",
      "  2.93632720e-01  1.16114667e-01  7.65122228e-02  4.00689725e-01]\n",
      "\n",
      "\n",
      "-------------------Affichage stabilite --------------------\n"
     ]
    },
    {
     "data": {
      "image/png": "[encoded data removed]",
      "text/plain": [
       "<Figure size 432x288 with 1 Axes>"
      ]
     },
     "metadata": {
      "needs_background": "light"
     },
     "output_type": "display_data"
    },
    {
     "name": "stdout",
     "output_type": "stream",
     "text": [
      "\n",
      "\n",
      "======= Initialisation Hebb avec Ea_limit =  10 =========\n",
      "-------------------Affichage N+1 poids W --------------------\n",
      "le N+1 poid W est : [-8.3000000e+02  7.0416670e+02  1.1583172e+03  4.4050600e+02\n",
      "  9.7469050e+02  8.1879650e+02  8.1642950e+02 -3.2062670e+02\n",
      " -1.1933142e+03  4.1920000e-01  4.6325790e+02  7.3201700e+02\n",
      "  1.5277540e+02 -1.2992090e+02 -1.8121600e+01  6.7181490e+02\n",
      " -1.3089808e+03 -3.7017160e+02  1.1218049e+03 -2.0574030e+02\n",
      " -4.8708500e+01  2.3125600e+01  1.1028380e+02 -1.7860600e+02\n",
      "  7.1485700e+02 -1.3046670e+02 -7.1739400e+01  7.3584600e+01\n",
      " -2.3209720e+02  8.9913200e+01  1.1527869e+03 -1.7897382e+03\n",
      "  1.1240789e+03 -3.8596700e+02 -2.9654800e+01 -4.4709500e+01\n",
      " -2.4500570e+02 -2.6111910e+02  2.3500620e+02  5.9595960e+02\n",
      " -8.3629530e+02  2.8529800e+02 -2.5805750e+02  1.3247910e+02\n",
      " -2.1260220e+02  6.7042820e+02  5.4616520e+02 -2.0544700e+01\n",
      "  1.2789347e+03  1.6076270e+03 -3.1720700e+02  2.5441730e+02\n",
      "  2.6629280e+02  8.9005000e+01  3.3953580e+02 -9.9075200e+01\n",
      " -5.8896400e+01 -1.9787220e+02  1.7777840e+02  1.1845300e+01\n",
      " -8.6443000e+00]\n",
      "\n",
      "\n",
      "-------------------Calcule erreur Ea et Eg --------------------\n",
      "l erreur d apprentissage =  10\n",
      "l erreur de generalisation =  30\n",
      "\n",
      "\n",
      "les valeur de la stabilité sont : \n",
      " [-0.18941824  0.04877575  0.1572175  -0.03224672 -0.03695161 -0.10714773\n",
      " -0.03441159 -0.00418135  0.04941537  0.10257513  0.00450125  0.12240306\n",
      "  0.10916226  0.17013789  0.24127855  0.12048287  0.13154433 -0.03995571\n",
      " -0.00137016  0.36094827  0.29894626  0.16403162  0.3918575   0.23072645\n",
      "  0.17144357 -0.00248166 -0.02263851 -0.0533994  -0.06738998  0.11991016\n",
      "  0.21398308  0.15114357  0.01401418 -0.01846459  0.04889828  0.09316181\n",
      "  0.45765812  0.01061838 -0.13178329  0.0090334   0.71591437  0.53863933\n",
      "  0.15710873 -0.00852315 -0.02685308  0.27046534  0.29313087  0.0146441\n",
      "  0.08511837 -0.03376868  0.03140988  0.34336076  0.08198199  0.11208175\n",
      " -0.14460622  0.21616213  0.09914712 -0.05959447 -0.43784677 -0.07932353\n",
      " -0.17424296 -0.04748141  0.39578804  0.15633415  0.19175005 -0.4609521\n",
      "  0.1096352   0.3433229   0.53784243  0.26971247  0.13420355 -0.00472569\n",
      " -0.09317155  0.16592415  0.27862754 -0.0627513  -0.03269394  0.27250582\n",
      "  0.32662754  0.49642558  0.58650321 -0.18594588  0.10228891 -0.15325128\n",
      "  0.03731289  0.099963    0.37619232  0.38529024  0.39036633  0.41017236\n",
      "  0.3137369   0.13853862  0.26851929  0.21229934  0.16466484 -0.00147556\n",
      "  0.06550498  0.00980884  0.27461934  0.26323711  0.31449378  0.13043215\n",
      "  0.09158163  0.42534624]\n",
      "\n",
      "\n",
      "-------------------Affichage stabilite --------------------\n"
     ]
    },
    {
     "data": {
      "image/png": "[encoded data removed]",
      "text/plain": [
       "<Figure size 432x288 with 1 Axes>"
      ]
     },
     "metadata": {
      "needs_background": "light"
     },
     "output_type": "display_data"
    },
    {
     "name": "stdout",
     "output_type": "stream",
     "text": [
      "\n",
      "\n",
      "======= Initialisation Aleatoire avec Ea_limit =  8 =========\n",
      "-------------------Affichage N+1 poids W --------------------\n",
      "le N+1 poid W est : [-265.01185057   47.97010607  -73.4826256   -46.75195948   88.61936964\n",
      "   36.6039914  -203.41181226 -379.08542667    4.04527202  375.90634194\n",
      "  248.78066999  612.52587294  479.67048469   83.87468102 -103.15059664\n",
      " -279.10295921   80.16987613    3.91080524 -153.50400904   -4.20456675\n",
      "  105.11225701  119.97170934   63.05804167  200.65098483  180.35952796\n",
      " -226.85307167 -243.09369526   37.1135237   182.03439977    5.65644396\n",
      "  -15.18324721 -254.54268685   64.33491286  -61.29956046 -178.13242446\n",
      "   15.27142186 -195.32339223 -436.59404845  -37.04444082  273.24207864\n",
      " -150.23290309   60.51526137  107.56486587  399.03789928  543.8709953\n",
      "  348.51559819  101.81151356   66.42645208  153.84365041   10.74912191\n",
      "  -26.50267293   56.37951934   43.46996878   15.85288319   12.1645538\n",
      "    6.4738735    13.7388039    18.69653128   15.39616254   48.26800066\n",
      "    7.78065588]\n",
      "\n",
      "\n",
      "-------------------Calcule erreur Ea et Eg --------------------\n",
      "l erreur d apprentissage =  7\n",
      "l erreur de generalisation =  27\n",
      "\n",
      "\n",
      "-------------------calcul les  stabilite --------------------\n",
      "les valeur de la stabilité sont : \n",
      " [-0.10596384  0.12316617  0.24388472  0.0817839   0.07597066 -0.01955071\n",
      "  0.04837665  0.06908106  0.0898521   0.14083445  0.11600133  0.21762281\n",
      "  0.20445947  0.24605901  0.32978875  0.1982354   0.18810889 -0.03136458\n",
      "  0.11005047  0.44923239  0.43403351  0.27390892  0.44524526  0.23214057\n",
      "  0.21355455  0.03143709  0.08752592  0.09778841  0.06847208  0.21385613\n",
      "  0.27885156  0.19643416  0.08056317  0.08837226  0.14246282  0.1292167\n",
      "  0.47298918  0.09270835 -0.02575759  0.10933827  0.72423622  0.58089292\n",
      "  0.24471061  0.07413099  0.05667321  0.32824111  0.35211764  0.13820585\n",
      "  0.1510403   0.08001383  0.12556929  0.41321505  0.11263399  0.25924281\n",
      " -0.04662751  0.26389602  0.11619691  0.0424334  -0.2740731  -0.04594605\n",
      " -0.02016684 -0.00453112  0.25429983  0.07012137  0.13365337 -0.47898759\n",
      " -0.01343367  0.17539886  0.38611592  0.10804638 -0.01555159 -0.05188371\n",
      " -0.17669909  0.04197256  0.20662376 -0.17155764 -0.13719758  0.11747683\n",
      "  0.13168867  0.31293243  0.37939346 -0.24205045 -0.01682014 -0.22510491\n",
      " -0.02026249  0.00463881  0.23716012  0.22232182  0.25451971  0.24711639\n",
      "  0.19821402  0.05060681  0.11026762  0.09157511  0.06610453 -0.12422784\n",
      " -0.03142498 -0.0737608   0.12982546  0.12380896  0.07535553  0.02154596\n",
      " -0.03385919  0.29779305]\n",
      "\n",
      "\n",
      "-------------------Affichage stabilite --------------------\n"
     ]
    },
    {
     "data": {
      "image/png": "[encoded data removed]",
      "text/plain": [
       "<Figure size 432x288 with 1 Axes>"
      ]
     },
     "metadata": {
      "needs_background": "light"
     },
     "output_type": "display_data"
    },
    {
     "name": "stdout",
     "output_type": "stream",
     "text": [
      "\n",
      "\n",
      "======= Initialisation Hebb avec Ea_limit =  8 =========\n",
      "-------------------Affichage N+1 poids W --------------------\n",
      "le N+1 poid W est : [-8.3000000e+02  7.0416670e+02  1.1583172e+03  4.4050600e+02\n",
      "  9.7469050e+02  8.1879650e+02  8.1642950e+02 -3.2062670e+02\n",
      " -1.1933142e+03  4.1920000e-01  4.6325790e+02  7.3201700e+02\n",
      "  1.5277540e+02 -1.2992090e+02 -1.8121600e+01  6.7181490e+02\n",
      " -1.3089808e+03 -3.7017160e+02  1.1218049e+03 -2.0574030e+02\n",
      " -4.8708500e+01  2.3125600e+01  1.1028380e+02 -1.7860600e+02\n",
      "  7.1485700e+02 -1.3046670e+02 -7.1739400e+01  7.3584600e+01\n",
      " -2.3209720e+02  8.9913200e+01  1.1527869e+03 -1.7897382e+03\n",
      "  1.1240789e+03 -3.8596700e+02 -2.9654800e+01 -4.4709500e+01\n",
      " -2.4500570e+02 -2.6111910e+02  2.3500620e+02  5.9595960e+02\n",
      " -8.3629530e+02  2.8529800e+02 -2.5805750e+02  1.3247910e+02\n",
      " -2.1260220e+02  6.7042820e+02  5.4616520e+02 -2.0544700e+01\n",
      "  1.2789347e+03  1.6076270e+03 -3.1720700e+02  2.5441730e+02\n",
      "  2.6629280e+02  8.9005000e+01  3.3953580e+02 -9.9075200e+01\n",
      " -5.8896400e+01 -1.9787220e+02  1.7777840e+02  1.1845300e+01\n",
      " -8.6443000e+00]\n",
      "\n",
      "\n",
      "-------------------Calcule erreur Ea et Eg --------------------\n",
      "l erreur d apprentissage =  8\n",
      "l erreur de generalisation =  28\n",
      "\n",
      "\n",
      "les valeur de la stabilité sont : \n",
      " [-0.10588421  0.11792234  0.24194206  0.08328817  0.07834061 -0.01412548\n",
      "  0.05567268  0.07359947  0.09565906  0.14360044  0.11790916  0.21886287\n",
      "  0.20566802  0.24441006  0.3220443   0.19032     0.19523945 -0.03866676\n",
      "  0.11211071  0.44349812  0.43365832  0.26831568  0.44212631  0.23746963\n",
      "  0.21700509  0.03827837  0.0906769   0.09200203  0.06160509  0.216311\n",
      "  0.28921371  0.1974983   0.08597856  0.09387901  0.15367074  0.13308908\n",
      "  0.46790673  0.09586885 -0.02227686  0.11257139  0.72498898  0.58071409\n",
      "  0.24286752  0.07492726  0.05745157  0.32982468  0.35586955  0.13690002\n",
      "  0.1532053   0.08636688  0.11528369  0.40948153  0.11802999  0.24982133\n",
      " -0.04962276  0.26939622  0.13014448  0.0467371  -0.2693465  -0.03880487\n",
      " -0.02119655  0.00342116  0.25393501  0.07140955  0.13576451 -0.47717648\n",
      " -0.01806307  0.17228381  0.37883593  0.1005949  -0.00909059 -0.05878962\n",
      " -0.17500651  0.039906    0.19241713 -0.18427313 -0.13953366  0.11009316\n",
      "  0.13076764  0.30903331  0.38190087 -0.24652394 -0.02300583 -0.23006932\n",
      " -0.02773938  0.00152737  0.22985986  0.21593468  0.24799472  0.23810598\n",
      "  0.19731925  0.04823237  0.11005422  0.08885549  0.0592165  -0.12660909\n",
      " -0.02366829 -0.07263755  0.14494819  0.13232752  0.08656575  0.01603971\n",
      " -0.03715286  0.28783318]\n",
      "\n",
      "\n",
      "-------------------Affichage stabilite --------------------\n"
     ]
    },
    {
     "data": {
      "image/png": "[encoded data removed]",
      "text/plain": [
       "<Figure size 432x288 with 1 Axes>"
      ]
     },
     "metadata": {
      "needs_background": "light"
     },
     "output_type": "display_data"
    },
    {
     "name": "stdout",
     "output_type": "stream",
     "text": [
      "\n",
      "\n",
      "======= Initialisation Aleatoire avec Ea_limit =  6 =========\n",
      "-------------------Affichage N+1 poids W --------------------\n",
      "le N+1 poid W est : [-2.81343588e+02  5.41481744e+01 -8.37273950e+01 -5.49306671e+01\n",
      "  9.92032480e+01  4.36684735e+01 -2.36312226e+02 -4.47530990e+02\n",
      " -3.78373958e+00  3.96103687e+02  2.26451941e+02  6.50391662e+02\n",
      "  4.90697174e+02  6.53834086e+01 -1.15919478e+02 -3.12042146e+02\n",
      "  1.13149417e+02  1.12271946e+01 -1.66712971e+02 -2.17530075e+01\n",
      "  1.06104246e+02  1.35499450e+02  6.16185604e+01  2.06806212e+02\n",
      "  1.96586567e+02 -2.47591219e+02 -2.62746639e+02  3.46939108e+01\n",
      "  1.91410062e+02  2.92523511e-01 -9.15767037e+00 -2.50539071e+02\n",
      "  8.38531615e+01 -5.76711412e+01 -1.99521954e+02  5.45022887e+01\n",
      " -1.81501970e+02 -4.97021692e+02 -3.99296031e+01  3.06373602e+02\n",
      " -1.78370220e+02  7.74572266e+01  1.12811686e+02  4.23168005e+02\n",
      "  5.73606625e+02  3.45182024e+02  7.49693033e+01  6.31801150e+01\n",
      "  1.77282719e+02  6.77463891e+00 -3.19792467e+01  6.87235264e+01\n",
      "  5.11385830e+01  2.03920567e+01  1.43079703e+01  6.65583680e+00\n",
      "  1.48046892e+01  2.10516075e+01  1.68286249e+01  5.65665488e+01\n",
      "  8.90879412e+00]\n",
      "\n",
      "\n",
      "-------------------Calcule erreur Ea et Eg --------------------\n",
      "l erreur d apprentissage =  4\n",
      "l erreur de generalisation =  27\n",
      "\n",
      "\n",
      "-------------------calcul les  stabilite --------------------\n",
      "les valeur de la stabilité sont : \n",
      " [-0.11406028  0.10140807  0.22567362  0.07272521  0.06633956 -0.03212157\n",
      "  0.03561409  0.05019007  0.06037974  0.10380254  0.09260996  0.1895064\n",
      "  0.17811782  0.2120811   0.2898238   0.15635322  0.17096106 -0.06167473\n",
      "  0.09851887  0.42820528  0.43295859  0.26767361  0.41202765  0.20091461\n",
      "  0.19293567  0.01625387  0.06940023  0.08959418  0.05661067  0.2010686\n",
      "  0.26753927  0.18302272  0.06317962  0.07242493  0.12788376  0.09571748\n",
      "  0.4218211   0.07141734 -0.03874826  0.09697203  0.67199738  0.54151316\n",
      "  0.22343789  0.05149281  0.03783311  0.29526181  0.31838293  0.12678302\n",
      "  0.13007723  0.06873955  0.09254776  0.37430144  0.10020739  0.23948416\n",
      " -0.05302445  0.22878269  0.09146545  0.03295551 -0.26262607 -0.0642863\n",
      " -0.02036134 -0.0243164   0.25970687  0.08187937  0.14971084 -0.42954251\n",
      " -0.01718662  0.16930698  0.36131705  0.09763183 -0.00788622 -0.03609547\n",
      " -0.15778735  0.05374284  0.21544615 -0.17146954 -0.12031323  0.10771375\n",
      "  0.11950459  0.29612542  0.36571307 -0.23340281 -0.00724321 -0.21808749\n",
      " -0.00797717  0.01743276  0.23371348  0.21820493  0.25471399  0.22276341\n",
      "  0.2017346   0.05829376  0.12241658  0.10506972  0.07709863 -0.10163433\n",
      " -0.00326129 -0.05098453  0.14392155  0.13516588  0.07664996  0.0296216\n",
      " -0.01750301  0.29375257]\n",
      "\n",
      "\n",
      "-------------------Affichage stabilite --------------------\n"
     ]
    },
    {
     "data": {
      "image/png": "[encoded data removed]",
      "text/plain": [
       "<Figure size 432x288 with 1 Axes>"
      ]
     },
     "metadata": {
      "needs_background": "light"
     },
     "output_type": "display_data"
    },
    {
     "name": "stdout",
     "output_type": "stream",
     "text": [
      "\n",
      "\n",
      "======= Initialisation Hebb avec Ea_limit =  6 =========\n",
      "-------------------Affichage N+1 poids W --------------------\n",
      "le N+1 poid W est : [-8.3000000e+02  7.0416670e+02  1.1583172e+03  4.4050600e+02\n",
      "  9.7469050e+02  8.1879650e+02  8.1642950e+02 -3.2062670e+02\n",
      " -1.1933142e+03  4.1920000e-01  4.6325790e+02  7.3201700e+02\n",
      "  1.5277540e+02 -1.2992090e+02 -1.8121600e+01  6.7181490e+02\n",
      " -1.3089808e+03 -3.7017160e+02  1.1218049e+03 -2.0574030e+02\n",
      " -4.8708500e+01  2.3125600e+01  1.1028380e+02 -1.7860600e+02\n",
      "  7.1485700e+02 -1.3046670e+02 -7.1739400e+01  7.3584600e+01\n",
      " -2.3209720e+02  8.9913200e+01  1.1527869e+03 -1.7897382e+03\n",
      "  1.1240789e+03 -3.8596700e+02 -2.9654800e+01 -4.4709500e+01\n",
      " -2.4500570e+02 -2.6111910e+02  2.3500620e+02  5.9595960e+02\n",
      " -8.3629530e+02  2.8529800e+02 -2.5805750e+02  1.3247910e+02\n",
      " -2.1260220e+02  6.7042820e+02  5.4616520e+02 -2.0544700e+01\n",
      "  1.2789347e+03  1.6076270e+03 -3.1720700e+02  2.5441730e+02\n",
      "  2.6629280e+02  8.9005000e+01  3.3953580e+02 -9.9075200e+01\n",
      " -5.8896400e+01 -1.9787220e+02  1.7777840e+02  1.1845300e+01\n",
      " -8.6443000e+00]\n",
      "\n",
      "\n",
      "-------------------Calcule erreur Ea et Eg --------------------\n",
      "l erreur d apprentissage =  6\n",
      "l erreur de generalisation =  27\n",
      "\n",
      "\n",
      "les valeur de la stabilité sont : \n",
      " [-0.10953159  0.11180553  0.23464347  0.07683631  0.0711028  -0.02352448\n",
      "  0.04487319  0.06125826  0.08056232  0.1267938   0.10652108  0.20597868\n",
      "  0.19324028  0.23166343  0.30888429  0.1762734   0.18306451 -0.04802915\n",
      "  0.10655747  0.43803208  0.43204008  0.26755428  0.42996564  0.2231941\n",
      "  0.20541428  0.02660856  0.0795202   0.09157321  0.06008322  0.20969256\n",
      "  0.27898126  0.19176577  0.07519898  0.08279679  0.14276253  0.11944755\n",
      "  0.45145402  0.08412818 -0.02955769  0.1051993   0.7064562   0.5665444\n",
      "  0.23626248  0.06654169  0.04993679  0.3163921   0.34088007  0.13187202\n",
      "  0.14326906  0.07760059  0.10731165  0.39581685  0.11117482  0.24549308\n",
      " -0.05510451  0.25313557  0.11386355  0.03974136 -0.26913778 -0.05164469\n",
      " -0.0225138  -0.00812579  0.25764838  0.07691705  0.14371648 -0.45856128\n",
      " -0.01597576  0.17322618  0.37539328  0.10155414 -0.00655499 -0.04625696\n",
      " -0.16740957  0.04683738  0.2039077  -0.17699057 -0.13089793  0.11308295\n",
      "  0.12806718  0.30773682  0.37989972 -0.24189802 -0.01373288 -0.22467683\n",
      " -0.0189949   0.0087514   0.23467045  0.22094508  0.25409593  0.23467615\n",
      "  0.19923861  0.05214361  0.11859231  0.09847744  0.06929373 -0.11529431\n",
      " -0.01338293 -0.06180473  0.14723891  0.13563143  0.0861006   0.02147095\n",
      " -0.02997684  0.29224005]\n",
      "\n",
      "\n",
      "-------------------Affichage stabilite --------------------\n"
     ]
    },
    {
     "data": {
      "image/png": "[encoded data removed]",
      "text/plain": [
       "<Figure size 432x288 with 1 Axes>"
      ]
     },
     "metadata": {
      "needs_background": "light"
     },
     "output_type": "display_data"
    },
    {
     "name": "stdout",
     "output_type": "stream",
     "text": [
      "\n",
      "\n"
     ]
    }
   ],
   "source": [
    "P = 104\n",
    "N = 60\n",
    "tau = test_label.reshape((P,1))\n",
    "alpha = 0.1\n",
    "nb_epochs = 10000\n",
    "Ealim=[10,8,6]\n",
    "for i in Ealim :\n",
    "    \n",
    "    print(\"======= Initialisation Aleatoire avec Ea_limit = \", i, \"=========\")\n",
    "\n",
    "    W_init_aleatoire = np.random.rand(N+1,1)\n",
    "    print(\"-------------------Affichage N+1 poids W --------------------\")\n",
    "    W_rand = apprentissage_pocket(P, N, test, tau, alpha, nb_epochs, i, W_init_aleatoire)\n",
    "    print('le N+1 poid W est :', W_rand.squeeze())\n",
    "    print('\\n')\n",
    "    print(\"-------------------Calcule erreur Ea et Eg --------------------\")\n",
    "    print('l erreur d apprentissage = ',erreur(test, W_rand, test_label.reshape((P,1)))) \n",
    "    print('l erreur de generalisation = ',erreur(train, W_rand, train_label.reshape((P,1)))) \n",
    "    print('\\n')\n",
    "    print(\"-------------------calcul les  stabilite --------------------\")\n",
    "    d = gamma(train, W_rand, test_label.reshape((P,1)))\n",
    "    print('les valeur de la stabilité sont :','\\n', d.squeeze())\n",
    "    print('\\n')\n",
    "    print(\"-------------------Affichage stabilite --------------------\")\n",
    "    plot_stabilite(d)\n",
    "    print('\\n')\n",
    "    print(\"======= Initialisation Hebb avec Ea_limit = \", i, \"=========\")\n",
    "    W_init_hebb = hebb(P,N,train,tau)\n",
    "    print(\"-------------------Affichage N+1 poids W --------------------\")\n",
    "    W_hebb = apprentissage_pocket(P, N, test, tau, alpha, nb_epochs, i, W_init_hebb)\n",
    "    print('le N+1 poid W est :', W.squeeze())\n",
    "    print('\\n')\n",
    "    print(\"-------------------Calcule erreur Ea et Eg --------------------\")\n",
    "    print('l erreur d apprentissage = ',erreur(test, W_hebb, test_label.reshape((P,1)))) \n",
    "    print('l erreur de generalisation = ',erreur(train, W_hebb, train_label.reshape((P,1))))\n",
    "    print('\\n')\n",
    "    d = gamma(train, W_hebb, test_label.reshape((P,1)))\n",
    "    print('les valeur de la stabilité sont :','\\n', d.squeeze())\n",
    "    print('\\n')\n",
    "    print(\"-------------------Affichage stabilite --------------------\")\n",
    "    plot_stabilite(d)\n",
    "    print('\\n')"
   ]
  },
  {
   "cell_type": "markdown",
   "id": "703bbf0b",
   "metadata": {},
   "source": [
    "# Alpha = 0.7"
   ]
  },
  {
   "cell_type": "code",
   "execution_count": 25,
   "id": "8ebc7c0c",
   "metadata": {
    "scrolled": true
   },
   "outputs": [
    {
     "name": "stdout",
     "output_type": "stream",
     "text": [
      "======= Initialisation Aleatoire avec Ea_limit =  10 =========\n",
      "-------------------Affichage N+1 poids W --------------------\n",
      "le N+1 poid W est : [-271.15469656   31.11347809  -37.63306935  -22.64761341   67.46753693\n",
      "   52.24247122 -110.18451998 -219.8510757    10.27090252  289.83123157\n",
      "  274.30504912  523.05212208  469.24594708  145.87694162 -106.34653299\n",
      " -245.6807839   -49.83016009  -70.51274994 -142.70897138   13.85287256\n",
      "  128.01350861  118.29864202  107.44794039  165.55589699   80.52984752\n",
      " -159.68812568 -185.18392032   -9.01834947  104.71420095   -4.84778181\n",
      "  -32.90745713 -259.44633162   23.33131993  -70.66370249 -152.81909687\n",
      "  -99.05907128 -235.54512573 -303.62441912  -11.79347846  201.02815406\n",
      "  -86.98981151   36.19989357  147.13062431  351.91581341  447.97352745\n",
      "  343.51166611  178.82150701  109.44616695  125.97927307   26.39903339\n",
      "  -10.73670095   33.3927484    25.78113057    8.23278856    7.85294058\n",
      "    4.17069039   10.74221808    8.27965731    9.50307121   26.23575011\n",
      "    5.58281827]\n",
      "\n",
      "\n",
      "-------------------Calcule erreur Ea et Eg --------------------\n",
      "l erreur d apprentissage =  10\n",
      "l erreur de generalisation =  28\n",
      "\n",
      "\n",
      "-------------------calcul les  stabilite --------------------\n",
      "les valeur de la stabilité sont : \n",
      " [-0.1890003   0.04996045  0.15836186 -0.03198329 -0.03802428 -0.10739654\n",
      " -0.03448876 -0.00631177  0.04875609  0.1013421   0.00643097  0.12535204\n",
      "  0.10944219  0.17172645  0.2408265   0.11658451  0.1315913  -0.03539673\n",
      "  0.00081973  0.36409699  0.30225088  0.16791281  0.39528326  0.23222756\n",
      "  0.17168789 -0.00241652 -0.02224334 -0.05005024 -0.06305827  0.12404289\n",
      "  0.21764477  0.1522029   0.00978089 -0.02094495  0.05451746  0.0933698\n",
      "  0.46079272  0.01167021 -0.12720926  0.01374566  0.71905849  0.54320709\n",
      "  0.1623751  -0.00322024 -0.0218083   0.27509717  0.29721992  0.02158727\n",
      "  0.09096923 -0.03258946  0.03182818  0.34406893  0.08042182  0.11482467\n",
      " -0.14646544  0.21744553  0.10240772 -0.05487232 -0.4349806  -0.08119142\n",
      " -0.17386342 -0.04647746  0.39079411  0.15622321  0.19273012 -0.46158666\n",
      "  0.11088327  0.33866112  0.534805    0.26286792  0.13299723 -0.00459788\n",
      " -0.09389887  0.16306806  0.2789736  -0.06474882 -0.0333049   0.27101132\n",
      "  0.32277814  0.49477884  0.58781465 -0.18158833  0.10190301 -0.15592376\n",
      "  0.03314804  0.09652314  0.37422076  0.38242595  0.3876003   0.40993223\n",
      "  0.310231    0.13613011  0.26682033  0.21062505  0.163529    0.00119563\n",
      "  0.06524914  0.00935331  0.27744538  0.26653535  0.31586376  0.12575123\n",
      "  0.08610933  0.42474107]\n",
      "\n",
      "\n",
      "-------------------Affichage stabilite --------------------\n"
     ]
    },
    {
     "data": {
      "image/png": "[encoded data removed]",
      "text/plain": [
       "<Figure size 432x288 with 1 Axes>"
      ]
     },
     "metadata": {
      "needs_background": "light"
     },
     "output_type": "display_data"
    },
    {
     "name": "stdout",
     "output_type": "stream",
     "text": [
      "\n",
      "\n",
      "======= Initialisation Hebb avec Ea_limit =  10 =========\n",
      "-------------------Affichage N+1 poids W --------------------\n",
      "le N+1 poid W est : [-8.3000000e+02  7.0416670e+02  1.1583172e+03  4.4050600e+02\n",
      "  9.7469050e+02  8.1879650e+02  8.1642950e+02 -3.2062670e+02\n",
      " -1.1933142e+03  4.1920000e-01  4.6325790e+02  7.3201700e+02\n",
      "  1.5277540e+02 -1.2992090e+02 -1.8121600e+01  6.7181490e+02\n",
      " -1.3089808e+03 -3.7017160e+02  1.1218049e+03 -2.0574030e+02\n",
      " -4.8708500e+01  2.3125600e+01  1.1028380e+02 -1.7860600e+02\n",
      "  7.1485700e+02 -1.3046670e+02 -7.1739400e+01  7.3584600e+01\n",
      " -2.3209720e+02  8.9913200e+01  1.1527869e+03 -1.7897382e+03\n",
      "  1.1240789e+03 -3.8596700e+02 -2.9654800e+01 -4.4709500e+01\n",
      " -2.4500570e+02 -2.6111910e+02  2.3500620e+02  5.9595960e+02\n",
      " -8.3629530e+02  2.8529800e+02 -2.5805750e+02  1.3247910e+02\n",
      " -2.1260220e+02  6.7042820e+02  5.4616520e+02 -2.0544700e+01\n",
      "  1.2789347e+03  1.6076270e+03 -3.1720700e+02  2.5441730e+02\n",
      "  2.6629280e+02  8.9005000e+01  3.3953580e+02 -9.9075200e+01\n",
      " -5.8896400e+01 -1.9787220e+02  1.7777840e+02  1.1845300e+01\n",
      " -8.6443000e+00]\n",
      "\n",
      "\n",
      "-------------------Calcule erreur Ea et Eg --------------------\n",
      "l erreur d apprentissage =  10\n",
      "l erreur de generalisation =  30\n",
      "\n",
      "\n",
      "les valeur de la stabilité sont : \n",
      " [-0.18941824  0.04877575  0.1572175  -0.03224672 -0.03695161 -0.10714773\n",
      " -0.03441159 -0.00418135  0.04941537  0.10257513  0.00450125  0.12240306\n",
      "  0.10916226  0.17013789  0.24127855  0.12048287  0.13154433 -0.03995571\n",
      " -0.00137016  0.36094827  0.29894626  0.16403162  0.3918575   0.23072645\n",
      "  0.17144357 -0.00248166 -0.02263851 -0.0533994  -0.06738998  0.11991016\n",
      "  0.21398308  0.15114357  0.01401418 -0.01846459  0.04889828  0.09316181\n",
      "  0.45765812  0.01061838 -0.13178329  0.0090334   0.71591437  0.53863933\n",
      "  0.15710873 -0.00852315 -0.02685308  0.27046534  0.29313087  0.0146441\n",
      "  0.08511837 -0.03376868  0.03140988  0.34336076  0.08198199  0.11208175\n",
      " -0.14460622  0.21616213  0.09914712 -0.05959447 -0.43784677 -0.07932353\n",
      " -0.17424296 -0.04748141  0.39578804  0.15633415  0.19175005 -0.4609521\n",
      "  0.1096352   0.3433229   0.53784243  0.26971247  0.13420355 -0.00472569\n",
      " -0.09317155  0.16592415  0.27862754 -0.0627513  -0.03269394  0.27250582\n",
      "  0.32662754  0.49642558  0.58650321 -0.18594588  0.10228891 -0.15325128\n",
      "  0.03731289  0.099963    0.37619232  0.38529024  0.39036633  0.41017236\n",
      "  0.3137369   0.13853862  0.26851929  0.21229934  0.16466484 -0.00147556\n",
      "  0.06550498  0.00980884  0.27461934  0.26323711  0.31449378  0.13043215\n",
      "  0.09158163  0.42534624]\n",
      "\n",
      "\n",
      "-------------------Affichage stabilite --------------------\n"
     ]
    },
    {
     "data": {
      "image/png": "[encoded data removed]",
      "text/plain": [
       "<Figure size 432x288 with 1 Axes>"
      ]
     },
     "metadata": {
      "needs_background": "light"
     },
     "output_type": "display_data"
    },
    {
     "name": "stdout",
     "output_type": "stream",
     "text": [
      "\n",
      "\n",
      "======= Initialisation Aleatoire avec Ea_limit =  8 =========\n",
      "-------------------Affichage N+1 poids W --------------------\n",
      "le N+1 poid W est : [-2.61378800e+02  4.61866150e+01 -7.12975018e+01 -4.66248249e+01\n",
      "  8.87208041e+01  4.06840707e+01 -1.97178814e+02 -3.74537670e+02\n",
      " -1.60466642e-01  3.68938581e+02  2.50287520e+02  6.12861180e+02\n",
      "  4.85570582e+02  9.00324096e+01 -1.07395801e+02 -2.82693652e+02\n",
      "  6.45156122e+01 -8.99649905e+00 -1.56208655e+02 -2.60588897e+00\n",
      "  1.16244071e+02  1.27210322e+02  7.29674076e+01  2.04179471e+02\n",
      "  1.75390530e+02 -2.23834868e+02 -2.38887692e+02  3.41033015e+01\n",
      "  1.79142649e+02  1.05872759e+01 -1.35882011e+01 -2.58717601e+02\n",
      "  6.03302647e+01 -6.15839296e+01 -1.74352136e+02  5.74053757e+00\n",
      " -2.00235367e+02 -4.34799777e+02 -3.43911340e+01  2.76720921e+02\n",
      " -1.46018723e+02  5.28393550e+01  1.09323701e+02  3.96108467e+02\n",
      "  5.35496597e+02  3.43020839e+02  1.02408774e+02  6.82912804e+01\n",
      "  1.52250041e+02  9.93150533e+00 -2.61798292e+01  5.51570381e+01\n",
      "  4.22474669e+01  1.46950402e+01  1.11563182e+01  6.32954523e+00\n",
      "  1.34845565e+01  1.67520803e+01  1.41178723e+01  4.63815970e+01\n",
      "  7.78537724e+00]\n",
      "\n",
      "\n",
      "-------------------Calcule erreur Ea et Eg --------------------\n",
      "l erreur d apprentissage =  8\n",
      "l erreur de generalisation =  29\n",
      "\n",
      "\n",
      "-------------------calcul les  stabilite --------------------\n",
      "les valeur de la stabilité sont : \n",
      " [-0.1105576   0.12088137  0.23920806  0.07957543  0.075661   -0.0164101\n",
      "  0.05564403  0.0757737   0.09904505  0.15182286  0.12346358  0.22548761\n",
      "  0.21157758  0.25209117  0.33111553  0.19948726  0.19019908 -0.02374811\n",
      "  0.11088462  0.44367058  0.43046975  0.26708352  0.44761802  0.2448934\n",
      "  0.22271421  0.04239768  0.09250396  0.08904548  0.06261522  0.21743828\n",
      "  0.28889581  0.2004531   0.08795639  0.09542926  0.14988937  0.13670617\n",
      "  0.48301656  0.10380517 -0.01824292  0.11696709  0.74005354  0.58924671\n",
      "  0.24687556  0.07974476  0.06232498  0.33983682  0.36569597  0.14453381\n",
      "  0.16124061  0.0824417   0.11950521  0.4145219   0.11482937  0.25427218\n",
      " -0.04714294  0.27397819  0.13279352  0.05117014 -0.27287907 -0.03402589\n",
      " -0.0248928   0.00257535  0.25816115  0.07103864  0.13580908 -0.48689148\n",
      " -0.00756987  0.17786885  0.3906098   0.1063024  -0.01342621 -0.05965582\n",
      " -0.17887329  0.03968864  0.19873243 -0.18016626 -0.14412871  0.11249026\n",
      "  0.1357838   0.31565024  0.38784766 -0.23899002 -0.017323   -0.22750429\n",
      " -0.02816912 -0.00129237  0.23278369  0.2167658   0.2481832   0.25305248\n",
      "  0.20034472  0.04935165  0.11000648  0.0878018   0.05673516 -0.12945708\n",
      " -0.03108672 -0.07630613  0.14160569  0.13324239  0.09275171  0.01685511\n",
      " -0.03900671  0.29442519]\n",
      "\n",
      "\n",
      "-------------------Affichage stabilite --------------------\n"
     ]
    },
    {
     "data": {
      "image/png": "[encoded data removed]",
      "text/plain": [
       "<Figure size 432x288 with 1 Axes>"
      ]
     },
     "metadata": {
      "needs_background": "light"
     },
     "output_type": "display_data"
    },
    {
     "name": "stdout",
     "output_type": "stream",
     "text": [
      "\n",
      "\n",
      "======= Initialisation Hebb avec Ea_limit =  8 =========\n",
      "-------------------Affichage N+1 poids W --------------------\n",
      "le N+1 poid W est : [-8.3000000e+02  7.0416670e+02  1.1583172e+03  4.4050600e+02\n",
      "  9.7469050e+02  8.1879650e+02  8.1642950e+02 -3.2062670e+02\n",
      " -1.1933142e+03  4.1920000e-01  4.6325790e+02  7.3201700e+02\n",
      "  1.5277540e+02 -1.2992090e+02 -1.8121600e+01  6.7181490e+02\n",
      " -1.3089808e+03 -3.7017160e+02  1.1218049e+03 -2.0574030e+02\n",
      " -4.8708500e+01  2.3125600e+01  1.1028380e+02 -1.7860600e+02\n",
      "  7.1485700e+02 -1.3046670e+02 -7.1739400e+01  7.3584600e+01\n",
      " -2.3209720e+02  8.9913200e+01  1.1527869e+03 -1.7897382e+03\n",
      "  1.1240789e+03 -3.8596700e+02 -2.9654800e+01 -4.4709500e+01\n",
      " -2.4500570e+02 -2.6111910e+02  2.3500620e+02  5.9595960e+02\n",
      " -8.3629530e+02  2.8529800e+02 -2.5805750e+02  1.3247910e+02\n",
      " -2.1260220e+02  6.7042820e+02  5.4616520e+02 -2.0544700e+01\n",
      "  1.2789347e+03  1.6076270e+03 -3.1720700e+02  2.5441730e+02\n",
      "  2.6629280e+02  8.9005000e+01  3.3953580e+02 -9.9075200e+01\n",
      " -5.8896400e+01 -1.9787220e+02  1.7777840e+02  1.1845300e+01\n",
      " -8.6443000e+00]\n",
      "\n",
      "\n",
      "-------------------Calcule erreur Ea et Eg --------------------\n",
      "l erreur d apprentissage =  8\n",
      "l erreur de generalisation =  28\n",
      "\n",
      "\n",
      "les valeur de la stabilité sont : \n",
      " [-0.10588421  0.11792234  0.24194206  0.08328817  0.07834061 -0.01412548\n",
      "  0.05567268  0.07359947  0.09565906  0.14360044  0.11790916  0.21886287\n",
      "  0.20566802  0.24441006  0.3220443   0.19032     0.19523945 -0.03866676\n",
      "  0.11211071  0.44349812  0.43365832  0.26831568  0.44212631  0.23746963\n",
      "  0.21700509  0.03827837  0.0906769   0.09200203  0.06160509  0.216311\n",
      "  0.28921371  0.1974983   0.08597856  0.09387901  0.15367074  0.13308908\n",
      "  0.46790673  0.09586885 -0.02227686  0.11257139  0.72498898  0.58071409\n",
      "  0.24286752  0.07492726  0.05745157  0.32982468  0.35586955  0.13690002\n",
      "  0.1532053   0.08636688  0.11528369  0.40948153  0.11802999  0.24982133\n",
      " -0.04962276  0.26939622  0.13014448  0.0467371  -0.2693465  -0.03880487\n",
      " -0.02119655  0.00342116  0.25393501  0.07140955  0.13576451 -0.47717648\n",
      " -0.01806307  0.17228381  0.37883593  0.1005949  -0.00909059 -0.05878962\n",
      " -0.17500651  0.039906    0.19241713 -0.18427313 -0.13953366  0.11009316\n",
      "  0.13076764  0.30903331  0.38190087 -0.24652394 -0.02300583 -0.23006932\n",
      " -0.02773938  0.00152737  0.22985986  0.21593468  0.24799472  0.23810598\n",
      "  0.19731925  0.04823237  0.11005422  0.08885549  0.0592165  -0.12660909\n",
      " -0.02366829 -0.07263755  0.14494819  0.13232752  0.08656575  0.01603971\n",
      " -0.03715286  0.28783318]\n",
      "\n",
      "\n",
      "-------------------Affichage stabilite --------------------\n"
     ]
    },
    {
     "data": {
      "image/png": "[encoded data removed]",
      "text/plain": [
       "<Figure size 432x288 with 1 Axes>"
      ]
     },
     "metadata": {
      "needs_background": "light"
     },
     "output_type": "display_data"
    },
    {
     "name": "stdout",
     "output_type": "stream",
     "text": [
      "\n",
      "\n",
      "======= Initialisation Aleatoire avec Ea_limit =  6 =========\n",
      "-------------------Affichage N+1 poids W --------------------\n",
      "le N+1 poid W est : [-265.02367097   48.2310746   -75.07235427  -49.49374049   91.42990094\n",
      "   41.88547877 -207.01764234 -393.91227125    2.21490887  376.98271021\n",
      "  243.13932132  624.1051272   488.96923348   81.92547886 -108.48034375\n",
      " -286.92593465   83.58206299   -2.57635656 -163.01628548   -9.26760468\n",
      "  110.11267618  125.5530711    65.09592033  199.22167531  179.09631873\n",
      " -232.12166098 -248.61293349   35.9015062   183.25100778    6.78930153\n",
      "  -10.88651139 -256.50664971   68.78191642  -60.67829065 -181.10562777\n",
      "   23.00399903 -195.66378387 -453.31429455  -36.14048312  283.27861186\n",
      " -157.92692498   58.18328428  111.10330702  407.62088088  545.08910889\n",
      "  341.11956997   96.55364737   64.74675253  156.47746238    8.12222725\n",
      "  -28.10416472   58.1043512    45.40625609   17.260867     12.4971018\n",
      "    6.32201889   13.728459     18.61585052   15.098769     48.82576292\n",
      "    8.11402459]\n",
      "\n",
      "\n",
      "-------------------Calcule erreur Ea et Eg --------------------\n",
      "l erreur d apprentissage =  6\n",
      "l erreur de generalisation =  27\n",
      "\n",
      "\n",
      "-------------------calcul les  stabilite --------------------\n",
      "les valeur de la stabilité sont : \n",
      " [-0.11403621  0.11195813  0.23537116  0.07469251  0.06821694 -0.03020577\n",
      "  0.03853506  0.05921896  0.07750124  0.12690952  0.10545378  0.20636112\n",
      "  0.19144593  0.23327076  0.31290275  0.17896935  0.18226094 -0.04218391\n",
      "  0.10283378  0.43831929  0.42760319  0.2655547   0.42992111  0.22729128\n",
      "  0.20611448  0.02457622  0.0768145   0.0890324   0.05903171  0.20551273\n",
      "  0.27263758  0.19170031  0.0725339   0.07880659  0.13942567  0.11798561\n",
      "  0.45706265  0.08567598 -0.02963752  0.10594243  0.71174557  0.56886142\n",
      "  0.23875303  0.06731133  0.05080185  0.31891644  0.34282427  0.13316226\n",
      "  0.14504943  0.07350461  0.11068514  0.3997734   0.10497548  0.24863724\n",
      " -0.05678717  0.2547125   0.11115722  0.0372447  -0.27347416 -0.05427651\n",
      " -0.02635656 -0.01238562  0.26161658  0.07658112  0.14733252 -0.46284212\n",
      " -0.00869844  0.17756809  0.38373165  0.10890181 -0.00844766 -0.04299086\n",
      " -0.16941992  0.0491423   0.21067141 -0.16772573 -0.13117951  0.11864136\n",
      "  0.13200272  0.31246108  0.38607621 -0.23258405 -0.00618931 -0.21739528\n",
      " -0.01343896  0.01016575  0.24010986  0.22524399  0.25843428  0.243636\n",
      "  0.20216769  0.05535301  0.12300049  0.10341129  0.07344979 -0.11410357\n",
      " -0.01617557 -0.06214196  0.14751233  0.14028868  0.0902406   0.02251446\n",
      " -0.02898114  0.29634108]\n",
      "\n",
      "\n",
      "-------------------Affichage stabilite --------------------\n"
     ]
    },
    {
     "data": {
      "image/png": "[encoded data removed]",
      "text/plain": [
       "<Figure size 432x288 with 1 Axes>"
      ]
     },
     "metadata": {
      "needs_background": "light"
     },
     "output_type": "display_data"
    },
    {
     "name": "stdout",
     "output_type": "stream",
     "text": [
      "\n",
      "\n",
      "======= Initialisation Hebb avec Ea_limit =  6 =========\n",
      "-------------------Affichage N+1 poids W --------------------\n",
      "le N+1 poid W est : [-8.3000000e+02  7.0416670e+02  1.1583172e+03  4.4050600e+02\n",
      "  9.7469050e+02  8.1879650e+02  8.1642950e+02 -3.2062670e+02\n",
      " -1.1933142e+03  4.1920000e-01  4.6325790e+02  7.3201700e+02\n",
      "  1.5277540e+02 -1.2992090e+02 -1.8121600e+01  6.7181490e+02\n",
      " -1.3089808e+03 -3.7017160e+02  1.1218049e+03 -2.0574030e+02\n",
      " -4.8708500e+01  2.3125600e+01  1.1028380e+02 -1.7860600e+02\n",
      "  7.1485700e+02 -1.3046670e+02 -7.1739400e+01  7.3584600e+01\n",
      " -2.3209720e+02  8.9913200e+01  1.1527869e+03 -1.7897382e+03\n",
      "  1.1240789e+03 -3.8596700e+02 -2.9654800e+01 -4.4709500e+01\n",
      " -2.4500570e+02 -2.6111910e+02  2.3500620e+02  5.9595960e+02\n",
      " -8.3629530e+02  2.8529800e+02 -2.5805750e+02  1.3247910e+02\n",
      " -2.1260220e+02  6.7042820e+02  5.4616520e+02 -2.0544700e+01\n",
      "  1.2789347e+03  1.6076270e+03 -3.1720700e+02  2.5441730e+02\n",
      "  2.6629280e+02  8.9005000e+01  3.3953580e+02 -9.9075200e+01\n",
      " -5.8896400e+01 -1.9787220e+02  1.7777840e+02  1.1845300e+01\n",
      " -8.6443000e+00]\n",
      "\n",
      "\n",
      "-------------------Calcule erreur Ea et Eg --------------------\n",
      "l erreur d apprentissage =  6\n",
      "l erreur de generalisation =  27\n",
      "\n",
      "\n",
      "les valeur de la stabilité sont : \n",
      " [-0.10953159  0.11180553  0.23464347  0.07683631  0.0711028  -0.02352448\n",
      "  0.04487319  0.06125826  0.08056232  0.1267938   0.10652108  0.20597868\n",
      "  0.19324028  0.23166343  0.30888429  0.1762734   0.18306451 -0.04802915\n",
      "  0.10655747  0.43803208  0.43204008  0.26755428  0.42996564  0.2231941\n",
      "  0.20541428  0.02660856  0.0795202   0.09157321  0.06008322  0.20969256\n",
      "  0.27898126  0.19176577  0.07519898  0.08279679  0.14276253  0.11944755\n",
      "  0.45145402  0.08412818 -0.02955769  0.1051993   0.7064562   0.5665444\n",
      "  0.23626248  0.06654169  0.04993679  0.3163921   0.34088007  0.13187202\n",
      "  0.14326906  0.07760059  0.10731165  0.39581685  0.11117482  0.24549308\n",
      " -0.05510451  0.25313557  0.11386355  0.03974136 -0.26913778 -0.05164469\n",
      " -0.0225138  -0.00812579  0.25764838  0.07691705  0.14371648 -0.45856128\n",
      " -0.01597576  0.17322618  0.37539328  0.10155414 -0.00655499 -0.04625696\n",
      " -0.16740957  0.04683738  0.2039077  -0.17699057 -0.13089793  0.11308295\n",
      "  0.12806718  0.30773682  0.37989972 -0.24189802 -0.01373288 -0.22467683\n",
      " -0.0189949   0.0087514   0.23467045  0.22094508  0.25409593  0.23467615\n",
      "  0.19923861  0.05214361  0.11859231  0.09847744  0.06929373 -0.11529431\n",
      " -0.01338293 -0.06180473  0.14723891  0.13563143  0.0861006   0.02147095\n",
      " -0.02997684  0.29224005]\n",
      "\n",
      "\n",
      "-------------------Affichage stabilite --------------------\n"
     ]
    },
    {
     "data": {
      "image/png": "[encoded data removed]",
      "text/plain": [
       "<Figure size 432x288 with 1 Axes>"
      ]
     },
     "metadata": {
      "needs_background": "light"
     },
     "output_type": "display_data"
    },
    {
     "name": "stdout",
     "output_type": "stream",
     "text": [
      "\n",
      "\n"
     ]
    }
   ],
   "source": [
    "P = 104\n",
    "N = 60\n",
    "tau = test_label.reshape((P,1))\n",
    "alpha = 0.7\n",
    "nb_epochs = 10000\n",
    "Ealim=[10,8,6]\n",
    "for i in Ealim :\n",
    "    \n",
    "    print(\"======= Initialisation Aleatoire avec Ea_limit = \", i, \"=========\")\n",
    "\n",
    "    W_init_aleatoire = np.random.rand(N+1,1)\n",
    "    print(\"-------------------Affichage N+1 poids W --------------------\")\n",
    "    W_rand = apprentissage_pocket(P, N, test, tau, alpha, nb_epochs, i, W_init_aleatoire)\n",
    "    print('le N+1 poid W est :', W_rand.squeeze())\n",
    "    print('\\n')\n",
    "    print(\"-------------------Calcule erreur Ea et Eg --------------------\")\n",
    "    print('l erreur d apprentissage = ',erreur(test, W_rand, test_label.reshape((P,1)))) \n",
    "    print('l erreur de generalisation = ',erreur(train, W_rand, train_label.reshape((P,1)))) \n",
    "    print('\\n')\n",
    "    print(\"-------------------calcul les  stabilite --------------------\")\n",
    "    d = gamma(train, W_rand, test_label.reshape((P,1)))\n",
    "    print('les valeur de la stabilité sont :','\\n', d.squeeze())\n",
    "    print('\\n')\n",
    "    print(\"-------------------Affichage stabilite --------------------\")\n",
    "    plot_stabilite(d)\n",
    "    print('\\n')\n",
    "    print(\"======= Initialisation Hebb avec Ea_limit = \", i, \"=========\")\n",
    "    W_init_hebb = hebb(P,N,train,tau)\n",
    "    print(\"-------------------Affichage N+1 poids W --------------------\")\n",
    "    W_hebb = apprentissage_pocket(P, N, test, tau, alpha, nb_epochs, i, W_init_hebb)\n",
    "    print('le N+1 poid W est :', W.squeeze())\n",
    "    print('\\n')\n",
    "    print(\"-------------------Calcule erreur Ea et Eg --------------------\")\n",
    "    print('l erreur d apprentissage = ',erreur(test, W_hebb, test_label.reshape((P,1)))) \n",
    "    print('l erreur de generalisation = ',erreur(train, W_hebb, train_label.reshape((P,1))))\n",
    "    print('\\n')\n",
    "    d = gamma(train, W_hebb, test_label.reshape((P,1)))\n",
    "    print('les valeur de la stabilité sont :','\\n', d.squeeze())\n",
    "    print('\\n')\n",
    "    print(\"-------------------Affichage stabilite --------------------\")\n",
    "    plot_stabilite(d)\n",
    "    print('\\n')"
   ]
  },
  {
   "cell_type": "markdown",
   "id": "e8519ecc",
   "metadata": {},
   "source": [
    "# Alpha = 1"
   ]
  },
  {
   "cell_type": "code",
   "execution_count": 26,
   "id": "3851f313",
   "metadata": {},
   "outputs": [
    {
     "name": "stdout",
     "output_type": "stream",
     "text": [
      "======= Initialisation Aleatoire avec Ea_limit =  10 =========\n",
      "-------------------Affichage N+1 poids W --------------------\n",
      "le N+1 poid W est : [-2.69247654e+02  3.07964374e+01 -4.21171369e+01 -2.62470951e+01\n",
      "  6.55133279e+01  4.96496937e+01 -1.13708728e+02 -2.26977582e+02\n",
      "  6.27780180e+00  2.86540467e+02  2.67921203e+02  5.19355376e+02\n",
      "  4.61570618e+02  1.39474888e+02 -9.79018682e+01 -2.34609113e+02\n",
      " -4.01396978e+01 -6.35453864e+01 -1.41575531e+02  1.39791918e+01\n",
      "  1.22460555e+02  1.13452353e+02  1.04971370e+02  1.62538215e+02\n",
      "  8.01360542e+01 -1.65346818e+02 -1.86590936e+02 -7.29848916e+00\n",
      "  1.07512324e+02  6.09335310e-02 -2.90646718e+01 -2.53353714e+02\n",
      "  2.22542826e+01 -7.55155044e+01 -1.57321088e+02 -9.42256297e+01\n",
      " -2.29083509e+02 -3.03113685e+02 -1.54696389e+01  2.01094505e+02\n",
      " -8.72705578e+01  3.82020271e+01  1.41306561e+02  3.45374984e+02\n",
      "  4.44302375e+02  3.39077348e+02  1.70760375e+02  1.03010366e+02\n",
      "  1.23597773e+02  2.37137762e+01 -1.20110515e+01  3.37893113e+01\n",
      "  2.60523171e+01  8.48576357e+00  7.02264355e+00  3.61855182e+00\n",
      "  1.08389438e+01  8.75748947e+00  9.32826542e+00  2.70289909e+01\n",
      "  5.39047245e+00]\n",
      "\n",
      "\n",
      "-------------------Calcule erreur Ea et Eg --------------------\n",
      "l erreur d apprentissage =  10\n",
      "l erreur de generalisation =  29\n",
      "\n",
      "\n",
      "-------------------calcul les  stabilite --------------------\n",
      "les valeur de la stabilité sont : \n",
      " [-0.19499826  0.04918185  0.16277683 -0.02962603 -0.03735925 -0.11474325\n",
      " -0.04110666 -0.01105538  0.04224624  0.09828122  0.00519716  0.12290766\n",
      "  0.10875564  0.17050374  0.24567785  0.1199115   0.12533653 -0.04600698\n",
      " -0.00146951  0.36333765  0.29847417  0.16534722  0.38511686  0.23088161\n",
      "  0.16511217 -0.01019221 -0.02223667 -0.05351743 -0.06815932  0.11611873\n",
      "  0.20427409  0.14800843  0.00508612 -0.02807294  0.04879548  0.08727964\n",
      "  0.45176488  0.00642193 -0.13009895  0.0111554   0.71218839  0.53792502\n",
      "  0.16114817 -0.0058943  -0.02494966  0.2696276   0.29133694  0.01745174\n",
      "  0.08373374 -0.04115759  0.03828072  0.34661318  0.07117793  0.12123962\n",
      " -0.14756723  0.21133821  0.09369003 -0.06001377 -0.43741241 -0.08769305\n",
      " -0.17280819 -0.0551648   0.39751047  0.16100378  0.20023623 -0.457464\n",
      "  0.11260754  0.33951066  0.54100639  0.27213733  0.12948029  0.00324956\n",
      " -0.0957431   0.16219997  0.28337288 -0.05733444 -0.03085077  0.27875406\n",
      "  0.32101264  0.49382627  0.58963272 -0.17571388  0.1071816  -0.14316723\n",
      "  0.04625766  0.099414    0.38113347  0.38834172  0.39410142  0.41049253\n",
      "  0.31176783  0.14035043  0.26784757  0.21362486  0.16694104 -0.00604605\n",
      "  0.06400355  0.00897137  0.27278529  0.26329413  0.31121661  0.12705167\n",
      "  0.08999449  0.42439255]\n",
      "\n",
      "\n",
      "-------------------Affichage stabilite --------------------\n"
     ]
    },
    {
     "data": {
      "image/png": "[encoded data removed]",
      "text/plain": [
       "<Figure size 432x288 with 1 Axes>"
      ]
     },
     "metadata": {
      "needs_background": "light"
     },
     "output_type": "display_data"
    },
    {
     "name": "stdout",
     "output_type": "stream",
     "text": [
      "\n",
      "\n",
      "======= Initialisation Hebb avec Ea_limit =  10 =========\n",
      "-------------------Affichage N+1 poids W --------------------\n",
      "le N+1 poid W est : [-8.3000000e+02  7.0416670e+02  1.1583172e+03  4.4050600e+02\n",
      "  9.7469050e+02  8.1879650e+02  8.1642950e+02 -3.2062670e+02\n",
      " -1.1933142e+03  4.1920000e-01  4.6325790e+02  7.3201700e+02\n",
      "  1.5277540e+02 -1.2992090e+02 -1.8121600e+01  6.7181490e+02\n",
      " -1.3089808e+03 -3.7017160e+02  1.1218049e+03 -2.0574030e+02\n",
      " -4.8708500e+01  2.3125600e+01  1.1028380e+02 -1.7860600e+02\n",
      "  7.1485700e+02 -1.3046670e+02 -7.1739400e+01  7.3584600e+01\n",
      " -2.3209720e+02  8.9913200e+01  1.1527869e+03 -1.7897382e+03\n",
      "  1.1240789e+03 -3.8596700e+02 -2.9654800e+01 -4.4709500e+01\n",
      " -2.4500570e+02 -2.6111910e+02  2.3500620e+02  5.9595960e+02\n",
      " -8.3629530e+02  2.8529800e+02 -2.5805750e+02  1.3247910e+02\n",
      " -2.1260220e+02  6.7042820e+02  5.4616520e+02 -2.0544700e+01\n",
      "  1.2789347e+03  1.6076270e+03 -3.1720700e+02  2.5441730e+02\n",
      "  2.6629280e+02  8.9005000e+01  3.3953580e+02 -9.9075200e+01\n",
      " -5.8896400e+01 -1.9787220e+02  1.7777840e+02  1.1845300e+01\n",
      " -8.6443000e+00]\n",
      "\n",
      "\n",
      "-------------------Calcule erreur Ea et Eg --------------------\n",
      "l erreur d apprentissage =  10\n",
      "l erreur de generalisation =  30\n",
      "\n",
      "\n",
      "les valeur de la stabilité sont : \n",
      " [-0.18941824  0.04877575  0.1572175  -0.03224672 -0.03695161 -0.10714773\n",
      " -0.03441159 -0.00418135  0.04941537  0.10257513  0.00450125  0.12240306\n",
      "  0.10916226  0.17013789  0.24127855  0.12048287  0.13154433 -0.03995571\n",
      " -0.00137016  0.36094827  0.29894626  0.16403162  0.3918575   0.23072645\n",
      "  0.17144357 -0.00248166 -0.02263851 -0.0533994  -0.06738998  0.11991016\n",
      "  0.21398308  0.15114357  0.01401418 -0.01846459  0.04889828  0.09316181\n",
      "  0.45765812  0.01061838 -0.13178329  0.0090334   0.71591437  0.53863933\n",
      "  0.15710873 -0.00852315 -0.02685308  0.27046534  0.29313087  0.0146441\n",
      "  0.08511837 -0.03376868  0.03140988  0.34336076  0.08198199  0.11208175\n",
      " -0.14460622  0.21616213  0.09914712 -0.05959447 -0.43784677 -0.07932353\n",
      " -0.17424296 -0.04748141  0.39578804  0.15633415  0.19175005 -0.4609521\n",
      "  0.1096352   0.3433229   0.53784243  0.26971247  0.13420355 -0.00472569\n",
      " -0.09317155  0.16592415  0.27862754 -0.0627513  -0.03269394  0.27250582\n",
      "  0.32662754  0.49642558  0.58650321 -0.18594588  0.10228891 -0.15325128\n",
      "  0.03731289  0.099963    0.37619232  0.38529024  0.39036633  0.41017236\n",
      "  0.3137369   0.13853862  0.26851929  0.21229934  0.16466484 -0.00147556\n",
      "  0.06550498  0.00980884  0.27461934  0.26323711  0.31449378  0.13043215\n",
      "  0.09158163  0.42534624]\n",
      "\n",
      "\n",
      "-------------------Affichage stabilite --------------------\n"
     ]
    },
    {
     "data": {
      "image/png": "[encoded data removed]",
      "text/plain": [
       "<Figure size 432x288 with 1 Axes>"
      ]
     },
     "metadata": {
      "needs_background": "light"
     },
     "output_type": "display_data"
    },
    {
     "name": "stdout",
     "output_type": "stream",
     "text": [
      "\n",
      "\n",
      "======= Initialisation Aleatoire avec Ea_limit =  8 =========\n",
      "-------------------Affichage N+1 poids W --------------------\n",
      "le N+1 poid W est : [-267.90866491   46.66042678  -77.16186348  -49.36660395   93.97517228\n",
      "   44.10352225 -203.85941398 -395.71774972    2.20285858  383.3880684\n",
      "  250.75267751  630.51403983  498.87750454   88.25352754 -118.52895947\n",
      " -303.02029156   61.2963884   -11.79455175 -166.30551542   -5.87090026\n",
      "  123.1650766   141.47869545   70.26312194  204.1925985   186.2519391\n",
      " -235.5175307  -250.25402506   30.95532147  176.79312516   -1.20228207\n",
      "  -16.67530253 -274.7425756    65.94333834  -64.93264636 -174.15441266\n",
      "   23.70378987 -188.00199704 -449.35359626  -21.412812    303.0102319\n",
      " -148.65991081   61.606474    113.56046609  412.41071279  551.39066256\n",
      "  346.29648361   95.56608955   63.62716825  154.4327403     7.16447334\n",
      "  -28.37186494   58.20407274   45.61441234   16.94840099   12.46912483\n",
      "    6.28466617   14.98196587   18.83612624   15.449801     49.90554313\n",
      "    8.46697417]\n",
      "\n",
      "\n",
      "-------------------Calcule erreur Ea et Eg --------------------\n",
      "l erreur d apprentissage =  6\n",
      "l erreur de generalisation =  27\n",
      "\n",
      "\n",
      "-------------------calcul les  stabilite --------------------\n",
      "les valeur de la stabilité sont : \n",
      " [-0.09932263  0.11451387  0.22838154  0.0767989   0.07572256 -0.01382188\n",
      "  0.04948222  0.07590868  0.09375761  0.13492135  0.1005917   0.20297725\n",
      "  0.19100752  0.23076509  0.30595983  0.17674078  0.20812863 -0.03920601\n",
      "  0.10097719  0.42675969  0.42516231  0.25319215  0.43163554  0.23073493\n",
      "  0.21441847  0.04072049  0.07299487  0.08925461  0.05620176  0.2080765\n",
      "  0.2931527   0.1941827   0.09443597  0.10155133  0.14638809  0.12702806\n",
      "  0.46475199  0.09589923 -0.03252571  0.10227836  0.72190866  0.57360208\n",
      "  0.22757384  0.06024374  0.04418999  0.314812    0.34234874  0.12242053\n",
      "  0.14131936  0.09519221  0.10230154  0.40354852  0.12736027  0.23997734\n",
      " -0.04683164  0.26799253  0.12708219  0.03369132 -0.27392101 -0.03827354\n",
      " -0.02568032  0.00676595  0.2523243   0.06965945  0.12827023 -0.47294963\n",
      " -0.02620622  0.18348844  0.37491355  0.10810487  0.00879226 -0.06213001\n",
      " -0.16277839  0.05457707  0.19300607 -0.18392711 -0.13838428  0.10630598\n",
      "  0.14528561  0.31676814  0.37950296 -0.25170624 -0.02317145 -0.23594106\n",
      " -0.02915483  0.01358694  0.22759742  0.21827041  0.25090713  0.22890777\n",
      "  0.21088962  0.05730587  0.12678134  0.10509107  0.07225726 -0.10875492\n",
      " -0.00604242 -0.05605898  0.1543969   0.14294773  0.09367621  0.03060666\n",
      " -0.02786549  0.28594797]\n",
      "\n",
      "\n",
      "-------------------Affichage stabilite --------------------\n"
     ]
    },
    {
     "data": {
      "image/png": "[encoded data removed]",
      "text/plain": [
       "<Figure size 432x288 with 1 Axes>"
      ]
     },
     "metadata": {
      "needs_background": "light"
     },
     "output_type": "display_data"
    },
    {
     "name": "stdout",
     "output_type": "stream",
     "text": [
      "\n",
      "\n",
      "======= Initialisation Hebb avec Ea_limit =  8 =========\n",
      "-------------------Affichage N+1 poids W --------------------\n",
      "le N+1 poid W est : [-8.3000000e+02  7.0416670e+02  1.1583172e+03  4.4050600e+02\n",
      "  9.7469050e+02  8.1879650e+02  8.1642950e+02 -3.2062670e+02\n",
      " -1.1933142e+03  4.1920000e-01  4.6325790e+02  7.3201700e+02\n",
      "  1.5277540e+02 -1.2992090e+02 -1.8121600e+01  6.7181490e+02\n",
      " -1.3089808e+03 -3.7017160e+02  1.1218049e+03 -2.0574030e+02\n",
      " -4.8708500e+01  2.3125600e+01  1.1028380e+02 -1.7860600e+02\n",
      "  7.1485700e+02 -1.3046670e+02 -7.1739400e+01  7.3584600e+01\n",
      " -2.3209720e+02  8.9913200e+01  1.1527869e+03 -1.7897382e+03\n",
      "  1.1240789e+03 -3.8596700e+02 -2.9654800e+01 -4.4709500e+01\n",
      " -2.4500570e+02 -2.6111910e+02  2.3500620e+02  5.9595960e+02\n",
      " -8.3629530e+02  2.8529800e+02 -2.5805750e+02  1.3247910e+02\n",
      " -2.1260220e+02  6.7042820e+02  5.4616520e+02 -2.0544700e+01\n",
      "  1.2789347e+03  1.6076270e+03 -3.1720700e+02  2.5441730e+02\n",
      "  2.6629280e+02  8.9005000e+01  3.3953580e+02 -9.9075200e+01\n",
      " -5.8896400e+01 -1.9787220e+02  1.7777840e+02  1.1845300e+01\n",
      " -8.6443000e+00]\n",
      "\n",
      "\n",
      "-------------------Calcule erreur Ea et Eg --------------------\n",
      "l erreur d apprentissage =  8\n",
      "l erreur de generalisation =  28\n",
      "\n",
      "\n",
      "les valeur de la stabilité sont : \n",
      " [-0.10588421  0.11792234  0.24194206  0.08328817  0.07834061 -0.01412548\n",
      "  0.05567268  0.07359947  0.09565906  0.14360044  0.11790916  0.21886287\n",
      "  0.20566802  0.24441006  0.3220443   0.19032     0.19523945 -0.03866676\n",
      "  0.11211071  0.44349812  0.43365832  0.26831568  0.44212631  0.23746963\n",
      "  0.21700509  0.03827837  0.0906769   0.09200203  0.06160509  0.216311\n",
      "  0.28921371  0.1974983   0.08597856  0.09387901  0.15367074  0.13308908\n",
      "  0.46790673  0.09586885 -0.02227686  0.11257139  0.72498898  0.58071409\n",
      "  0.24286752  0.07492726  0.05745157  0.32982468  0.35586955  0.13690002\n",
      "  0.1532053   0.08636688  0.11528369  0.40948153  0.11802999  0.24982133\n",
      " -0.04962276  0.26939622  0.13014448  0.0467371  -0.2693465  -0.03880487\n",
      " -0.02119655  0.00342116  0.25393501  0.07140955  0.13576451 -0.47717648\n",
      " -0.01806307  0.17228381  0.37883593  0.1005949  -0.00909059 -0.05878962\n",
      " -0.17500651  0.039906    0.19241713 -0.18427313 -0.13953366  0.11009316\n",
      "  0.13076764  0.30903331  0.38190087 -0.24652394 -0.02300583 -0.23006932\n",
      " -0.02773938  0.00152737  0.22985986  0.21593468  0.24799472  0.23810598\n",
      "  0.19731925  0.04823237  0.11005422  0.08885549  0.0592165  -0.12660909\n",
      " -0.02366829 -0.07263755  0.14494819  0.13232752  0.08656575  0.01603971\n",
      " -0.03715286  0.28783318]\n",
      "\n",
      "\n",
      "-------------------Affichage stabilite --------------------\n"
     ]
    },
    {
     "data": {
      "image/png": "[encoded data removed]",
      "text/plain": [
       "<Figure size 432x288 with 1 Axes>"
      ]
     },
     "metadata": {
      "needs_background": "light"
     },
     "output_type": "display_data"
    },
    {
     "name": "stdout",
     "output_type": "stream",
     "text": [
      "\n",
      "\n",
      "======= Initialisation Aleatoire avec Ea_limit =  6 =========\n",
      "-------------------Affichage N+1 poids W --------------------\n",
      "le N+1 poid W est : [-269.31184805   47.99111337  -76.49668121  -49.37201051   90.11075076\n",
      "   40.53784663 -207.49292897 -389.27725358    0.89899288  377.15463116\n",
      "  249.40082689  626.35283394  494.2527784    88.50155251 -106.21238664\n",
      " -279.9435546    80.02264056    1.11522356 -161.4286498    -6.31707109\n",
      "  107.33356828  122.59172915   62.90759317  197.03469883  178.14802022\n",
      " -230.34963337 -244.61520691   33.54381312  184.60889674    6.79056167\n",
      "  -12.72363195 -256.85355418   71.369509    -62.3837924  -185.06061702\n",
      "    8.70359242 -206.48578276 -448.74758194  -37.35527852  282.85978482\n",
      " -153.49046424   57.640898    110.50087236  404.25243334  546.78194573\n",
      "  347.46279065  103.87009231   70.05119547  156.98249082    9.7907595\n",
      "  -27.44914233   57.91064388   43.57171486   15.71083278   12.24720678\n",
      "    6.06401304   13.63618169   18.62581375   14.52264323   48.86495729\n",
      "    8.35287224]\n",
      "\n",
      "\n",
      "-------------------Calcule erreur Ea et Eg --------------------\n",
      "l erreur d apprentissage =  6\n",
      "l erreur de generalisation =  26\n",
      "\n",
      "\n",
      "-------------------calcul les  stabilite --------------------\n",
      "les valeur de la stabilité sont : \n",
      " [-1.19730002e-01  1.12558663e-01  2.38648024e-01  7.33292811e-02\n",
      "  6.56094334e-02 -3.48266436e-02  3.30957965e-02  5.28463271e-02\n",
      "  7.57334029e-02  1.29778622e-01  1.04755129e-01  2.07454875e-01\n",
      "  1.92217683e-01  2.35167853e-01  3.18477822e-01  1.83079113e-01\n",
      "  1.75256584e-01 -4.10845168e-02  1.01057812e-01  4.38728921e-01\n",
      "  4.22158375e-01  2.63772171e-01  4.33565536e-01  2.28571414e-01\n",
      "  2.02374134e-01  2.16881204e-02  7.37592239e-02  8.38375652e-02\n",
      "  5.50173346e-02  2.02889009e-01  2.67026590e-01  1.92024309e-01\n",
      "  6.48476685e-02  6.80868158e-02  1.34011520e-01  1.19709076e-01\n",
      "  4.61561714e-01  8.22916425e-02 -3.10563944e-02  1.02469428e-01\n",
      "  7.15393858e-01  5.72938772e-01  2.38791282e-01  6.81344576e-02\n",
      "  5.17535277e-02  3.20447202e-01  3.42751746e-01  1.33262021e-01\n",
      "  1.45272613e-01  6.19066926e-02  1.16172171e-01  4.03380568e-01\n",
      "  1.04147124e-01  2.49554572e-01 -5.96906772e-02  2.53876822e-01\n",
      "  1.06692022e-01  3.44919326e-02 -2.80690215e-01 -5.93473252e-02\n",
      " -3.29421916e-02 -1.46824682e-02  2.67940174e-01  8.57833322e-02\n",
      "  1.49646119e-01 -4.66962149e-01 -2.41686802e-03  1.85832214e-01\n",
      "  3.98449426e-01  1.20217968e-01 -8.69539390e-03 -3.89712049e-02\n",
      " -1.69321509e-01  5.27613212e-02  2.15303671e-01 -1.58578557e-01\n",
      " -1.25421426e-01  1.33713558e-01  1.39967547e-01  3.22322000e-01\n",
      "  3.96716756e-01 -2.26534881e-01  6.53873194e-04 -2.09287403e-01\n",
      " -5.97444080e-03  1.10576190e-02  2.50410793e-01  2.35854089e-01\n",
      "  2.67535424e-01  2.58733592e-01  2.04552327e-01  5.78234881e-02\n",
      "  1.24781458e-01  1.04685805e-01  7.56763939e-02 -1.12658469e-01\n",
      " -2.06959471e-02 -6.46616786e-02  1.48896630e-01  1.42026430e-01\n",
      "  9.49770755e-02  2.47386660e-02 -2.72252265e-02  3.04519952e-01]\n",
      "\n",
      "\n",
      "-------------------Affichage stabilite --------------------\n"
     ]
    },
    {
     "data": {
      "image/png": "[encoded data removed]",
      "text/plain": [
       "<Figure size 432x288 with 1 Axes>"
      ]
     },
     "metadata": {
      "needs_background": "light"
     },
     "output_type": "display_data"
    },
    {
     "name": "stdout",
     "output_type": "stream",
     "text": [
      "\n",
      "\n",
      "======= Initialisation Hebb avec Ea_limit =  6 =========\n",
      "-------------------Affichage N+1 poids W --------------------\n",
      "le N+1 poid W est : [-8.3000000e+02  7.0416670e+02  1.1583172e+03  4.4050600e+02\n",
      "  9.7469050e+02  8.1879650e+02  8.1642950e+02 -3.2062670e+02\n",
      " -1.1933142e+03  4.1920000e-01  4.6325790e+02  7.3201700e+02\n",
      "  1.5277540e+02 -1.2992090e+02 -1.8121600e+01  6.7181490e+02\n",
      " -1.3089808e+03 -3.7017160e+02  1.1218049e+03 -2.0574030e+02\n",
      " -4.8708500e+01  2.3125600e+01  1.1028380e+02 -1.7860600e+02\n",
      "  7.1485700e+02 -1.3046670e+02 -7.1739400e+01  7.3584600e+01\n",
      " -2.3209720e+02  8.9913200e+01  1.1527869e+03 -1.7897382e+03\n",
      "  1.1240789e+03 -3.8596700e+02 -2.9654800e+01 -4.4709500e+01\n",
      " -2.4500570e+02 -2.6111910e+02  2.3500620e+02  5.9595960e+02\n",
      " -8.3629530e+02  2.8529800e+02 -2.5805750e+02  1.3247910e+02\n",
      " -2.1260220e+02  6.7042820e+02  5.4616520e+02 -2.0544700e+01\n",
      "  1.2789347e+03  1.6076270e+03 -3.1720700e+02  2.5441730e+02\n",
      "  2.6629280e+02  8.9005000e+01  3.3953580e+02 -9.9075200e+01\n",
      " -5.8896400e+01 -1.9787220e+02  1.7777840e+02  1.1845300e+01\n",
      " -8.6443000e+00]\n",
      "\n",
      "\n",
      "-------------------Calcule erreur Ea et Eg --------------------\n",
      "l erreur d apprentissage =  6\n",
      "l erreur de generalisation =  27\n",
      "\n",
      "\n",
      "les valeur de la stabilité sont : \n",
      " [-0.10953159  0.11180553  0.23464347  0.07683631  0.0711028  -0.02352448\n",
      "  0.04487319  0.06125826  0.08056232  0.1267938   0.10652108  0.20597868\n",
      "  0.19324028  0.23166343  0.30888429  0.1762734   0.18306451 -0.04802915\n",
      "  0.10655747  0.43803208  0.43204008  0.26755428  0.42996564  0.2231941\n",
      "  0.20541428  0.02660856  0.0795202   0.09157321  0.06008322  0.20969256\n",
      "  0.27898126  0.19176577  0.07519898  0.08279679  0.14276253  0.11944755\n",
      "  0.45145402  0.08412818 -0.02955769  0.1051993   0.7064562   0.5665444\n",
      "  0.23626248  0.06654169  0.04993679  0.3163921   0.34088007  0.13187202\n",
      "  0.14326906  0.07760059  0.10731165  0.39581685  0.11117482  0.24549308\n",
      " -0.05510451  0.25313557  0.11386355  0.03974136 -0.26913778 -0.05164469\n",
      " -0.0225138  -0.00812579  0.25764838  0.07691705  0.14371648 -0.45856128\n",
      " -0.01597576  0.17322618  0.37539328  0.10155414 -0.00655499 -0.04625696\n",
      " -0.16740957  0.04683738  0.2039077  -0.17699057 -0.13089793  0.11308295\n",
      "  0.12806718  0.30773682  0.37989972 -0.24189802 -0.01373288 -0.22467683\n",
      " -0.0189949   0.0087514   0.23467045  0.22094508  0.25409593  0.23467615\n",
      "  0.19923861  0.05214361  0.11859231  0.09847744  0.06929373 -0.11529431\n",
      " -0.01338293 -0.06180473  0.14723891  0.13563143  0.0861006   0.02147095\n",
      " -0.02997684  0.29224005]\n",
      "\n",
      "\n",
      "-------------------Affichage stabilite --------------------\n"
     ]
    },
    {
     "data": {
      "image/png": "[encoded data removed]",
      "text/plain": [
       "<Figure size 432x288 with 1 Axes>"
      ]
     },
     "metadata": {
      "needs_background": "light"
     },
     "output_type": "display_data"
    },
    {
     "name": "stdout",
     "output_type": "stream",
     "text": [
      "\n",
      "\n"
     ]
    }
   ],
   "source": [
    "P = 104\n",
    "N = 60\n",
    "tau = test_label.reshape((P,1))\n",
    "alpha = 1\n",
    "nb_epochs = 10000\n",
    "Ealim=[10,8,6]\n",
    "for i in Ealim :\n",
    "    \n",
    "    print(\"======= Initialisation Aleatoire avec Ea_limit = \", i, \"=========\")\n",
    "\n",
    "    W_init_aleatoire = np.random.rand(N+1,1)\n",
    "    print(\"-------------------Affichage N+1 poids W --------------------\")\n",
    "    W_rand = apprentissage_pocket(P, N, test, tau, alpha, nb_epochs, i, W_init_aleatoire)\n",
    "    print('le N+1 poid W est :', W_rand.squeeze())\n",
    "    print('\\n')\n",
    "    print(\"-------------------Calcule erreur Ea et Eg --------------------\")\n",
    "    print('l erreur d apprentissage = ',erreur(test, W_rand, test_label.reshape((P,1)))) \n",
    "    print('l erreur de generalisation = ',erreur(train, W_rand, train_label.reshape((P,1)))) \n",
    "    print('\\n')\n",
    "    print(\"-------------------calcul les  stabilite --------------------\")\n",
    "    d = gamma(train, W_rand, test_label.reshape((P,1)))\n",
    "    print('les valeur de la stabilité sont :','\\n', d.squeeze())\n",
    "    print('\\n')\n",
    "    print(\"-------------------Affichage stabilite --------------------\")\n",
    "    plot_stabilite(d)\n",
    "    print('\\n')\n",
    "    print(\"======= Initialisation Hebb avec Ea_limit = \", i, \"=========\")\n",
    "    W_init_hebb = hebb(P,N,train,tau)\n",
    "    print(\"-------------------Affichage N+1 poids W --------------------\")\n",
    "    W_hebb = apprentissage_pocket(P, N, test, tau, alpha, nb_epochs, i, W_init_hebb)\n",
    "    print('le N+1 poid W est :', W.squeeze())\n",
    "    print('\\n')\n",
    "    print(\"-------------------Calcule erreur Ea et Eg --------------------\")\n",
    "    print('l erreur d apprentissage = ',erreur(test, W_hebb, test_label.reshape((P,1)))) \n",
    "    print('l erreur de generalisation = ',erreur(train, W_hebb, train_label.reshape((P,1))))\n",
    "    print('\\n')\n",
    "    d = gamma(train, W_hebb, test_label.reshape((P,1)))\n",
    "    print('les valeur de la stabilité sont :','\\n', d.squeeze())\n",
    "    print('\\n')\n",
    "    print(\"-------------------Affichage stabilite --------------------\")\n",
    "    plot_stabilite(d)\n",
    "    print('\\n')"
   ]
  },
  {
   "cell_type": "markdown",
   "id": "623dd7fb",
   "metadata": {},
   "source": [
    "# Partie III Apprentissage sur train et test"
   ]
  },
  {
   "cell_type": "code",
   "execution_count": 27,
   "id": "1be59a84",
   "metadata": {},
   "outputs": [
    {
     "name": "stdout",
     "output_type": "stream",
     "text": [
      "======= version batch  =========\n",
      "le N+1 poid W est : \n",
      " [-3.26617026e+02  8.73799784e+02  4.34999214e+01 -1.29237298e+03\n",
      "  5.99333311e+02 -2.55629489e+02  3.55299880e+02 -4.69368360e+02\n",
      " -3.54630910e+02  4.91876317e+02 -1.96076216e+02  1.98801620e+02\n",
      "  4.50038493e+02 -2.20796268e+02  2.20946649e+01  1.45469708e+02\n",
      " -2.20618793e+02 -2.29072847e+02  2.61878091e+02 -2.01613131e+02\n",
      "  4.84909111e+02 -5.39340345e+02  6.37373605e+02 -4.51362472e+02\n",
      "  5.09268290e+02 -2.30375047e+02 -7.60818924e+01  1.94063142e+02\n",
      " -1.01441103e+02 -7.88455277e+01  4.93302117e+02 -6.30123365e+02\n",
      "  2.21920919e+02  1.84195705e+02 -3.27011611e+02  2.46116898e+02\n",
      " -3.15145047e+01 -3.33971590e+02  8.11280096e+01  2.79331935e+02\n",
      " -3.81805634e+02  8.60313891e+01  1.19951266e+02  5.10347252e+01\n",
      "  1.06497384e+02 -1.05982993e+02  2.51584773e+02  2.56409602e+00\n",
      "  7.37796260e+02  1.07976023e+03 -4.52563978e+03  1.53339753e+03\n",
      "  2.66057341e+03  1.79698385e+03  3.73503750e+02  1.74188812e+02\n",
      " -1.18806436e+03 -8.97523448e+02  1.38332544e+03  8.82232181e+02\n",
      "  1.90667325e+02]\n",
      "l erreur d apprentissage =  0\n",
      "\n",
      "\n"
     ]
    }
   ],
   "source": [
    "P = 208\n",
    "N = 60\n",
    "tau = data_label.reshape((P,1))\n",
    "alpha = 0.1\n",
    "nb_epochs = 10000\n",
    "Ealim=208\n",
    "\n",
    "print(\"======= version batch  =========\")\n",
    "W_batch = perceptron_version_batch(P, N, data, tau, alpha)\n",
    "print('le N+1 poid W est :','\\n', W_batch.squeeze())\n",
    "print('l erreur d apprentissage = ',erreur(data, W_batch, data_label.reshape((P,1)))) \n",
    "#print('l erreur de generalisation = ',erreur(test, W, test_label.reshape((P,1)))) \n",
    "print('\\n')   "
   ]
  },
  {
   "cell_type": "code",
   "execution_count": null,
   "id": "8e13c808",
   "metadata": {},
   "outputs": [],
   "source": []
  },
  {
   "cell_type": "code",
   "execution_count": null,
   "id": "db518342",
   "metadata": {},
   "outputs": [],
   "source": []
  }
 ],
 "metadata": {
  "kernelspec": {
   "display_name": "Python 3 (ipykernel)",
   "language": "python",
   "name": "python3"
  },
  "language_info": {
   "codemirror_mode": {
    "name": "ipython",
    "version": 3
   },
   "file_extension": ".py",
   "mimetype": "text/x-python",
   "name": "python",
   "nbconvert_exporter": "python",
   "pygments_lexer": "ipython3",
   "version": "3.9.12"
  }
 },
 "nbformat": 4,
 "nbformat_minor": 5
}
